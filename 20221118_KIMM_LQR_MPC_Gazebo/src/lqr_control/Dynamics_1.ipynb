{
 "cells": [
  {
   "cell_type": "code",
   "execution_count": 1,
   "metadata": {},
   "outputs": [],
   "source": [
    "import sympy as sp\n",
    "import numpy as np\n",
    "from sympy.physics.vector import dynamicsymbols\n",
    "from sympy.physics.vector import time_derivative\n",
    "from sympy.physics.vector import ReferenceFrame\n",
    "N = ReferenceFrame('N')\n",
    "import pylab as pl\n",
    "import control\n",
    "from EoM import *\n",
    "from sympy.physics.mechanics import *\n",
    "from numpy.linalg import matrix_rank, eig\n",
    "import math\n",
    "import intelligent_robotics as ir"
   ]
  },
  {
   "cell_type": "code",
   "execution_count": 2,
   "metadata": {},
   "outputs": [],
   "source": [
    "def rot_x(theta):\n",
    "    rot_x = sp.Matrix([[1,0,0],\n",
    "                       [0,sp.cos(theta),-sp.sin(theta)],\n",
    "                       [0,sp.sin(theta),sp.cos(theta)]])\n",
    "    return rot_x\n",
    "\n",
    "def rot_y(theta):\n",
    "    rot_y = sp.Matrix([[sp.cos(theta),0,sp.sin(theta)],\n",
    "                       [0,1,0],\n",
    "                       [-sp.sin(theta),0,sp.cos(theta)]])\n",
    "    return rot_y\n",
    "\n",
    "def rot_z(theta):\n",
    "    rot_z = sp.Matrix([[sp.cos(theta),-sp.sin(theta),0],\n",
    "                       [sp.sin(theta),sp.cos(theta),0],\n",
    "                       [0,0,1]])\n",
    "    return rot_z\n",
    "\n",
    "def trans(a,b,c):\n",
    "    x = sp.Matrix([[a],[b],[c]])\n",
    "    return x\n",
    "\n",
    "def get_torque_from_L(L,q,qd):\n",
    "    round_L_round_q = sp.zeros(len(q),1);\n",
    "    i = 0;\n",
    "    for q_i in q:\n",
    "        round_L_round_q_i = [];\n",
    "        round_L_round_q_i = sp.diff(L,q_i);\n",
    "        round_L_round_q[i] = round_L_round_q_i;\n",
    "        i+=1;\n",
    "     \n",
    "    d_dt_round_L_round_qd = sp.zeros(len(qd),1);\n",
    "    i = 0;\n",
    "    for qd_i in qd:\n",
    "        round_L_round_qd_i = [];\n",
    "        d_dt_round_L_round_qd_i = [];\n",
    "        round_L_round_qd_i = sp.diff(L,qd_i);\n",
    "        d_dt_round_L_round_qd_i = time_derivative(round_L_round_qd_i,N);\n",
    "        d_dt_round_L_round_qd[i] = d_dt_round_L_round_qd_i;\n",
    "        i+=1;\n",
    "        \n",
    "    tau = d_dt_round_L_round_qd - round_L_round_q \n",
    "    return tau"
   ]
  },
  {
   "cell_type": "code",
   "execution_count": 3,
   "metadata": {},
   "outputs": [],
   "source": [
    "r, l, D = sp.symbols('r, l, D')\n",
    "m_w, m_b, g = sp.symbols('m_w, m_b, g')\n",
    "I_w, I_b = sp.symbols('I_w, I_b')\n",
    "theta_P, theta_w1, theta_w2 = dynamicsymbols('theta_P, theta_w1, theta_w2')\n",
    "\n",
    "# Displacement Vector\n",
    "x_c1 = trans(r*theta_w1,0,0)\n",
    "x_w1 = x_c1 +  trans(0,D,r)\n",
    "x_c2 = trans(r*theta_w2,0,0)\n",
    "x_w2 = x_c2 +  trans(0,-D,r)\n",
    "x_b = 0.5*(x_w1 + x_w2) +  rot_y(theta_P) @ trans(0,0,l)\n",
    "\n",
    "\n",
    "# Velocity Vector\n",
    "v_w1 = sp.simplify(time_derivative(x_w1,N))\n",
    "v_w2 = sp.simplify(time_derivative(x_w2,N))\n",
    "v_b = sp.simplify(time_derivative(x_b,N))\n",
    "\n",
    "# Angular Velocity Vector\n",
    "w_w1 = trans(0, theta_w1.diff(), 0)\n",
    "w_w2 = trans(0, theta_w2.diff(), 0)\n",
    "w_b = trans(0, theta_P.diff(), 0)\n",
    "\n",
    "\n",
    "# Generalized Coordinates\n",
    "q = sp.Matrix([[theta_w1], [theta_w2], [theta_P]])\n",
    "qd = q.diff()\n",
    "qdd = qd.diff()\n",
    "\n",
    "# Kinetic Energy\n",
    "T_trans = 0.5*(m_w*v_w1.dot(v_w1) + m_w*v_w2.dot(v_w2) + m_b*v_b.dot(v_b))\n",
    "#T_body = I_by * w_b[1]**2 \n",
    "#T_wheel = I_wy * w_w[1]**2\n",
    "\n",
    "T_body = I_b* w_b[1]**2 \n",
    "T_wheel1 =I_w* w_w1[1]**2 \n",
    "T_wheel2 =I_w* w_w2[1]**2 \n",
    "#T_motor = I_my * n**2 * (theta_w.diff() - theta_P.diff())**2\n",
    "#T_gimbal_right = I_lfx * w_lf[0]**2 + I_lfy * w_lf[1]**2 + I_lfz * theta_gb.diff()**2\n",
    "#T_gimbal_left = I_rfx * w_rf[0]**2 + I_rfy * w_rf[1]**2 + I_rfz * theta_gb.diff()**2\n",
    "T_rot = 0.5*(T_body + T_wheel1  +  T_wheel2)\n",
    "\n",
    "#T_rot = 0.5*(I_wy*w_w[1]**2 + I_by*w_b[1]**2 + I_my*n*n*(theta_w.diff()**2) + I_lfz*w_lf[2]**2 + I_rfz*w_rf[2]**2 + I_lfy*w_lf[1]**2 + I_rfy*w_rf[1]**2)\n",
    "#I_my*n*n*(theta_w.diff()-theta_P.diff())**2,  I_bx*(theta_R.diff()-theta_gb.diff())**2\n",
    "# Potential Energy\n",
    "V =  m_b*g*(l*sp.cos(theta_P)) + 2*m_w*g*r \n",
    "\n",
    "# Lagrangian\n",
    "L = T_trans + T_rot - V\n"
   ]
  },
  {
   "cell_type": "code",
   "execution_count": 4,
   "metadata": {},
   "outputs": [
    {
     "data": {
      "text/latex": [
       "$\\displaystyle 0.5 m_{b} \\left(l^{2} \\sin^{2}{\\left(\\theta_{P}{\\left(t \\right)} \\right)} \\left(\\frac{d}{d t} \\theta_{P}{\\left(t \\right)}\\right)^{2} + \\left(l \\cos{\\left(\\theta_{P}{\\left(t \\right)} \\right)} \\frac{d}{d t} \\theta_{P}{\\left(t \\right)} + 0.5 r \\frac{d}{d t} \\theta_{w1}{\\left(t \\right)} + 0.5 r \\frac{d}{d t} \\theta_{w2}{\\left(t \\right)}\\right)^{2}\\right) + 0.5 m_{w} r^{2} \\left(\\frac{d}{d t} \\theta_{w1}{\\left(t \\right)}\\right)^{2} + 0.5 m_{w} r^{2} \\left(\\frac{d}{d t} \\theta_{w2}{\\left(t \\right)}\\right)^{2}$"
      ],
      "text/plain": [
       "0.5*m_b*(l**2*sin(theta_P(t))**2*Derivative(theta_P(t), t)**2 + (l*cos(theta_P(t))*Derivative(theta_P(t), t) + 0.5*r*Derivative(theta_w1(t), t) + 0.5*r*Derivative(theta_w2(t), t))**2) + 0.5*m_w*r**2*Derivative(theta_w1(t), t)**2 + 0.5*m_w*r**2*Derivative(theta_w2(t), t)**2"
      ]
     },
     "execution_count": 4,
     "metadata": {},
     "output_type": "execute_result"
    }
   ],
   "source": [
    "T_trans"
   ]
  },
  {
   "cell_type": "code",
   "execution_count": 5,
   "metadata": {},
   "outputs": [],
   "source": [
    "tau = get_torque_from_L(L,q,qd)\n",
    "tau = sp.simplify(tau)\n",
    "# Ml, Cl, Gl, Wl = ir.get_EoM_from_T(tau,qdd,g)\n",
    "# Ml, Cl, Gl, Wl"
   ]
  },
  {
   "cell_type": "code",
   "execution_count": 6,
   "metadata": {},
   "outputs": [
    {
     "data": {
      "text/latex": [
       "$\\displaystyle \\left[\\begin{matrix}1.0 I_{w} \\frac{d^{2}}{d t^{2}} \\theta_{w1}{\\left(t \\right)} + 0.5 m_{b} r \\left(- l \\sin{\\left(\\theta_{P}{\\left(t \\right)} \\right)} \\left(\\frac{d}{d t} \\theta_{P}{\\left(t \\right)}\\right)^{2} + l \\cos{\\left(\\theta_{P}{\\left(t \\right)} \\right)} \\frac{d^{2}}{d t^{2}} \\theta_{P}{\\left(t \\right)} + 0.5 r \\frac{d^{2}}{d t^{2}} \\theta_{w1}{\\left(t \\right)} + 0.5 r \\frac{d^{2}}{d t^{2}} \\theta_{w2}{\\left(t \\right)}\\right) + 1.0 m_{w} r^{2} \\frac{d^{2}}{d t^{2}} \\theta_{w1}{\\left(t \\right)}\\\\1.0 I_{w} \\frac{d^{2}}{d t^{2}} \\theta_{w2}{\\left(t \\right)} + 0.5 m_{b} r \\left(- l \\sin{\\left(\\theta_{P}{\\left(t \\right)} \\right)} \\left(\\frac{d}{d t} \\theta_{P}{\\left(t \\right)}\\right)^{2} + l \\cos{\\left(\\theta_{P}{\\left(t \\right)} \\right)} \\frac{d^{2}}{d t^{2}} \\theta_{P}{\\left(t \\right)} + 0.5 r \\frac{d^{2}}{d t^{2}} \\theta_{w1}{\\left(t \\right)} + 0.5 r \\frac{d^{2}}{d t^{2}} \\theta_{w2}{\\left(t \\right)}\\right) + 1.0 m_{w} r^{2} \\frac{d^{2}}{d t^{2}} \\theta_{w2}{\\left(t \\right)}\\\\1.0 I_{b} \\frac{d^{2}}{d t^{2}} \\theta_{P}{\\left(t \\right)} - 1.0 g l m_{b} \\sin{\\left(\\theta_{P}{\\left(t \\right)} \\right)} + 1.0 l^{2} m_{b} \\frac{d^{2}}{d t^{2}} \\theta_{P}{\\left(t \\right)} + 0.5 l m_{b} r \\cos{\\left(\\theta_{P}{\\left(t \\right)} \\right)} \\frac{d^{2}}{d t^{2}} \\theta_{w1}{\\left(t \\right)} + 0.5 l m_{b} r \\cos{\\left(\\theta_{P}{\\left(t \\right)} \\right)} \\frac{d^{2}}{d t^{2}} \\theta_{w2}{\\left(t \\right)}\\end{matrix}\\right]$"
      ],
      "text/plain": [
       "Matrix([\n",
       "[1.0*I_w*Derivative(theta_w1(t), (t, 2)) + 0.5*m_b*r*(-l*sin(theta_P(t))*Derivative(theta_P(t), t)**2 + l*cos(theta_P(t))*Derivative(theta_P(t), (t, 2)) + 0.5*r*Derivative(theta_w1(t), (t, 2)) + 0.5*r*Derivative(theta_w2(t), (t, 2))) + 1.0*m_w*r**2*Derivative(theta_w1(t), (t, 2))],\n",
       "[1.0*I_w*Derivative(theta_w2(t), (t, 2)) + 0.5*m_b*r*(-l*sin(theta_P(t))*Derivative(theta_P(t), t)**2 + l*cos(theta_P(t))*Derivative(theta_P(t), (t, 2)) + 0.5*r*Derivative(theta_w1(t), (t, 2)) + 0.5*r*Derivative(theta_w2(t), (t, 2))) + 1.0*m_w*r**2*Derivative(theta_w2(t), (t, 2))],\n",
       "[                                         1.0*I_b*Derivative(theta_P(t), (t, 2)) - 1.0*g*l*m_b*sin(theta_P(t)) + 1.0*l**2*m_b*Derivative(theta_P(t), (t, 2)) + 0.5*l*m_b*r*cos(theta_P(t))*Derivative(theta_w1(t), (t, 2)) + 0.5*l*m_b*r*cos(theta_P(t))*Derivative(theta_w2(t), (t, 2))]])"
      ]
     },
     "execution_count": 6,
     "metadata": {},
     "output_type": "execute_result"
    }
   ],
   "source": [
    "tau"
   ]
  },
  {
   "cell_type": "code",
   "execution_count": 7,
   "metadata": {},
   "outputs": [],
   "source": [
    "T_w1, T_w2 = sp.symbols('T_w1, T_w2')\n",
    "u = sp.Matrix([[T_w1], [T_w2]])\n",
    "\n",
    "u_matrix = sp.Matrix([[-T_w1], [-T_w2], [ T_w1+ T_w2]])"
   ]
  },
  {
   "cell_type": "code",
   "execution_count": 8,
   "metadata": {},
   "outputs": [],
   "source": [
    "tau_eq = tau+u_matrix"
   ]
  },
  {
   "cell_type": "code",
   "execution_count": 9,
   "metadata": {},
   "outputs": [],
   "source": [
    "M, C, G, W = get_EoM_from_T(tau_eq,qdd,g, u)"
   ]
  },
  {
   "cell_type": "code",
   "execution_count": 10,
   "metadata": {},
   "outputs": [
    {
     "data": {
      "text/latex": [
       "$\\displaystyle \\left[\\begin{matrix}1.0 I_{w} + 0.25 m_{b} r^{2} + 1.0 m_{w} r^{2} & 0.25 m_{b} r^{2} & 0.5 l m_{b} r \\cos{\\left(\\theta_{P}{\\left(t \\right)} \\right)}\\\\0.25 m_{b} r^{2} & 1.0 I_{w} + 0.25 m_{b} r^{2} + 1.0 m_{w} r^{2} & 0.5 l m_{b} r \\cos{\\left(\\theta_{P}{\\left(t \\right)} \\right)}\\\\0.5 l m_{b} r \\cos{\\left(\\theta_{P}{\\left(t \\right)} \\right)} & 0.5 l m_{b} r \\cos{\\left(\\theta_{P}{\\left(t \\right)} \\right)} & 1.0 I_{b} + 1.0 l^{2} m_{b}\\end{matrix}\\right]$"
      ],
      "text/plain": [
       "Matrix([\n",
       "[1.0*I_w + 0.25*m_b*r**2 + 1.0*m_w*r**2,                          0.25*m_b*r**2, 0.5*l*m_b*r*cos(theta_P(t))],\n",
       "[                         0.25*m_b*r**2, 1.0*I_w + 0.25*m_b*r**2 + 1.0*m_w*r**2, 0.5*l*m_b*r*cos(theta_P(t))],\n",
       "[           0.5*l*m_b*r*cos(theta_P(t)),            0.5*l*m_b*r*cos(theta_P(t)),      1.0*I_b + 1.0*l**2*m_b]])"
      ]
     },
     "execution_count": 10,
     "metadata": {},
     "output_type": "execute_result"
    }
   ],
   "source": [
    "M"
   ]
  },
  {
   "cell_type": "code",
   "execution_count": 11,
   "metadata": {},
   "outputs": [
    {
     "data": {
      "text/latex": [
       "$\\displaystyle \\left[\\begin{matrix}- 0.5 l m_{b} r \\sin{\\left(\\theta_{P}{\\left(t \\right)} \\right)} \\left(\\frac{d}{d t} \\theta_{P}{\\left(t \\right)}\\right)^{2}\\\\- 0.5 l m_{b} r \\sin{\\left(\\theta_{P}{\\left(t \\right)} \\right)} \\left(\\frac{d}{d t} \\theta_{P}{\\left(t \\right)}\\right)^{2}\\\\0\\end{matrix}\\right]$"
      ],
      "text/plain": [
       "Matrix([\n",
       "[-0.5*l*m_b*r*sin(theta_P(t))*Derivative(theta_P(t), t)**2],\n",
       "[-0.5*l*m_b*r*sin(theta_P(t))*Derivative(theta_P(t), t)**2],\n",
       "[                                                        0]])"
      ]
     },
     "execution_count": 11,
     "metadata": {},
     "output_type": "execute_result"
    }
   ],
   "source": [
    "C"
   ]
  },
  {
   "cell_type": "code",
   "execution_count": 12,
   "metadata": {},
   "outputs": [
    {
     "data": {
      "text/latex": [
       "$\\displaystyle \\left[\\begin{matrix}0\\\\0\\\\- 1.0 g l m_{b} \\sin{\\left(\\theta_{P}{\\left(t \\right)} \\right)}\\end{matrix}\\right]$"
      ],
      "text/plain": [
       "Matrix([\n",
       "[                           0],\n",
       "[                           0],\n",
       "[-1.0*g*l*m_b*sin(theta_P(t))]])"
      ]
     },
     "execution_count": 12,
     "metadata": {},
     "output_type": "execute_result"
    }
   ],
   "source": [
    "G"
   ]
  },
  {
   "cell_type": "code",
   "execution_count": 13,
   "metadata": {},
   "outputs": [
    {
     "data": {
      "text/latex": [
       "$\\displaystyle \\left[\\begin{matrix}1 & 0\\\\0 & 1\\\\-1 & -1\\end{matrix}\\right]$"
      ],
      "text/plain": [
       "Matrix([\n",
       "[ 1,  0],\n",
       "[ 0,  1],\n",
       "[-1, -1]])"
      ]
     },
     "execution_count": 13,
     "metadata": {},
     "output_type": "execute_result"
    }
   ],
   "source": [
    "W"
   ]
  },
  {
   "cell_type": "code",
   "execution_count": 14,
   "metadata": {},
   "outputs": [
    {
     "data": {
      "text/latex": [
       "$\\displaystyle \\left[\\begin{matrix}1.0 I_{w} \\frac{d^{2}}{d t^{2}} \\theta_{w1}{\\left(t \\right)} - T_{w1} + 0.5 m_{b} r \\left(l \\frac{d^{2}}{d t^{2}} \\theta_{P}{\\left(t \\right)} + 0.5 r \\frac{d^{2}}{d t^{2}} \\theta_{w1}{\\left(t \\right)} + 0.5 r \\frac{d^{2}}{d t^{2}} \\theta_{w2}{\\left(t \\right)}\\right) + 1.0 m_{w} r^{2} \\frac{d^{2}}{d t^{2}} \\theta_{w1}{\\left(t \\right)}\\\\1.0 I_{w} \\frac{d^{2}}{d t^{2}} \\theta_{w2}{\\left(t \\right)} - T_{w2} + 0.5 m_{b} r \\left(l \\frac{d^{2}}{d t^{2}} \\theta_{P}{\\left(t \\right)} + 0.5 r \\frac{d^{2}}{d t^{2}} \\theta_{w1}{\\left(t \\right)} + 0.5 r \\frac{d^{2}}{d t^{2}} \\theta_{w2}{\\left(t \\right)}\\right) + 1.0 m_{w} r^{2} \\frac{d^{2}}{d t^{2}} \\theta_{w2}{\\left(t \\right)}\\\\1.0 I_{b} \\frac{d^{2}}{d t^{2}} \\theta_{P}{\\left(t \\right)} + T_{w1} + T_{w2} - 1.0 g l m_{b} \\theta_{P}{\\left(t \\right)} + 1.0 l^{2} m_{b} \\frac{d^{2}}{d t^{2}} \\theta_{P}{\\left(t \\right)} + 0.5 l m_{b} r \\frac{d^{2}}{d t^{2}} \\theta_{w1}{\\left(t \\right)} + 0.5 l m_{b} r \\frac{d^{2}}{d t^{2}} \\theta_{w2}{\\left(t \\right)}\\end{matrix}\\right]$"
      ],
      "text/plain": [
       "Matrix([\n",
       "[1.0*I_w*Derivative(theta_w1(t), (t, 2)) - T_w1 + 0.5*m_b*r*(l*Derivative(theta_P(t), (t, 2)) + 0.5*r*Derivative(theta_w1(t), (t, 2)) + 0.5*r*Derivative(theta_w2(t), (t, 2))) + 1.0*m_w*r**2*Derivative(theta_w1(t), (t, 2))],\n",
       "[1.0*I_w*Derivative(theta_w2(t), (t, 2)) - T_w2 + 0.5*m_b*r*(l*Derivative(theta_P(t), (t, 2)) + 0.5*r*Derivative(theta_w1(t), (t, 2)) + 0.5*r*Derivative(theta_w2(t), (t, 2))) + 1.0*m_w*r**2*Derivative(theta_w2(t), (t, 2))],\n",
       "[     1.0*I_b*Derivative(theta_P(t), (t, 2)) + T_w1 + T_w2 - 1.0*g*l*m_b*theta_P(t) + 1.0*l**2*m_b*Derivative(theta_P(t), (t, 2)) + 0.5*l*m_b*r*Derivative(theta_w1(t), (t, 2)) + 0.5*l*m_b*r*Derivative(theta_w2(t), (t, 2))]])"
      ]
     },
     "execution_count": 14,
     "metadata": {},
     "output_type": "execute_result"
    }
   ],
   "source": [
    "linearlize_eq = {sp.sin(theta_P):theta_P, sp.cos(theta_P):1, theta_P.diff()**2:0}\n",
    "tau_linear = sp.simplify(tau_eq.subs(linearlize_eq))\n",
    "tau_linear"
   ]
  },
  {
   "cell_type": "code",
   "execution_count": 15,
   "metadata": {},
   "outputs": [],
   "source": [
    "Ml, Cl, Gl, Wl = get_EoM_from_T(tau_linear,qdd,g, u)"
   ]
  },
  {
   "cell_type": "code",
   "execution_count": 16,
   "metadata": {},
   "outputs": [
    {
     "data": {
      "text/latex": [
       "$\\displaystyle \\left[\\begin{matrix}1.0 I_{w} + 0.25 m_{b} r^{2} + 1.0 m_{w} r^{2} & 0.25 m_{b} r^{2} & 0.5 l m_{b} r\\\\0.25 m_{b} r^{2} & 1.0 I_{w} + 0.25 m_{b} r^{2} + 1.0 m_{w} r^{2} & 0.5 l m_{b} r\\\\0.5 l m_{b} r & 0.5 l m_{b} r & 1.0 I_{b} + 1.0 l^{2} m_{b}\\end{matrix}\\right]$"
      ],
      "text/plain": [
       "Matrix([\n",
       "[1.0*I_w + 0.25*m_b*r**2 + 1.0*m_w*r**2,                          0.25*m_b*r**2,            0.5*l*m_b*r],\n",
       "[                         0.25*m_b*r**2, 1.0*I_w + 0.25*m_b*r**2 + 1.0*m_w*r**2,            0.5*l*m_b*r],\n",
       "[                           0.5*l*m_b*r,                            0.5*l*m_b*r, 1.0*I_b + 1.0*l**2*m_b]])"
      ]
     },
     "execution_count": 16,
     "metadata": {},
     "output_type": "execute_result"
    }
   ],
   "source": [
    "Ml"
   ]
  },
  {
   "cell_type": "code",
   "execution_count": 17,
   "metadata": {},
   "outputs": [
    {
     "data": {
      "text/latex": [
       "$\\displaystyle \\left[\\begin{matrix}0\\\\0\\\\0\\end{matrix}\\right]$"
      ],
      "text/plain": [
       "Matrix([\n",
       "[0],\n",
       "[0],\n",
       "[0]])"
      ]
     },
     "execution_count": 17,
     "metadata": {},
     "output_type": "execute_result"
    }
   ],
   "source": [
    "Cl"
   ]
  },
  {
   "cell_type": "code",
   "execution_count": 18,
   "metadata": {},
   "outputs": [
    {
     "data": {
      "text/latex": [
       "$\\displaystyle \\left[\\begin{matrix}0\\\\0\\\\- 1.0 g l m_{b} \\theta_{P}{\\left(t \\right)}\\end{matrix}\\right]$"
      ],
      "text/plain": [
       "Matrix([\n",
       "[                      0],\n",
       "[                      0],\n",
       "[-1.0*g*l*m_b*theta_P(t)]])"
      ]
     },
     "execution_count": 18,
     "metadata": {},
     "output_type": "execute_result"
    }
   ],
   "source": [
    "Gl"
   ]
  },
  {
   "cell_type": "code",
   "execution_count": 19,
   "metadata": {},
   "outputs": [
    {
     "data": {
      "text/latex": [
       "$\\displaystyle \\left[\\begin{matrix}1 & 0\\\\0 & 1\\\\-1 & -1\\end{matrix}\\right]$"
      ],
      "text/plain": [
       "Matrix([\n",
       "[ 1,  0],\n",
       "[ 0,  1],\n",
       "[-1, -1]])"
      ]
     },
     "execution_count": 19,
     "metadata": {},
     "output_type": "execute_result"
    }
   ],
   "source": [
    "Wl"
   ]
  },
  {
   "cell_type": "code",
   "execution_count": 20,
   "metadata": {},
   "outputs": [
    {
     "name": "stdout",
     "output_type": "stream",
     "text": [
      "A = [[  0.           0.           0.           1.           0.\n",
      "        0.        ]\n",
      "     [  0.           0.           0.           0.           1.\n",
      "        0.        ]\n",
      "     [  0.           0.           0.           0.           0.\n",
      "        1.        ]\n",
      "     [  0.           0.         -37.23668979   0.           0.\n",
      "        0.        ]\n",
      "     [  0.           0.         -37.23668979   0.           0.\n",
      "        0.        ]\n",
      "     [  0.           0.          52.35843714   0.           0.\n",
      "        0.        ]]\n",
      "\n",
      "B = [[ 0.          0.        ]\n",
      "     [ 0.          0.        ]\n",
      "     [ 0.          0.        ]\n",
      "     [ 9.54194701 -0.64401618]\n",
      "     [-0.64401618  9.54194701]\n",
      "     [-3.2045756  -3.2045756 ]]\n",
      "\n",
      "C = [[1. 0. 0. 0. 0. 0.]\n",
      "     [0. 1. 0. 0. 0. 0.]\n",
      "     [0. 0. 1. 0. 0. 0.]\n",
      "     [0. 0. 0. 1. 0. 0.]\n",
      "     [0. 0. 0. 0. 1. 0.]\n",
      "     [0. 0. 0. 0. 0. 1.]]\n",
      "\n",
      "D = [[0. 0.]\n",
      "     [0. 0.]\n",
      "     [0. 0.]\n",
      "     [0. 0.]\n",
      "     [0. 0.]\n",
      "     [0. 0.]]\n",
      "\n"
     ]
    }
   ],
   "source": [
    "param = {I_w:0.032049319, I_b:0.360949559, m_b:20, m_w:5, r:0.115,l:0.1425,  g:9.81}\n",
    "\n",
    "Mlp = msubs(Ml, param)\n",
    "Clp = msubs(Cl, param)\n",
    "Glp = msubs(Gl, param)\n",
    "Wlp = msubs(Wl, param)\n",
    "\n",
    "Mlp_inv = Mlp.inv()\n",
    "qdd_rhs_A = Mlp_inv*(-Clp -Glp)\n",
    "qdd_rhs_B = Mlp_inv*Wlp*u\n",
    "\n",
    "X = q.col_join(qd)\n",
    "Xd_A = qd.col_join(qdd_rhs_A)\n",
    "Xd_B = qd.col_join(qdd_rhs_B)\n",
    "U = u\n",
    "\n",
    "A = Xd_A.jacobian(X)\n",
    "B = Xd_B.jacobian(U)\n",
    "C = X.jacobian(X)\n",
    "D = X.jacobian(U)\n",
    "\n",
    "ss0 = [A, B, C, D]\n",
    "sys0 = control.ss(*[pl.array(mat_i.subs(param)).astype(float) for mat_i in ss0])\n",
    "mprint(sys0)"
   ]
  },
  {
   "cell_type": "code",
   "execution_count": 110,
   "metadata": {},
   "outputs": [],
   "source": [
    "Q = sp.Matrix([ [0.3,  0,    0,    0,    0,    0],\n",
    "                [0,    0.3,  0,    0,    0,    0],\n",
    "                [0,    0,    0.01, 0,    0,    0],\n",
    "                [0,    0,    0,    0.1,  0,    0],\n",
    "                [0,    0,    0,    0,    0.1,  0],\n",
    "                [0,    0,    0,    0,    0,    0.01]])\n",
    "\n",
    "R = sp.Matrix([ [1, 0],\n",
    "                [0, 1]])"
   ]
  },
  {
   "cell_type": "code",
   "execution_count": 111,
   "metadata": {},
   "outputs": [],
   "source": [
    "K, S, E = control.lqr(A, B, Q, R)"
   ]
  },
  {
   "cell_type": "code",
   "execution_count": 113,
   "metadata": {},
   "outputs": [
    {
     "data": {
      "text/plain": [
       "array([[ 8.76345976e-16, -5.47722558e-01, -7.68659094e+01,\n",
       "        -2.51964991e-01, -1.12736476e+00, -1.53373831e+01],\n",
       "       [-5.47722558e-01, -1.87198599e-14, -7.68659094e+01,\n",
       "        -1.12736476e+00, -2.51964991e-01, -1.53373831e+01]])"
      ]
     },
     "execution_count": 113,
     "metadata": {},
     "output_type": "execute_result"
    }
   ],
   "source": [
    "K"
   ]
  },
  {
   "cell_type": "code",
   "execution_count": 116,
   "metadata": {},
   "outputs": [
    {
     "data": {
      "text/plain": [
       "array([ 8.76345976e-16, -5.47722558e-01, -7.68659094e+01, -2.51964991e-01,\n",
       "       -1.12736476e+00, -1.53373831e+01])"
      ]
     },
     "execution_count": 116,
     "metadata": {},
     "output_type": "execute_result"
    }
   ],
   "source": [
    "K[0]"
   ]
  },
  {
   "cell_type": "code",
   "execution_count": 118,
   "metadata": {},
   "outputs": [
    {
     "data": {
      "text/plain": [
       "array([-76.86590936,  -0.25196499,  -1.12736476, -15.33738306])"
      ]
     },
     "execution_count": 118,
     "metadata": {},
     "output_type": "execute_result"
    }
   ],
   "source": [
    "K[0][2:6]"
   ]
  },
  {
   "cell_type": "code",
   "execution_count": null,
   "metadata": {},
   "outputs": [],
   "source": []
  }
 ],
 "metadata": {
  "kernelspec": {
   "display_name": "Python 3.7.11 ('py37')",
   "language": "python",
   "name": "python3"
  },
  "language_info": {
   "codemirror_mode": {
    "name": "ipython",
    "version": 3
   },
   "file_extension": ".py",
   "mimetype": "text/x-python",
   "name": "python",
   "nbconvert_exporter": "python",
   "pygments_lexer": "ipython3",
   "version": "3.7.11"
  },
  "vscode": {
   "interpreter": {
    "hash": "f2376f10e5480d9dd8a0eeeaa81051e72d24d2357c52529331f089560bf138e7"
   }
  }
 },
 "nbformat": 4,
 "nbformat_minor": 4
}
