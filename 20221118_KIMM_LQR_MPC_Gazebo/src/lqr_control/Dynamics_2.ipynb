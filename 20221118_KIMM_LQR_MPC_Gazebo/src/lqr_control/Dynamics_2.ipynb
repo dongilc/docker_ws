{
 "cells": [
  {
   "cell_type": "code",
   "execution_count": 1,
   "metadata": {},
   "outputs": [],
   "source": [
    "import sympy as sp\n",
    "import numpy as np\n",
    "from sympy.physics.vector import dynamicsymbols\n",
    "from sympy.physics.vector import time_derivative\n",
    "from sympy.physics.vector import ReferenceFrame\n",
    "N = ReferenceFrame('N')\n",
    "import pylab as pl\n",
    "import control\n",
    "from EoM import *\n",
    "from sympy.physics.mechanics import *\n",
    "from numpy.linalg import matrix_rank, eig\n",
    "import math\n",
    "import intelligent_robotics as ir"
   ]
  },
  {
   "cell_type": "code",
   "execution_count": 2,
   "metadata": {},
   "outputs": [],
   "source": [
    "def rot_x(theta):\n",
    "    rot_x = sp.Matrix([[1,0,0],\n",
    "                       [0,sp.cos(theta),-sp.sin(theta)],\n",
    "                       [0,sp.sin(theta),sp.cos(theta)]])\n",
    "    return rot_x\n",
    "\n",
    "def rot_y(theta):\n",
    "    rot_y = sp.Matrix([[sp.cos(theta),0,sp.sin(theta)],\n",
    "                       [0,1,0],\n",
    "                       [-sp.sin(theta),0,sp.cos(theta)]])\n",
    "    return rot_y\n",
    "\n",
    "def rot_z(theta):\n",
    "    rot_z = sp.Matrix([[sp.cos(theta),-sp.sin(theta),0],\n",
    "                       [sp.sin(theta),sp.cos(theta),0],\n",
    "                       [0,0,1]])\n",
    "    return rot_z\n",
    "\n",
    "def trans(a,b,c):\n",
    "    x = sp.Matrix([[a],[b],[c]])\n",
    "    return x\n",
    "\n",
    "def get_torque_from_L(L,q,qd):\n",
    "    round_L_round_q = sp.zeros(len(q),1);\n",
    "    i = 0;\n",
    "    for q_i in q:\n",
    "        round_L_round_q_i = [];\n",
    "        round_L_round_q_i = sp.diff(L,q_i);\n",
    "        round_L_round_q[i] = round_L_round_q_i;\n",
    "        i+=1;\n",
    "     \n",
    "    d_dt_round_L_round_qd = sp.zeros(len(qd),1);\n",
    "    i = 0;\n",
    "    for qd_i in qd:\n",
    "        round_L_round_qd_i = [];\n",
    "        d_dt_round_L_round_qd_i = [];\n",
    "        round_L_round_qd_i = sp.diff(L,qd_i);\n",
    "        d_dt_round_L_round_qd_i = time_derivative(round_L_round_qd_i,N);\n",
    "        d_dt_round_L_round_qd[i] = d_dt_round_L_round_qd_i;\n",
    "        i+=1;\n",
    "        \n",
    "    tau = d_dt_round_L_round_qd - round_L_round_q \n",
    "    return tau"
   ]
  },
  {
   "cell_type": "code",
   "execution_count": 43,
   "metadata": {},
   "outputs": [],
   "source": [
    "r, l, W = sp.symbols('r, l, W')\n",
    "m_w, m_b, g = sp.symbols('m_w, m_b, g')\n",
    "I_w, I_by, I_bz = sp.symbols('I_w, I_by, I_bz')\n",
    "theta_P, theta_Y, theta_w, theta_wr, theta_wl = dynamicsymbols('theta_P, theta_Y, theta_w, theta_wr, theta_wl')\n",
    "\n",
    "# Displacement Vector\n",
    "x_c = rot_z(theta_Y) @trans(r*theta_w,0,0)\n",
    "x_w = x_c +  trans(0,0,r)\n",
    "x_wl = x_w +  rot_z(theta_Y) @trans(0,W/2,0)\n",
    "x_wr = x_w +  rot_z(theta_Y) @trans(0,-W/2,0)\n",
    "x_b = x_w +  rot_z(theta_Y) @rot_y(theta_P) @ trans(0,0,l)\n",
    "\n",
    "\n",
    "\n",
    "# Velocity Vector\n",
    "v_wl= sp.simplify(time_derivative(x_wl,N))\n",
    "v_wr = sp.simplify(time_derivative(x_wr,N))\n",
    "v_b = sp.simplify(time_derivative(x_b,N))\n",
    "\n",
    "# theta_w = (theta_wl + theta_wr)/2\n",
    "\n",
    "# Angular Velocity Vector\n",
    "w_w = trans(0, theta_w.diff(), 0)\n",
    "w_wr = trans(0, theta_wr.diff(), 0)\n",
    "w_wl = trans(0, theta_wl.diff(), 0)\n",
    "w_b = trans(0, theta_P.diff(), theta_Y.diff())\n",
    "\n",
    "# Generalized Coordinates\n",
    "q = sp.Matrix([[theta_w], [theta_P], [theta_Y]])\n",
    "qd = q.diff()\n",
    "qdd = qd.diff()\n",
    "\n",
    "# Kinetic Energy\n",
    "T_trans = 0.5*(m_w*v_wl.dot(v_wl) + m_w*v_wr.dot(v_wr) + m_b*v_b.dot(v_b))\n",
    "#T_body = I_by * w_b[1]**2 \n",
    "#T_wheel = I_wy * w_w[1]**2\n",
    "\n",
    "T_body = I_by * w_b[1]**2 + I_bz * w_b[2]**2 \n",
    "T_wheel = I_w * w_wr[1]**2 + I_w * w_wl[1]**2\n",
    "#T_motor = I_my * n**2 * (theta_w.diff() - theta_P.diff())**2\n",
    "#T_gimbal_right = I_lfx * w_lf[0]**2 + I_lfy * w_lf[1]**2 + I_lfz * theta_gb.diff()**2\n",
    "#T_gimbal_left = I_rfx * w_rf[0]**2 + I_rfy * w_rf[1]**2 + I_rfz * theta_gb.diff()**2\n",
    "T_rot = 0.5*(T_body + T_wheel)\n",
    "\n",
    "#T_rot = 0.5*(I_wy*w_w[1]**2 + I_by*w_b[1]**2 + I_my*n*n*(theta_w.diff()**2) + I_lfz*w_lf[2]**2 + I_rfz*w_rf[2]**2 + I_lfy*w_lf[1]**2 + I_rfy*w_rf[1]**2)\n",
    "#I_my*n*n*(theta_w.diff()-theta_P.diff())**2,  I_bx*(theta_R.diff()-theta_gb.diff())**2\n",
    "# Potential Energy\n",
    "V =  m_b*g*x_b[2]+m_w*g*x_wl[2]++m_w*g*x_wr[2]\n",
    "\n",
    "# Lagrangian\n",
    "L = T_trans + T_rot - V\n"
   ]
  },
  {
   "cell_type": "code",
   "execution_count": 44,
   "metadata": {},
   "outputs": [],
   "source": [
    "tau = get_torque_from_L(L,q,qd)\n",
    "# tau = sp.simplify(tau)\n",
    "# Ml, Cl, Gl, Wl = ir.get_EoM_from_T(tau,qdd,g)\n",
    "# Ml, Cl, Gl, Wl"
   ]
  },
  {
   "cell_type": "code",
   "execution_count": 55,
   "metadata": {},
   "outputs": [
    {
     "data": {
      "text/latex": [
       "$\\displaystyle \\left[\\begin{matrix}r \\left(- 1.0 l m_{b} \\sin{\\left(\\theta_{P}{\\left(t \\right)} \\right)} \\left(\\frac{d}{d t} \\theta_{P}{\\left(t \\right)}\\right)^{2} - 1.0 l m_{b} \\sin{\\left(\\theta_{P}{\\left(t \\right)} \\right)} \\left(\\frac{d}{d t} \\theta_{Y}{\\left(t \\right)}\\right)^{2} + 1.0 l m_{b} \\cos{\\left(\\theta_{P}{\\left(t \\right)} \\right)} \\frac{d^{2}}{d t^{2}} \\theta_{P}{\\left(t \\right)} - 1.0 m_{b} r \\theta_{w}{\\left(t \\right)} \\left(\\frac{d}{d t} \\theta_{Y}{\\left(t \\right)}\\right)^{2} + 1.0 m_{b} r \\frac{d^{2}}{d t^{2}} \\theta_{w}{\\left(t \\right)} - 2.0 m_{w} r \\theta_{w}{\\left(t \\right)} \\left(\\frac{d}{d t} \\theta_{Y}{\\left(t \\right)}\\right)^{2} + 2.0 m_{w} r \\frac{d^{2}}{d t^{2}} \\theta_{w}{\\left(t \\right)}\\right)\\\\1.0 I_{by} \\frac{d^{2}}{d t^{2}} \\theta_{P}{\\left(t \\right)} - 1.0 g l m_{b} \\sin{\\left(\\theta_{P}{\\left(t \\right)} \\right)} - 0.5 l^{2} m_{b} \\sin{\\left(2 \\theta_{P}{\\left(t \\right)} \\right)} \\left(\\frac{d}{d t} \\theta_{Y}{\\left(t \\right)}\\right)^{2} + 1.0 l^{2} m_{b} \\frac{d^{2}}{d t^{2}} \\theta_{P}{\\left(t \\right)} - 1.0 l m_{b} r \\theta_{w}{\\left(t \\right)} \\cos{\\left(\\theta_{P}{\\left(t \\right)} \\right)} \\left(\\frac{d}{d t} \\theta_{Y}{\\left(t \\right)}\\right)^{2} + 1.0 l m_{b} r \\cos{\\left(\\theta_{P}{\\left(t \\right)} \\right)} \\frac{d^{2}}{d t^{2}} \\theta_{w}{\\left(t \\right)}\\\\1.0 I_{bz} \\frac{d^{2}}{d t^{2}} \\theta_{Y}{\\left(t \\right)} + 0.5 W^{2} m_{w} \\frac{d^{2}}{d t^{2}} \\theta_{Y}{\\left(t \\right)} + 1.0 l^{2} m_{b} \\sin{\\left(2 \\theta_{P}{\\left(t \\right)} \\right)} \\frac{d}{d t} \\theta_{P}{\\left(t \\right)} \\frac{d}{d t} \\theta_{Y}{\\left(t \\right)} - 0.5 l^{2} m_{b} \\cos{\\left(2 \\theta_{P}{\\left(t \\right)} \\right)} \\frac{d^{2}}{d t^{2}} \\theta_{Y}{\\left(t \\right)} + 0.5 l^{2} m_{b} \\frac{d^{2}}{d t^{2}} \\theta_{Y}{\\left(t \\right)} + 2.0 l m_{b} r \\theta_{w}{\\left(t \\right)} \\sin{\\left(\\theta_{P}{\\left(t \\right)} \\right)} \\frac{d^{2}}{d t^{2}} \\theta_{Y}{\\left(t \\right)} + 2.0 l m_{b} r \\theta_{w}{\\left(t \\right)} \\cos{\\left(\\theta_{P}{\\left(t \\right)} \\right)} \\frac{d}{d t} \\theta_{P}{\\left(t \\right)} \\frac{d}{d t} \\theta_{Y}{\\left(t \\right)} + 2.0 l m_{b} r \\sin{\\left(\\theta_{P}{\\left(t \\right)} \\right)} \\frac{d}{d t} \\theta_{Y}{\\left(t \\right)} \\frac{d}{d t} \\theta_{w}{\\left(t \\right)} + 1.0 m_{b} r^{2} \\theta_{w}^{2}{\\left(t \\right)} \\frac{d^{2}}{d t^{2}} \\theta_{Y}{\\left(t \\right)} + 2.0 m_{b} r^{2} \\theta_{w}{\\left(t \\right)} \\frac{d}{d t} \\theta_{Y}{\\left(t \\right)} \\frac{d}{d t} \\theta_{w}{\\left(t \\right)} + 2.0 m_{w} r^{2} \\theta_{w}^{2}{\\left(t \\right)} \\frac{d^{2}}{d t^{2}} \\theta_{Y}{\\left(t \\right)} + 4.0 m_{w} r^{2} \\theta_{w}{\\left(t \\right)} \\frac{d}{d t} \\theta_{Y}{\\left(t \\right)} \\frac{d}{d t} \\theta_{w}{\\left(t \\right)}\\end{matrix}\\right]$"
      ],
      "text/plain": [
       "Matrix([\n",
       "[                                                                                                                                                                                                                                                                                                                                                                                                                                                      r*(-1.0*l*m_b*sin(theta_P(t))*Derivative(theta_P(t), t)**2 - 1.0*l*m_b*sin(theta_P(t))*Derivative(theta_Y(t), t)**2 + 1.0*l*m_b*cos(theta_P(t))*Derivative(theta_P(t), (t, 2)) - 1.0*m_b*r*theta_w(t)*Derivative(theta_Y(t), t)**2 + 1.0*m_b*r*Derivative(theta_w(t), (t, 2)) - 2.0*m_w*r*theta_w(t)*Derivative(theta_Y(t), t)**2 + 2.0*m_w*r*Derivative(theta_w(t), (t, 2)))],\n",
       "[                                                                                                                                                                                                                                                                                                                                                                                                                                                                                                               1.0*I_by*Derivative(theta_P(t), (t, 2)) - 1.0*g*l*m_b*sin(theta_P(t)) - 0.5*l**2*m_b*sin(2*theta_P(t))*Derivative(theta_Y(t), t)**2 + 1.0*l**2*m_b*Derivative(theta_P(t), (t, 2)) - 1.0*l*m_b*r*theta_w(t)*cos(theta_P(t))*Derivative(theta_Y(t), t)**2 + 1.0*l*m_b*r*cos(theta_P(t))*Derivative(theta_w(t), (t, 2))],\n",
       "[1.0*I_bz*Derivative(theta_Y(t), (t, 2)) + 0.5*W**2*m_w*Derivative(theta_Y(t), (t, 2)) + 1.0*l**2*m_b*sin(2*theta_P(t))*Derivative(theta_P(t), t)*Derivative(theta_Y(t), t) - 0.5*l**2*m_b*cos(2*theta_P(t))*Derivative(theta_Y(t), (t, 2)) + 0.5*l**2*m_b*Derivative(theta_Y(t), (t, 2)) + 2.0*l*m_b*r*theta_w(t)*sin(theta_P(t))*Derivative(theta_Y(t), (t, 2)) + 2.0*l*m_b*r*theta_w(t)*cos(theta_P(t))*Derivative(theta_P(t), t)*Derivative(theta_Y(t), t) + 2.0*l*m_b*r*sin(theta_P(t))*Derivative(theta_Y(t), t)*Derivative(theta_w(t), t) + 1.0*m_b*r**2*theta_w(t)**2*Derivative(theta_Y(t), (t, 2)) + 2.0*m_b*r**2*theta_w(t)*Derivative(theta_Y(t), t)*Derivative(theta_w(t), t) + 2.0*m_w*r**2*theta_w(t)**2*Derivative(theta_Y(t), (t, 2)) + 4.0*m_w*r**2*theta_w(t)*Derivative(theta_Y(t), t)*Derivative(theta_w(t), t)]])"
      ]
     },
     "execution_count": 55,
     "metadata": {},
     "output_type": "execute_result"
    }
   ],
   "source": [
    "sp.simplify(tau)"
   ]
  },
  {
   "cell_type": "code",
   "execution_count": 46,
   "metadata": {},
   "outputs": [],
   "source": [
    "T_r, T_l = sp.symbols('T_r, T_l')\n",
    "u = sp.Matrix([[T_r], [T_l]])\n",
    "\n",
    "u_matrix = sp.Matrix([[-T_r-T_l], [T_r+ T_l], [D * (T_r - T_l)/r]])"
   ]
  },
  {
   "cell_type": "code",
   "execution_count": 54,
   "metadata": {},
   "outputs": [
    {
     "data": {
      "text/latex": [
       "$\\displaystyle \\left[\\begin{matrix}- 1.0 T_{l} - 1.0 T_{r} - 1.0 l m_{b} r \\sin{\\left(\\theta_{P}{\\left(t \\right)} \\right)} \\left(\\frac{d}{d t} \\theta_{P}{\\left(t \\right)}\\right)^{2} - 1.0 l m_{b} r \\sin{\\left(\\theta_{P}{\\left(t \\right)} \\right)} \\left(\\frac{d}{d t} \\theta_{Y}{\\left(t \\right)}\\right)^{2} + 1.0 l m_{b} r \\cos{\\left(\\theta_{P}{\\left(t \\right)} \\right)} \\frac{d^{2}}{d t^{2}} \\theta_{P}{\\left(t \\right)} - 1.0 m_{b} r^{2} \\theta_{w}{\\left(t \\right)} \\left(\\frac{d}{d t} \\theta_{Y}{\\left(t \\right)}\\right)^{2} + 1.0 m_{b} r^{2} \\frac{d^{2}}{d t^{2}} \\theta_{w}{\\left(t \\right)} - 2.0 m_{w} r^{2} \\theta_{w}{\\left(t \\right)} \\left(\\frac{d}{d t} \\theta_{Y}{\\left(t \\right)}\\right)^{2} + 2.0 m_{w} r^{2} \\frac{d^{2}}{d t^{2}} \\theta_{w}{\\left(t \\right)}\\\\1.0 I_{by} \\frac{d^{2}}{d t^{2}} \\theta_{P}{\\left(t \\right)} + 1.0 T_{l} + 1.0 T_{r} - 1.0 g l m_{b} \\sin{\\left(\\theta_{P}{\\left(t \\right)} \\right)} - 0.5 l^{2} m_{b} \\sin{\\left(2 \\theta_{P}{\\left(t \\right)} \\right)} \\left(\\frac{d}{d t} \\theta_{Y}{\\left(t \\right)}\\right)^{2} + 1.0 l^{2} m_{b} \\frac{d^{2}}{d t^{2}} \\theta_{P}{\\left(t \\right)} - 1.0 l m_{b} r \\theta_{w}{\\left(t \\right)} \\cos{\\left(\\theta_{P}{\\left(t \\right)} \\right)} \\left(\\frac{d}{d t} \\theta_{Y}{\\left(t \\right)}\\right)^{2} + 1.0 l m_{b} r \\cos{\\left(\\theta_{P}{\\left(t \\right)} \\right)} \\frac{d^{2}}{d t^{2}} \\theta_{w}{\\left(t \\right)}\\\\- \\frac{1.0 D T_{l}}{r} + \\frac{1.0 D T_{r}}{r} + 1.0 I_{bz} \\frac{d^{2}}{d t^{2}} \\theta_{Y}{\\left(t \\right)} + 0.5 W^{2} m_{w} \\frac{d^{2}}{d t^{2}} \\theta_{Y}{\\left(t \\right)} + 1.0 l^{2} m_{b} \\sin{\\left(2 \\theta_{P}{\\left(t \\right)} \\right)} \\frac{d}{d t} \\theta_{P}{\\left(t \\right)} \\frac{d}{d t} \\theta_{Y}{\\left(t \\right)} - 0.5 l^{2} m_{b} \\cos{\\left(2 \\theta_{P}{\\left(t \\right)} \\right)} \\frac{d^{2}}{d t^{2}} \\theta_{Y}{\\left(t \\right)} + 0.5 l^{2} m_{b} \\frac{d^{2}}{d t^{2}} \\theta_{Y}{\\left(t \\right)} + 2.0 l m_{b} r \\theta_{w}{\\left(t \\right)} \\sin{\\left(\\theta_{P}{\\left(t \\right)} \\right)} \\frac{d^{2}}{d t^{2}} \\theta_{Y}{\\left(t \\right)} + 2.0 l m_{b} r \\theta_{w}{\\left(t \\right)} \\cos{\\left(\\theta_{P}{\\left(t \\right)} \\right)} \\frac{d}{d t} \\theta_{P}{\\left(t \\right)} \\frac{d}{d t} \\theta_{Y}{\\left(t \\right)} + 2.0 l m_{b} r \\sin{\\left(\\theta_{P}{\\left(t \\right)} \\right)} \\frac{d}{d t} \\theta_{Y}{\\left(t \\right)} \\frac{d}{d t} \\theta_{w}{\\left(t \\right)} + 1.0 m_{b} r^{2} \\theta_{w}^{2}{\\left(t \\right)} \\frac{d^{2}}{d t^{2}} \\theta_{Y}{\\left(t \\right)} + 2.0 m_{b} r^{2} \\theta_{w}{\\left(t \\right)} \\frac{d}{d t} \\theta_{Y}{\\left(t \\right)} \\frac{d}{d t} \\theta_{w}{\\left(t \\right)} + 2.0 m_{w} r^{2} \\theta_{w}^{2}{\\left(t \\right)} \\frac{d^{2}}{d t^{2}} \\theta_{Y}{\\left(t \\right)} + 4.0 m_{w} r^{2} \\theta_{w}{\\left(t \\right)} \\frac{d}{d t} \\theta_{Y}{\\left(t \\right)} \\frac{d}{d t} \\theta_{w}{\\left(t \\right)}\\end{matrix}\\right]$"
      ],
      "text/plain": [
       "Matrix([\n",
       "[                                                                                                                                                                                                                                                                                                                                                                                                                                                 -1.0*T_l - 1.0*T_r - 1.0*l*m_b*r*sin(theta_P(t))*Derivative(theta_P(t), t)**2 - 1.0*l*m_b*r*sin(theta_P(t))*Derivative(theta_Y(t), t)**2 + 1.0*l*m_b*r*cos(theta_P(t))*Derivative(theta_P(t), (t, 2)) - 1.0*m_b*r**2*theta_w(t)*Derivative(theta_Y(t), t)**2 + 1.0*m_b*r**2*Derivative(theta_w(t), (t, 2)) - 2.0*m_w*r**2*theta_w(t)*Derivative(theta_Y(t), t)**2 + 2.0*m_w*r**2*Derivative(theta_w(t), (t, 2))],\n",
       "[                                                                                                                                                                                                                                                                                                                                                                                                                                                                                                                        1.0*I_by*Derivative(theta_P(t), (t, 2)) + 1.0*T_l + 1.0*T_r - 1.0*g*l*m_b*sin(theta_P(t)) - 0.5*l**2*m_b*sin(2*theta_P(t))*Derivative(theta_Y(t), t)**2 + 1.0*l**2*m_b*Derivative(theta_P(t), (t, 2)) - 1.0*l*m_b*r*theta_w(t)*cos(theta_P(t))*Derivative(theta_Y(t), t)**2 + 1.0*l*m_b*r*cos(theta_P(t))*Derivative(theta_w(t), (t, 2))],\n",
       "[-1.0*D*T_l/r + 1.0*D*T_r/r + 1.0*I_bz*Derivative(theta_Y(t), (t, 2)) + 0.5*W**2*m_w*Derivative(theta_Y(t), (t, 2)) + 1.0*l**2*m_b*sin(2*theta_P(t))*Derivative(theta_P(t), t)*Derivative(theta_Y(t), t) - 0.5*l**2*m_b*cos(2*theta_P(t))*Derivative(theta_Y(t), (t, 2)) + 0.5*l**2*m_b*Derivative(theta_Y(t), (t, 2)) + 2.0*l*m_b*r*theta_w(t)*sin(theta_P(t))*Derivative(theta_Y(t), (t, 2)) + 2.0*l*m_b*r*theta_w(t)*cos(theta_P(t))*Derivative(theta_P(t), t)*Derivative(theta_Y(t), t) + 2.0*l*m_b*r*sin(theta_P(t))*Derivative(theta_Y(t), t)*Derivative(theta_w(t), t) + 1.0*m_b*r**2*theta_w(t)**2*Derivative(theta_Y(t), (t, 2)) + 2.0*m_b*r**2*theta_w(t)*Derivative(theta_Y(t), t)*Derivative(theta_w(t), t) + 2.0*m_w*r**2*theta_w(t)**2*Derivative(theta_Y(t), (t, 2)) + 4.0*m_w*r**2*theta_w(t)*Derivative(theta_Y(t), t)*Derivative(theta_w(t), t)]])"
      ]
     },
     "execution_count": 54,
     "metadata": {},
     "output_type": "execute_result"
    }
   ],
   "source": [
    "tau_eq = tau+u_matrix\n",
    "sp.simplify(tau_eq)"
   ]
  },
  {
   "cell_type": "code",
   "execution_count": 48,
   "metadata": {},
   "outputs": [],
   "source": [
    "M, C, G, W = get_EoM_from_T(tau_eq,qdd,g, u)"
   ]
  },
  {
   "cell_type": "code",
   "execution_count": 49,
   "metadata": {},
   "outputs": [
    {
     "data": {
      "text/latex": [
       "$\\displaystyle \\left[\\begin{matrix}r^{2} \\left(m_{b} + 2.0 m_{w}\\right) & 1.0 l m_{b} r \\cos{\\left(\\theta_{P}{\\left(t \\right)} \\right)} & 0\\\\1.0 l m_{b} r \\cos{\\left(\\theta_{P}{\\left(t \\right)} \\right)} & 1.0 I_{by} + l^{2} m_{b} & 0\\\\0 & 0 & 1.0 I_{bz} + m_{b} \\left(l \\sin{\\left(\\theta_{P}{\\left(t \\right)} \\right)} + r \\theta_{w}{\\left(t \\right)}\\right)^{2} + 0.5 m_{w} \\left(W^{2} + 4 r^{2} \\theta_{w}^{2}{\\left(t \\right)}\\right)\\end{matrix}\\right]$"
      ],
      "text/plain": [
       "Matrix([\n",
       "[       r**2*(m_b + 2.0*m_w), 1.0*l*m_b*r*cos(theta_P(t)),                                                                                            0],\n",
       "[1.0*l*m_b*r*cos(theta_P(t)),         1.0*I_by + l**2*m_b,                                                                                            0],\n",
       "[                          0,                           0, 1.0*I_bz + m_b*(l*sin(theta_P(t)) + r*theta_w(t))**2 + 0.5*m_w*(W**2 + 4*r**2*theta_w(t)**2)]])"
      ]
     },
     "execution_count": 49,
     "metadata": {},
     "output_type": "execute_result"
    }
   ],
   "source": [
    "M"
   ]
  },
  {
   "cell_type": "code",
   "execution_count": 50,
   "metadata": {},
   "outputs": [
    {
     "data": {
      "text/latex": [
       "$\\displaystyle \\left[\\begin{matrix}- r \\left(1.0 l m_{b} \\sin{\\left(\\theta_{P}{\\left(t \\right)} \\right)} \\left(\\frac{d}{d t} \\theta_{P}{\\left(t \\right)}\\right)^{2} + 1.0 l m_{b} \\sin{\\left(\\theta_{P}{\\left(t \\right)} \\right)} \\left(\\frac{d}{d t} \\theta_{Y}{\\left(t \\right)}\\right)^{2} + 1.0 m_{b} r \\theta_{w}{\\left(t \\right)} \\left(\\frac{d}{d t} \\theta_{Y}{\\left(t \\right)}\\right)^{2} + 2.0 m_{w} r \\theta_{w}{\\left(t \\right)} \\left(\\frac{d}{d t} \\theta_{Y}{\\left(t \\right)}\\right)^{2}\\right)\\\\- 1.0 l m_{b} \\left(l \\sin{\\left(\\theta_{P}{\\left(t \\right)} \\right)} + r \\theta_{w}{\\left(t \\right)}\\right) \\cos{\\left(\\theta_{P}{\\left(t \\right)} \\right)} \\left(\\frac{d}{d t} \\theta_{Y}{\\left(t \\right)}\\right)^{2}\\\\\\left(1.0 l^{2} m_{b} \\sin{\\left(2 \\theta_{P}{\\left(t \\right)} \\right)} \\frac{d}{d t} \\theta_{P}{\\left(t \\right)} + 2.0 l m_{b} r \\theta_{w}{\\left(t \\right)} \\cos{\\left(\\theta_{P}{\\left(t \\right)} \\right)} \\frac{d}{d t} \\theta_{P}{\\left(t \\right)} + 2.0 l m_{b} r \\sin{\\left(\\theta_{P}{\\left(t \\right)} \\right)} \\frac{d}{d t} \\theta_{w}{\\left(t \\right)} + 2.0 m_{b} r^{2} \\theta_{w}{\\left(t \\right)} \\frac{d}{d t} \\theta_{w}{\\left(t \\right)} + 4.0 m_{w} r^{2} \\theta_{w}{\\left(t \\right)} \\frac{d}{d t} \\theta_{w}{\\left(t \\right)}\\right) \\frac{d}{d t} \\theta_{Y}{\\left(t \\right)}\\end{matrix}\\right]$"
      ],
      "text/plain": [
       "Matrix([\n",
       "[                                                                                           -r*(1.0*l*m_b*sin(theta_P(t))*Derivative(theta_P(t), t)**2 + 1.0*l*m_b*sin(theta_P(t))*Derivative(theta_Y(t), t)**2 + 1.0*m_b*r*theta_w(t)*Derivative(theta_Y(t), t)**2 + 2.0*m_w*r*theta_w(t)*Derivative(theta_Y(t), t)**2)],\n",
       "[                                                                                                                                                                                                                             -1.0*l*m_b*(l*sin(theta_P(t)) + r*theta_w(t))*cos(theta_P(t))*Derivative(theta_Y(t), t)**2],\n",
       "[(1.0*l**2*m_b*sin(2*theta_P(t))*Derivative(theta_P(t), t) + 2.0*l*m_b*r*theta_w(t)*cos(theta_P(t))*Derivative(theta_P(t), t) + 2.0*l*m_b*r*sin(theta_P(t))*Derivative(theta_w(t), t) + 2.0*m_b*r**2*theta_w(t)*Derivative(theta_w(t), t) + 4.0*m_w*r**2*theta_w(t)*Derivative(theta_w(t), t))*Derivative(theta_Y(t), t)]])"
      ]
     },
     "execution_count": 50,
     "metadata": {},
     "output_type": "execute_result"
    }
   ],
   "source": [
    "C"
   ]
  },
  {
   "cell_type": "code",
   "execution_count": 15,
   "metadata": {},
   "outputs": [
    {
     "data": {
      "text/latex": [
       "$\\displaystyle \\left[\\begin{matrix}0\\\\- g l m_{b} \\sin{\\left(\\theta_{P}{\\left(t \\right)} \\right)}\\\\0\\end{matrix}\\right]$"
      ],
      "text/plain": [
       "Matrix([\n",
       "[                       0],\n",
       "[-g*l*m_b*sin(theta_P(t))],\n",
       "[                       0]])"
      ]
     },
     "execution_count": 15,
     "metadata": {},
     "output_type": "execute_result"
    }
   ],
   "source": [
    "G"
   ]
  },
  {
   "cell_type": "code",
   "execution_count": 16,
   "metadata": {},
   "outputs": [
    {
     "data": {
      "text/latex": [
       "$\\displaystyle \\left[\\begin{matrix}1 & 1\\\\-1 & -1\\\\- \\frac{D}{r} & \\frac{D}{r}\\end{matrix}\\right]$"
      ],
      "text/plain": [
       "Matrix([\n",
       "[   1,   1],\n",
       "[  -1,  -1],\n",
       "[-D/r, D/r]])"
      ]
     },
     "execution_count": 16,
     "metadata": {},
     "output_type": "execute_result"
    }
   ],
   "source": [
    "W"
   ]
  },
  {
   "cell_type": "code",
   "execution_count": 51,
   "metadata": {},
   "outputs": [
    {
     "data": {
      "text/latex": [
       "$\\displaystyle \\left[\\begin{matrix}r^{2} \\left(m_{b} + 2.0 m_{w}\\right) & 1.0 l m_{b} r & 0\\\\1.0 l m_{b} r & 1.0 I_{by} + l^{2} m_{b} & 0\\\\0 & 0 & 1.0 I_{bz} + m_{b} \\left(l \\theta_{P}{\\left(t \\right)} + r \\theta_{w}{\\left(t \\right)}\\right)^{2} + 0.5 m_{w} \\left(W^{2} + 4 r^{2} \\theta_{w}^{2}{\\left(t \\right)}\\right)\\end{matrix}\\right]$"
      ],
      "text/plain": [
       "Matrix([\n",
       "[r**2*(m_b + 2.0*m_w),         1.0*l*m_b*r,                                                                                       0],\n",
       "[         1.0*l*m_b*r, 1.0*I_by + l**2*m_b,                                                                                       0],\n",
       "[                   0,                   0, 1.0*I_bz + m_b*(l*theta_P(t) + r*theta_w(t))**2 + 0.5*m_w*(W**2 + 4*r**2*theta_w(t)**2)]])"
      ]
     },
     "execution_count": 51,
     "metadata": {},
     "output_type": "execute_result"
    }
   ],
   "source": [
    "linearlize_eq = {sp.sin(theta_P):theta_P, sp.cos(theta_P):1, theta_P.diff():0, sp.sin(theta_Y):theta_Y, sp.cos(theta_Y):1, theta_Y.diff():0}\n",
    "Ml = M.subs(linearlize_eq)\n",
    "Cl = C.subs(linearlize_eq)\n",
    "Gl = G.subs(linearlize_eq)\n",
    "Wl = W.subs(linearlize_eq)\n",
    "\n",
    "Ml"
   ]
  },
  {
   "cell_type": "code",
   "execution_count": 52,
   "metadata": {},
   "outputs": [
    {
     "data": {
      "text/latex": [
       "$\\displaystyle \\left[\\begin{matrix}0\\\\0\\\\0\\end{matrix}\\right]$"
      ],
      "text/plain": [
       "Matrix([\n",
       "[0],\n",
       "[0],\n",
       "[0]])"
      ]
     },
     "execution_count": 52,
     "metadata": {},
     "output_type": "execute_result"
    }
   ],
   "source": [
    "Cl"
   ]
  },
  {
   "cell_type": "code",
   "execution_count": 53,
   "metadata": {},
   "outputs": [
    {
     "data": {
      "text/latex": [
       "$\\displaystyle \\left[\\begin{matrix}0\\\\- g l m_{b} \\theta_{P}{\\left(t \\right)}\\\\0\\end{matrix}\\right]$"
      ],
      "text/plain": [
       "Matrix([\n",
       "[                  0],\n",
       "[-g*l*m_b*theta_P(t)],\n",
       "[                  0]])"
      ]
     },
     "execution_count": 53,
     "metadata": {},
     "output_type": "execute_result"
    }
   ],
   "source": [
    "Gl"
   ]
  },
  {
   "cell_type": "code",
   "execution_count": 18,
   "metadata": {},
   "outputs": [
    {
     "data": {
      "text/latex": [
       "$\\displaystyle \\left[\\begin{matrix}0 & 0\\\\0 & 0\\\\0 & 0\\\\0.945484916261624 & 0.945484916261624\\\\-0.500431400505938 & -0.500431400505938\\\\- \\frac{1.0}{3.6 \\theta_{P}^{2}{\\left(t \\right)} + 3.96 \\theta_{P}{\\left(t \\right)} \\theta_{w}{\\left(t \\right)} + 1.90575 \\theta_{w}^{2}{\\left(t \\right)} + 2.139168508} & \\frac{1.0}{3.6 \\theta_{P}^{2}{\\left(t \\right)} + 3.96 \\theta_{P}{\\left(t \\right)} \\theta_{w}{\\left(t \\right)} + 1.90575 \\theta_{w}^{2}{\\left(t \\right)} + 2.139168508}\\end{matrix}\\right]$"
      ],
      "text/plain": [
       "Matrix([\n",
       "[                                                                                          0,                                                                                          0],\n",
       "[                                                                                          0,                                                                                          0],\n",
       "[                                                                                          0,                                                                                          0],\n",
       "[                                                                          0.945484916261624,                                                                          0.945484916261624],\n",
       "[                                                                         -0.500431400505938,                                                                         -0.500431400505938],\n",
       "[-1.0/(3.6*theta_P(t)**2 + 3.96*theta_P(t)*theta_w(t) + 1.90575*theta_w(t)**2 + 2.139168508), 1.0/(3.6*theta_P(t)**2 + 3.96*theta_P(t)*theta_w(t) + 1.90575*theta_w(t)**2 + 2.139168508)]])"
      ]
     },
     "execution_count": 18,
     "metadata": {},
     "output_type": "execute_result"
    }
   ],
   "source": [
    "param = {I_w:0.199893505, I_by:2.139168508, I_bz:2.139168508, m_b:40, m_w:15, r:0.165,l:0.3,  g:9.81,  D:0.165}\n",
    "\n",
    "Mlp = msubs(Ml, param)\n",
    "Clp = msubs(Cl, param)\n",
    "Glp = msubs(Gl, param)\n",
    "Wlp = msubs(Wl, param)\n",
    "\n",
    "Mlp_inv = Mlp.inv()\n",
    "qdd_rhs_A = Mlp_inv*(-Clp -Glp)\n",
    "qdd_rhs_B = Mlp_inv*Wlp*u\n",
    "\n",
    "X = q.col_join(qd)\n",
    "Xd_A = qd.col_join(qdd_rhs_A)\n",
    "Xd_B = qd.col_join(qdd_rhs_B)\n",
    "U = u\n",
    "\n",
    "A = Xd_A.jacobian(X)\n",
    "B = Xd_B.jacobian(U)\n",
    "C = X.jacobian(X)\n",
    "D = X.jacobian(U)\n",
    "B\n",
    "# ss0 = [A, B, C, D]\n",
    "# sys0 = control.ss(*[pl.array(mat_i.subs(param)).astype(float) for mat_i in ss0])\n",
    "# mprint(sys0)"
   ]
  },
  {
   "cell_type": "code",
   "execution_count": 19,
   "metadata": {},
   "outputs": [],
   "source": [
    "Q = sp.Matrix([ [0.3,  0,    0,    0,    0,    0],\n",
    "                [0,    0.3,  0,    0,    0,    0],\n",
    "                [0,    0,    0.01, 0,    0,    0],\n",
    "                [0,    0,    0,    0.1,  0,    0],\n",
    "                [0,    0,    0,    0,    0.1,  0],\n",
    "                [0,    0,    0,    0,    0,    0.01]])\n",
    "\n",
    "R = sp.Matrix([ [1, 0],\n",
    "                [0, 1]])"
   ]
  },
  {
   "cell_type": "code",
   "execution_count": 111,
   "metadata": {},
   "outputs": [],
   "source": [
    "K, S, E = control.lqr(A, B, Q, R)"
   ]
  },
  {
   "cell_type": "code",
   "execution_count": 113,
   "metadata": {},
   "outputs": [
    {
     "data": {
      "text/plain": [
       "array([[ 8.76345976e-16, -5.47722558e-01, -7.68659094e+01,\n",
       "        -2.51964991e-01, -1.12736476e+00, -1.53373831e+01],\n",
       "       [-5.47722558e-01, -1.87198599e-14, -7.68659094e+01,\n",
       "        -1.12736476e+00, -2.51964991e-01, -1.53373831e+01]])"
      ]
     },
     "execution_count": 113,
     "metadata": {},
     "output_type": "execute_result"
    }
   ],
   "source": [
    "K"
   ]
  },
  {
   "cell_type": "code",
   "execution_count": 116,
   "metadata": {},
   "outputs": [
    {
     "data": {
      "text/plain": [
       "array([ 8.76345976e-16, -5.47722558e-01, -7.68659094e+01, -2.51964991e-01,\n",
       "       -1.12736476e+00, -1.53373831e+01])"
      ]
     },
     "execution_count": 116,
     "metadata": {},
     "output_type": "execute_result"
    }
   ],
   "source": [
    "K[0]"
   ]
  },
  {
   "cell_type": "code",
   "execution_count": 118,
   "metadata": {},
   "outputs": [
    {
     "data": {
      "text/plain": [
       "array([-76.86590936,  -0.25196499,  -1.12736476, -15.33738306])"
      ]
     },
     "execution_count": 118,
     "metadata": {},
     "output_type": "execute_result"
    }
   ],
   "source": [
    "K[0][2:6]"
   ]
  },
  {
   "cell_type": "code",
   "execution_count": null,
   "metadata": {},
   "outputs": [],
   "source": []
  }
 ],
 "metadata": {
  "kernelspec": {
   "display_name": "Python 3.7.11 ('py37')",
   "language": "python",
   "name": "python3"
  },
  "language_info": {
   "codemirror_mode": {
    "name": "ipython",
    "version": 3
   },
   "file_extension": ".py",
   "mimetype": "text/x-python",
   "name": "python",
   "nbconvert_exporter": "python",
   "pygments_lexer": "ipython3",
   "version": "3.7.11"
  },
  "vscode": {
   "interpreter": {
    "hash": "f2376f10e5480d9dd8a0eeeaa81051e72d24d2357c52529331f089560bf138e7"
   }
  }
 },
 "nbformat": 4,
 "nbformat_minor": 4
}
