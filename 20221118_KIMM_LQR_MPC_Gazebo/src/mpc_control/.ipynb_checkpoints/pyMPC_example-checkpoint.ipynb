{
 "cells": [
  {
   "cell_type": "code",
   "execution_count": 1,
   "metadata": {},
   "outputs": [
    {
     "ename": "ModuleNotFoundError",
     "evalue": "No module named 'control'",
     "output_type": "error",
     "traceback": [
      "\u001b[1;31m---------------------------------------------------------------------------\u001b[0m",
      "\u001b[1;31mModuleNotFoundError\u001b[0m                       Traceback (most recent call last)",
      "Cell \u001b[1;32mIn[1], line 9\u001b[0m\n\u001b[0;32m      7\u001b[0m \u001b[38;5;28;01mimport\u001b[39;00m \u001b[38;5;21;01mmatplotlib\u001b[39;00m\u001b[38;5;21;01m.\u001b[39;00m\u001b[38;5;21;01mpyplot\u001b[39;00m \u001b[38;5;28;01mas\u001b[39;00m \u001b[38;5;21;01mplt\u001b[39;00m\n\u001b[0;32m      8\u001b[0m \u001b[38;5;28;01mfrom\u001b[39;00m \u001b[38;5;21;01mpyMPC\u001b[39;00m\u001b[38;5;21;01m.\u001b[39;00m\u001b[38;5;21;01mmpc\u001b[39;00m \u001b[38;5;28;01mimport\u001b[39;00m MPCController\n\u001b[1;32m----> 9\u001b[0m \u001b[38;5;28;01mimport\u001b[39;00m \u001b[38;5;21;01mdynamics\u001b[39;00m\n\u001b[0;32m     10\u001b[0m \u001b[38;5;28;01mimport\u001b[39;00m \u001b[38;5;21;01msympy\u001b[39;00m \u001b[38;5;28;01mas\u001b[39;00m \u001b[38;5;21;01msp\u001b[39;00m\n\u001b[0;32m     11\u001b[0m \u001b[38;5;28;01mimport\u001b[39;00m \u001b[38;5;21;01mnumpy\u001b[39;00m \u001b[38;5;28;01mas\u001b[39;00m \u001b[38;5;21;01mnp\u001b[39;00m\n",
      "File \u001b[1;32m~\\DRCL Dropbox\\DRCL_SHARE\\[공유-SW라이브러리]\\20221118_KIMM_LQR_MPC_Gazebo\\src\\mpc_control\\dynamics.py:8\u001b[0m\n\u001b[0;32m      6\u001b[0m N \u001b[38;5;241m=\u001b[39m ReferenceFrame(\u001b[38;5;124m'\u001b[39m\u001b[38;5;124mN\u001b[39m\u001b[38;5;124m'\u001b[39m)\n\u001b[0;32m      7\u001b[0m \u001b[38;5;28;01mimport\u001b[39;00m \u001b[38;5;21;01mpylab\u001b[39;00m \u001b[38;5;28;01mas\u001b[39;00m \u001b[38;5;21;01mpl\u001b[39;00m\n\u001b[1;32m----> 8\u001b[0m \u001b[38;5;28;01mimport\u001b[39;00m \u001b[38;5;21;01mcontrol\u001b[39;00m\n\u001b[0;32m      9\u001b[0m \u001b[38;5;28;01mfrom\u001b[39;00m \u001b[38;5;21;01mEoM\u001b[39;00m \u001b[38;5;28;01mimport\u001b[39;00m \u001b[38;5;241m*\u001b[39m\n\u001b[0;32m     10\u001b[0m \u001b[38;5;28;01mfrom\u001b[39;00m \u001b[38;5;21;01msympy\u001b[39;00m\u001b[38;5;21;01m.\u001b[39;00m\u001b[38;5;21;01mphysics\u001b[39;00m\u001b[38;5;21;01m.\u001b[39;00m\u001b[38;5;21;01mmechanics\u001b[39;00m \u001b[38;5;28;01mimport\u001b[39;00m \u001b[38;5;241m*\u001b[39m\n",
      "\u001b[1;31mModuleNotFoundError\u001b[0m: No module named 'control'"
     ]
    }
   ],
   "source": [
    "# General import \n",
    "\n",
    "import numpy as np\n",
    "import scipy.sparse as sparse\n",
    "from scipy.integrate import ode\n",
    "import time\n",
    "import matplotlib.pyplot as plt\n",
    "from pyMPC.mpc import MPCController\n",
    "import dynamics\n",
    "import sympy as sp\n",
    "import numpy as np\n",
    "from sympy.physics.vector import dynamicsymbols\n",
    "from sympy.physics.vector import time_derivative\n",
    "from sympy.physics.vector import ReferenceFrame\n",
    "N = ReferenceFrame('N')\n",
    "import pylab as pl\n",
    "import control\n",
    "from EoM import *\n",
    "from sympy.physics.mechanics import *\n",
    "from numpy.linalg import matrix_rank, eig\n",
    "import math\n",
    "import intelligent_robotics as ir\n"
   ]
  },
  {
   "cell_type": "code",
   "execution_count": null,
   "metadata": {},
   "outputs": [],
   "source": [
    "pip install control"
   ]
  },
  {
   "cell_type": "code",
   "execution_count": null,
   "metadata": {},
   "outputs": [],
   "source": [
    "x_next = dynamics.get_x_next()\n",
    "\n",
    "T_w1, T_w2 = sp.symbols('T_w1, T_w2')\n",
    "theta_P, theta_w1, theta_w2 = dynamicsymbols('theta_P, theta_w1, theta_w2')"
   ]
  },
  {
   "cell_type": "code",
   "execution_count": null,
   "metadata": {},
   "outputs": [],
   "source": [
    "# System dynamics: \\dot x = f_ODE(t,x,u)\n",
    "# x = [[theta_1], [theta_2], [theta_p], [dtheta_1], [dtheta_2], [dtheta_p]]^T\n",
    "\n",
    "def f_ODE(x_next,x,u):\n",
    "    T_w1 = u[0]\n",
    "    T_w2 = u[1]\n",
    "    \n",
    "    param = {theta_P:x[2], theta_P.diff():x[5]}\n",
    "    x_next_1 = msubs(x_next,param)\n",
    "    \n",
    "    dtheta_w1 = x[3]\n",
    "    dtheta_w2 = x[4]\n",
    "    dtheta_P = x[5]\n",
    "    \n",
    "    der = np.zeros(6)\n",
    "    der[0] = dtheta_w1\n",
    "    der[1] = dtheta_w2\n",
    "    der[2] = dtheta_P\n",
    "    der[3] = x_next_1[3]\n",
    "    der[4] = x_next_1[4]\n",
    "    der[5] = x_next_1[5]\n",
    "    \n",
    "    return der"
   ]
  },
  {
   "cell_type": "code",
   "execution_count": null,
   "metadata": {},
   "outputs": [],
   "source": [
    "Ac = np.array([[0,0,0,1,0,0],\n",
    "              [0,0,0,0,1,0],\n",
    "              [0,0,0,0,0,1],\n",
    "              [0,0,-25.03210719,0,0,0],\n",
    "              [0,0,-25.03210719,0,0,0],\n",
    "              [0,0,29.1477018,0,0,0]])\n",
    "\n",
    "Bc = np.array([[0,0],\n",
    "              [0,0],\n",
    "              [0,0],\n",
    "              [1.6579922,0.00699069],\n",
    "              [0.00699069,1.6579922],\n",
    "              [-0.46024303, -0.46024303]])"
   ]
  },
  {
   "cell_type": "code",
   "execution_count": null,
   "metadata": {},
   "outputs": [],
   "source": [
    "# Linearized System Matrices \n",
    "    \n",
    "# Continuous-time system matrices, linearized about the upright, unstable equilibrium point \n",
    "[nx, nu] = Bc.shape # number of states and number or inputs\n",
    "\n",
    "\n",
    "# Simple forward euler discretization\n",
    "Ts = 50e-3\n",
    "Ad = np.eye(nx) + Ac*Ts\n",
    "Bd = Bc*Ts"
   ]
  },
  {
   "cell_type": "code",
   "execution_count": null,
   "metadata": {},
   "outputs": [],
   "source": [
    "# MPC reference input and states (set-points)\n",
    "\n",
    "xref = np.array([0.2, 0.2, 0, 0, 0, 0]) # reference state\n",
    "uref = np.array([0, 0])    # reference input\n",
    "uminus1 = np.array([0, 0])     # input at time step negative one - used to penalize the first delta u at time instant 0. Could be the same as uref.\n",
    "\n",
    "# Constraints\n",
    "xmin = np.array([-100, -100, -100, -100, -100, -100])\n",
    "xmax = np.array([ 100,  100,  100,  100,  100,  100])\n",
    "\n",
    "umin = np.array([-40, -40])\n",
    "umax = np.array([40, 40])\n",
    "\n",
    "# Constraints input variation with respect to previous sample\n",
    "Dumin = np.array([-5, -5])\n",
    "Dumax = np.array([5, 5])"
   ]
  },
  {
   "cell_type": "code",
   "execution_count": null,
   "metadata": {},
   "outputs": [],
   "source": [
    "# MPC cost function weights\n",
    "\n",
    "Qx = sparse.diags([0.5, 0.5, 1, 0, 0, 0])   # Quadratic cost for states x0, x1, ..., x_N-1\n",
    "QxN = sparse.diags([0.5, 0.5, 1, 0, 0, 0])  # Quadratic cost for xN\n",
    "Qu = 0.0 * sparse.eye(2)        # Quadratic cost for u0, u1, ...., u_N-1\n",
    "QDu = 0.01 * sparse.eye(2)       # Quadratic cost for Du0, Du1, ...., Du_N-1"
   ]
  },
  {
   "cell_type": "code",
   "execution_count": null,
   "metadata": {},
   "outputs": [],
   "source": [
    "# Initialize simulation system\n",
    "\n",
    "phi0 = 15*2*np.pi/360\n",
    "x0 = np.array([0, 0, phi0, 0, 0, 0]) # initial state\n",
    "t0 = 0\n",
    "system_dyn = ode(f_ODE).set_integrator('vode', method='bdf')\n",
    "system_dyn.set_initial_value(x0, t0)\n",
    "system_dyn.set_f_params(0.0)"
   ]
  },
  {
   "cell_type": "code",
   "execution_count": null,
   "metadata": {},
   "outputs": [],
   "source": [
    "Np = 50\n",
    "# Initialize and setup MPC controller\n",
    "\n",
    "t1 = time.time()\n",
    "K = MPCController(Ad,Bd,Np=Np, x0=x0,xref=xref,uminus1=uminus1,\n",
    "                  Qx=Qx, QxN=QxN, Qu=Qu,QDu=QDu,\n",
    "                  xmin=xmin,xmax=xmax,umin=umin,umax=umax,Dumin=Dumin,Dumax=Dumax)\n",
    "t3 = time.time()\n",
    "K.setup() # this initializes the QP problem for the first step\n",
    "\n",
    "uMPC = uminus1\n",
    "K.update(system_dyn.y, uMPC) # update with measurement\n",
    "uMPC = K.output() # MPC step (u_k value)\n",
    "t2 = time.time()\n",
    "print(t2-t1)\n",
    "print(t2-t3)\n",
    "print(t3-t1)"
   ]
  },
  {
   "cell_type": "code",
   "execution_count": null,
   "metadata": {},
   "outputs": [],
   "source": [
    "system_dyn.y"
   ]
  },
  {
   "cell_type": "code",
   "execution_count": null,
   "metadata": {},
   "outputs": [],
   "source": [
    "uMPC = uminus1\n",
    "K.update(system_dyn.y, uMPC) # update with measurement\n",
    "uMPC = K.output() # MPC step (u_k value)\n",
    "uMPC"
   ]
  },
  {
   "cell_type": "code",
   "execution_count": null,
   "metadata": {},
   "outputs": [],
   "source": [
    " #Simulate in closed loop. Use MPC model as real system\n",
    "\n",
    "# Simulate in closed loop\n",
    "[nx, nu] = Bd.shape # number of states and number or inputs\n",
    "len_sim = 10 # simulation length (s)\n",
    "nsim = int(len_sim/Ts) # simulation length(timesteps)\n",
    "xsim = np.zeros((nsim,nx))\n",
    "usim = np.zeros((nsim,nu))\n",
    "tsim = np.arange(0,nsim)*Ts\n",
    "\n",
    "time_start = time.time()\n",
    "\n",
    "t_step = t0\n",
    "uMPC = uminus1\n",
    "for i in range(nsim):\n",
    "    xsim[i,:] = system_dyn.y\n",
    "\n",
    "    # MPC update and step. Could be in just one function call\n",
    "    K.update(system_dyn.y, uMPC) # update with measurement\n",
    "    uMPC = K.output() # MPC step (u_k value)\n",
    "    usim[i,:] = uMPC\n",
    "\n",
    "    # System simulation\n",
    "    system_dyn.set_f_params(uMPC) # set current input value\n",
    "    system_dyn.integrate(t_step + Ts)\n",
    "\n",
    "    # Time update\n",
    "    t_step += Ts\n",
    "time_sim = time.time() - time_start"
   ]
  },
  {
   "cell_type": "code",
   "execution_count": null,
   "metadata": {},
   "outputs": [],
   "source": [
    "# Plot results\n",
    "\n",
    "fig,axes = plt.subplots(3,1, figsize=(10,10))\n",
    "axes[0].plot(tsim, xsim[:,0], \"k\", label='p')\n",
    "axes[0].plot(tsim, xref[0]*np.ones(np.shape(tsim)), \"r--\", label=\"p_ref\")\n",
    "axes[0].set_title(\"Position (m)\")\n",
    "\n",
    "axes[1].plot(tsim, xsim[:,2]*360/2/np.pi, label=\"phi\")\n",
    "axes[1].plot(tsim, xref[2]*360/2/np.pi*np.ones(np.shape(tsim)), \"r--\", label=\"phi_ref\")\n",
    "axes[1].set_title(\"Angle (deg)\")\n",
    "\n",
    "axes[2].plot(tsim, usim[:,0], label=\"u\")\n",
    "axes[2].plot(tsim, uref*np.ones(np.shape(tsim)), \"r--\", label=\"u_ref\")\n",
    "axes[2].set_title(\"Force (N)\")\n",
    "\n",
    "for ax in axes:\n",
    "    ax.grid(True)\n",
    "    ax.legend()"
   ]
  },
  {
   "cell_type": "code",
   "execution_count": null,
   "metadata": {},
   "outputs": [],
   "source": []
  }
 ],
 "metadata": {
  "kernelspec": {
   "display_name": "Python 3 (ipykernel)",
   "language": "python",
   "name": "python3"
  },
  "language_info": {
   "codemirror_mode": {
    "name": "ipython",
    "version": 3
   },
   "file_extension": ".py",
   "mimetype": "text/x-python",
   "name": "python",
   "nbconvert_exporter": "python",
   "pygments_lexer": "ipython3",
   "version": "3.10.9"
  },
  "vscode": {
   "interpreter": {
    "hash": "f2376f10e5480d9dd8a0eeeaa81051e72d24d2357c52529331f089560bf138e7"
   }
  }
 },
 "nbformat": 4,
 "nbformat_minor": 4
}
