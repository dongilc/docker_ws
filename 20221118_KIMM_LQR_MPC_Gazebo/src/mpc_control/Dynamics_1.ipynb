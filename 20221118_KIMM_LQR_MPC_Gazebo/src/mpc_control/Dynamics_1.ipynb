{
 "cells": [
  {
   "cell_type": "code",
   "execution_count": 1,
   "metadata": {},
   "outputs": [],
   "source": [
    "import sympy as sp\n",
    "import numpy as np\n",
    "from sympy.physics.vector import dynamicsymbols\n",
    "from sympy.physics.vector import time_derivative\n",
    "from sympy.physics.vector import ReferenceFrame\n",
    "N = ReferenceFrame('N')\n",
    "import pylab as pl\n",
    "import control\n",
    "from EoM import *\n",
    "from sympy.physics.mechanics import *\n",
    "from numpy.linalg import matrix_rank, eig\n",
    "import math\n",
    "import intelligent_robotics as ir"
   ]
  },
  {
   "cell_type": "code",
   "execution_count": 2,
   "metadata": {},
   "outputs": [],
   "source": [
    "def rot_x(theta):\n",
    "    rot_x = sp.Matrix([[1,0,0],\n",
    "                       [0,sp.cos(theta),-sp.sin(theta)],\n",
    "                       [0,sp.sin(theta),sp.cos(theta)]])\n",
    "    return rot_x\n",
    "\n",
    "def rot_y(theta):\n",
    "    rot_y = sp.Matrix([[sp.cos(theta),0,sp.sin(theta)],\n",
    "                       [0,1,0],\n",
    "                       [-sp.sin(theta),0,sp.cos(theta)]])\n",
    "    return rot_y\n",
    "\n",
    "def rot_z(theta):\n",
    "    rot_z = sp.Matrix([[sp.cos(theta),-sp.sin(theta),0],\n",
    "                       [sp.sin(theta),sp.cos(theta),0],\n",
    "                       [0,0,1]])\n",
    "    return rot_z\n",
    "\n",
    "def trans(a,b,c):\n",
    "    x = sp.Matrix([[a],[b],[c]])\n",
    "    return x\n",
    "\n",
    "def get_torque_from_L(L,q,qd):\n",
    "    round_L_round_q = sp.zeros(len(q),1);\n",
    "    i = 0;\n",
    "    for q_i in q:\n",
    "        round_L_round_q_i = [];\n",
    "        round_L_round_q_i = sp.diff(L,q_i);\n",
    "        round_L_round_q[i] = round_L_round_q_i;\n",
    "        i+=1;\n",
    "     \n",
    "    d_dt_round_L_round_qd = sp.zeros(len(qd),1);\n",
    "    i = 0;\n",
    "    for qd_i in qd:\n",
    "        round_L_round_qd_i = [];\n",
    "        d_dt_round_L_round_qd_i = [];\n",
    "        round_L_round_qd_i = sp.diff(L,qd_i);\n",
    "        d_dt_round_L_round_qd_i = time_derivative(round_L_round_qd_i,N);\n",
    "        d_dt_round_L_round_qd[i] = d_dt_round_L_round_qd_i;\n",
    "        i+=1;\n",
    "        \n",
    "    tau = d_dt_round_L_round_qd - round_L_round_q \n",
    "    return tau"
   ]
  },
  {
   "cell_type": "code",
   "execution_count": 3,
   "metadata": {},
   "outputs": [],
   "source": [
    "r, l, D = sp.symbols('r, l, D')\n",
    "m_w, m_b, g = sp.symbols('m_w, m_b, g')\n",
    "I_w, I_b = sp.symbols('I_w, I_b')\n",
    "theta_P, theta_w1, theta_w2 = dynamicsymbols('theta_P, theta_w1, theta_w2')\n",
    "\n",
    "# Displacement Vector\n",
    "x_c1 = trans(r*theta_w1,0,0)\n",
    "x_w1 = x_c1 +  trans(0,D,r)\n",
    "x_c2 = trans(r*theta_w2,0,0)\n",
    "x_w2 = x_c2 +  trans(0,-D,r)\n",
    "x_b = 0.5*(x_w1 + x_w2) +  rot_y(theta_P) @ trans(0,0,l)\n",
    "\n",
    "\n",
    "# Velocity Vector\n",
    "v_w1 = sp.simplify(time_derivative(x_w1,N))\n",
    "v_w2 = sp.simplify(time_derivative(x_w2,N))\n",
    "v_b = sp.simplify(time_derivative(x_b,N))\n",
    "\n",
    "# Angular Velocity Vector\n",
    "w_w1 = trans(0, theta_w1.diff(), 0)\n",
    "w_w2 = trans(0, theta_w2.diff(), 0)\n",
    "w_b = trans(0, theta_P.diff(), 0)\n",
    "\n",
    "\n",
    "# Generalized Coordinates\n",
    "q = sp.Matrix([[theta_w1], [theta_w2], [theta_P]])\n",
    "qd = q.diff()\n",
    "qdd = qd.diff()\n",
    "\n",
    "# Kinetic Energy\n",
    "T_trans = 0.5*(m_w*v_w1.dot(v_w1) + m_w*v_w2.dot(v_w2) + m_b*v_b.dot(v_b))\n",
    "\n",
    "\n",
    "T_body = I_b* w_b[1]**2 \n",
    "T_wheel1 =I_w* w_w1[1]**2 \n",
    "T_wheel2 =I_w* w_w2[1]**2 \n",
    "\n",
    "T_rot = 0.5*(T_body + T_wheel1  +  T_wheel2)\n",
    "\n",
    "# Potential Energy\n",
    "V =  m_b*g*(l*sp.cos(theta_P)) + 2*m_w*g*r \n",
    "\n",
    "# Lagrangian\n",
    "L = T_trans + T_rot - V\n"
   ]
  },
  {
   "cell_type": "code",
   "execution_count": 4,
   "metadata": {},
   "outputs": [
    {
     "data": {
      "text/latex": [
       "$\\displaystyle 0.5 m_{b} \\left(l^{2} \\sin^{2}{\\left(\\theta_{P}{\\left(t \\right)} \\right)} \\left(\\frac{d}{d t} \\theta_{P}{\\left(t \\right)}\\right)^{2} + \\left(l \\cos{\\left(\\theta_{P}{\\left(t \\right)} \\right)} \\frac{d}{d t} \\theta_{P}{\\left(t \\right)} + 0.5 r \\frac{d}{d t} \\theta_{w1}{\\left(t \\right)} + 0.5 r \\frac{d}{d t} \\theta_{w2}{\\left(t \\right)}\\right)^{2}\\right) + 0.5 m_{w} r^{2} \\left(\\frac{d}{d t} \\theta_{w1}{\\left(t \\right)}\\right)^{2} + 0.5 m_{w} r^{2} \\left(\\frac{d}{d t} \\theta_{w2}{\\left(t \\right)}\\right)^{2}$"
      ],
      "text/plain": [
       "0.5*m_b*(l**2*sin(theta_P(t))**2*Derivative(theta_P(t), t)**2 + (l*cos(theta_P(t))*Derivative(theta_P(t), t) + 0.5*r*Derivative(theta_w1(t), t) + 0.5*r*Derivative(theta_w2(t), t))**2) + 0.5*m_w*r**2*Derivative(theta_w1(t), t)**2 + 0.5*m_w*r**2*Derivative(theta_w2(t), t)**2"
      ]
     },
     "execution_count": 4,
     "metadata": {},
     "output_type": "execute_result"
    }
   ],
   "source": [
    "T_trans"
   ]
  },
  {
   "cell_type": "code",
   "execution_count": 5,
   "metadata": {},
   "outputs": [],
   "source": [
    "tau = get_torque_from_L(L,q,qd)\n",
    "tau = sp.simplify(tau)\n",
    "# Ml, Cl, Gl, Wl = ir.get_EoM_from_T(tau,qdd,g)\n",
    "# Ml, Cl, Gl, Wl"
   ]
  },
  {
   "cell_type": "code",
   "execution_count": 6,
   "metadata": {},
   "outputs": [
    {
     "data": {
      "text/latex": [
       "$\\displaystyle \\left[\\begin{matrix}1.0 I_{w} \\frac{d^{2}}{d t^{2}} \\theta_{w1}{\\left(t \\right)} + 0.5 m_{b} r \\left(- l \\sin{\\left(\\theta_{P}{\\left(t \\right)} \\right)} \\left(\\frac{d}{d t} \\theta_{P}{\\left(t \\right)}\\right)^{2} + l \\cos{\\left(\\theta_{P}{\\left(t \\right)} \\right)} \\frac{d^{2}}{d t^{2}} \\theta_{P}{\\left(t \\right)} + 0.5 r \\frac{d^{2}}{d t^{2}} \\theta_{w1}{\\left(t \\right)} + 0.5 r \\frac{d^{2}}{d t^{2}} \\theta_{w2}{\\left(t \\right)}\\right) + 1.0 m_{w} r^{2} \\frac{d^{2}}{d t^{2}} \\theta_{w1}{\\left(t \\right)}\\\\1.0 I_{w} \\frac{d^{2}}{d t^{2}} \\theta_{w2}{\\left(t \\right)} + 0.5 m_{b} r \\left(- l \\sin{\\left(\\theta_{P}{\\left(t \\right)} \\right)} \\left(\\frac{d}{d t} \\theta_{P}{\\left(t \\right)}\\right)^{2} + l \\cos{\\left(\\theta_{P}{\\left(t \\right)} \\right)} \\frac{d^{2}}{d t^{2}} \\theta_{P}{\\left(t \\right)} + 0.5 r \\frac{d^{2}}{d t^{2}} \\theta_{w1}{\\left(t \\right)} + 0.5 r \\frac{d^{2}}{d t^{2}} \\theta_{w2}{\\left(t \\right)}\\right) + 1.0 m_{w} r^{2} \\frac{d^{2}}{d t^{2}} \\theta_{w2}{\\left(t \\right)}\\\\1.0 I_{b} \\frac{d^{2}}{d t^{2}} \\theta_{P}{\\left(t \\right)} - 1.0 g l m_{b} \\sin{\\left(\\theta_{P}{\\left(t \\right)} \\right)} + 1.0 l^{2} m_{b} \\frac{d^{2}}{d t^{2}} \\theta_{P}{\\left(t \\right)} + 0.5 l m_{b} r \\cos{\\left(\\theta_{P}{\\left(t \\right)} \\right)} \\frac{d^{2}}{d t^{2}} \\theta_{w1}{\\left(t \\right)} + 0.5 l m_{b} r \\cos{\\left(\\theta_{P}{\\left(t \\right)} \\right)} \\frac{d^{2}}{d t^{2}} \\theta_{w2}{\\left(t \\right)}\\end{matrix}\\right]$"
      ],
      "text/plain": [
       "Matrix([\n",
       "[1.0*I_w*Derivative(theta_w1(t), (t, 2)) + 0.5*m_b*r*(-l*sin(theta_P(t))*Derivative(theta_P(t), t)**2 + l*cos(theta_P(t))*Derivative(theta_P(t), (t, 2)) + 0.5*r*Derivative(theta_w1(t), (t, 2)) + 0.5*r*Derivative(theta_w2(t), (t, 2))) + 1.0*m_w*r**2*Derivative(theta_w1(t), (t, 2))],\n",
       "[1.0*I_w*Derivative(theta_w2(t), (t, 2)) + 0.5*m_b*r*(-l*sin(theta_P(t))*Derivative(theta_P(t), t)**2 + l*cos(theta_P(t))*Derivative(theta_P(t), (t, 2)) + 0.5*r*Derivative(theta_w1(t), (t, 2)) + 0.5*r*Derivative(theta_w2(t), (t, 2))) + 1.0*m_w*r**2*Derivative(theta_w2(t), (t, 2))],\n",
       "[                                         1.0*I_b*Derivative(theta_P(t), (t, 2)) - 1.0*g*l*m_b*sin(theta_P(t)) + 1.0*l**2*m_b*Derivative(theta_P(t), (t, 2)) + 0.5*l*m_b*r*cos(theta_P(t))*Derivative(theta_w1(t), (t, 2)) + 0.5*l*m_b*r*cos(theta_P(t))*Derivative(theta_w2(t), (t, 2))]])"
      ]
     },
     "execution_count": 6,
     "metadata": {},
     "output_type": "execute_result"
    }
   ],
   "source": [
    "tau"
   ]
  },
  {
   "cell_type": "code",
   "execution_count": 7,
   "metadata": {},
   "outputs": [],
   "source": [
    "T_w1, T_w2 = sp.symbols('T_w1, T_w2')\n",
    "u = sp.Matrix([[T_w1], [T_w2]])\n",
    "\n",
    "u_matrix = sp.Matrix([[-T_w1], [-T_w2], [ T_w1+ T_w2]])"
   ]
  },
  {
   "cell_type": "code",
   "execution_count": 8,
   "metadata": {},
   "outputs": [],
   "source": [
    "tau_eq = tau+u_matrix"
   ]
  },
  {
   "cell_type": "code",
   "execution_count": 9,
   "metadata": {},
   "outputs": [],
   "source": [
    "M, C, G, W = get_EoM_from_T(tau_eq,qdd,g, u)"
   ]
  },
  {
   "cell_type": "code",
   "execution_count": null,
   "metadata": {},
   "outputs": [],
   "source": []
  },
  {
   "cell_type": "code",
   "execution_count": 10,
   "metadata": {},
   "outputs": [
    {
     "data": {
      "text/latex": [
       "$\\displaystyle \\left[\\begin{matrix}1.0 I_{w} \\frac{d^{2}}{d t^{2}} \\theta_{w1}{\\left(t \\right)} - T_{w1} + 0.5 m_{b} r \\left(l \\frac{d^{2}}{d t^{2}} \\theta_{P}{\\left(t \\right)} + 0.5 r \\frac{d^{2}}{d t^{2}} \\theta_{w1}{\\left(t \\right)} + 0.5 r \\frac{d^{2}}{d t^{2}} \\theta_{w2}{\\left(t \\right)}\\right) + 1.0 m_{w} r^{2} \\frac{d^{2}}{d t^{2}} \\theta_{w1}{\\left(t \\right)}\\\\1.0 I_{w} \\frac{d^{2}}{d t^{2}} \\theta_{w2}{\\left(t \\right)} - T_{w2} + 0.5 m_{b} r \\left(l \\frac{d^{2}}{d t^{2}} \\theta_{P}{\\left(t \\right)} + 0.5 r \\frac{d^{2}}{d t^{2}} \\theta_{w1}{\\left(t \\right)} + 0.5 r \\frac{d^{2}}{d t^{2}} \\theta_{w2}{\\left(t \\right)}\\right) + 1.0 m_{w} r^{2} \\frac{d^{2}}{d t^{2}} \\theta_{w2}{\\left(t \\right)}\\\\1.0 I_{b} \\frac{d^{2}}{d t^{2}} \\theta_{P}{\\left(t \\right)} + T_{w1} + T_{w2} - 1.0 g l m_{b} \\theta_{P}{\\left(t \\right)} + 1.0 l^{2} m_{b} \\frac{d^{2}}{d t^{2}} \\theta_{P}{\\left(t \\right)} + 0.5 l m_{b} r \\frac{d^{2}}{d t^{2}} \\theta_{w1}{\\left(t \\right)} + 0.5 l m_{b} r \\frac{d^{2}}{d t^{2}} \\theta_{w2}{\\left(t \\right)}\\end{matrix}\\right]$"
      ],
      "text/plain": [
       "Matrix([\n",
       "[1.0*I_w*Derivative(theta_w1(t), (t, 2)) - T_w1 + 0.5*m_b*r*(l*Derivative(theta_P(t), (t, 2)) + 0.5*r*Derivative(theta_w1(t), (t, 2)) + 0.5*r*Derivative(theta_w2(t), (t, 2))) + 1.0*m_w*r**2*Derivative(theta_w1(t), (t, 2))],\n",
       "[1.0*I_w*Derivative(theta_w2(t), (t, 2)) - T_w2 + 0.5*m_b*r*(l*Derivative(theta_P(t), (t, 2)) + 0.5*r*Derivative(theta_w1(t), (t, 2)) + 0.5*r*Derivative(theta_w2(t), (t, 2))) + 1.0*m_w*r**2*Derivative(theta_w2(t), (t, 2))],\n",
       "[     1.0*I_b*Derivative(theta_P(t), (t, 2)) + T_w1 + T_w2 - 1.0*g*l*m_b*theta_P(t) + 1.0*l**2*m_b*Derivative(theta_P(t), (t, 2)) + 0.5*l*m_b*r*Derivative(theta_w1(t), (t, 2)) + 0.5*l*m_b*r*Derivative(theta_w2(t), (t, 2))]])"
      ]
     },
     "execution_count": 10,
     "metadata": {},
     "output_type": "execute_result"
    }
   ],
   "source": [
    "linearlize_eq = {sp.sin(theta_P):theta_P, sp.cos(theta_P):1, theta_P.diff()**2:0}\n",
    "tau_linear = sp.simplify(tau_eq.subs(linearlize_eq))\n",
    "tau_linear"
   ]
  },
  {
   "cell_type": "code",
   "execution_count": 11,
   "metadata": {},
   "outputs": [],
   "source": [
    "Ml, Cl, Gl, Wl = get_EoM_from_T(tau_linear,qdd,g, u)"
   ]
  },
  {
   "cell_type": "code",
   "execution_count": 23,
   "metadata": {},
   "outputs": [
    {
     "name": "stdout",
     "output_type": "stream",
     "text": [
      "A = [[  0.           0.           0.           1.           0.\n",
      "        0.        ]\n",
      "     [  0.           0.           0.           0.           1.\n",
      "        0.        ]\n",
      "     [  0.           0.           0.           0.           0.\n",
      "        1.        ]\n",
      "     [  0.           0.         -25.03210719   0.           0.\n",
      "        0.        ]\n",
      "     [  0.           0.         -25.03210719   0.           0.\n",
      "        0.        ]\n",
      "     [  0.           0.          29.1477018    0.           0.\n",
      "        0.        ]]\n",
      "\n",
      "B = [[ 0.          0.        ]\n",
      "     [ 0.          0.        ]\n",
      "     [ 0.          0.        ]\n",
      "     [ 1.65100151  0.00699069]\n",
      "     [ 0.00699069  1.65100151]\n",
      "     [-0.46024303 -0.46024303]]\n",
      "\n",
      "C = [[1. 0. 0. 0. 0. 0.]\n",
      "     [0. 1. 0. 0. 0. 0.]\n",
      "     [0. 0. 1. 0. 0. 0.]\n",
      "     [0. 0. 0. 1. 0. 0.]\n",
      "     [0. 0. 0. 0. 1. 0.]\n",
      "     [0. 0. 0. 0. 0. 1.]]\n",
      "\n",
      "D = [[0. 0.]\n",
      "     [0. 0.]\n",
      "     [0. 0.]\n",
      "     [0. 0.]\n",
      "     [0. 0.]\n",
      "     [0. 0.]]\n",
      "\n"
     ]
    }
   ],
   "source": [
    "param = {I_w:0.199893505, I_b:2.139168508, m_b:40, m_w:15, r:0.165,l:0.3,  g:9.81}\n",
    "\n",
    "Mlp = msubs(Ml, param)\n",
    "Clp = msubs(Cl, param)\n",
    "Glp = msubs(Gl, param)\n",
    "Wlp = msubs(Wl, param)\n",
    "\n",
    "Mlp_inv = Mlp.inv()\n",
    "qdd_rhs_A = Mlp_inv*(-Clp -Glp)\n",
    "qdd_rhs_B = Mlp_inv*Wlp*u\n",
    "\n",
    "X = q.col_join(qd)\n",
    "Xd_A = qd.col_join(qdd_rhs_A)\n",
    "Xd_B = qd.col_join(qdd_rhs_B)\n",
    "U = u\n",
    "\n",
    "A = Xd_A.jacobian(X)\n",
    "B = Xd_B.jacobian(U)\n",
    "C = X.jacobian(X)\n",
    "D = X.jacobian(U)\n",
    "\n",
    "ss0 = [A, B, C, D]\n",
    "sys0 = control.ss(*[pl.array(mat_i.subs(param)).astype(float) for mat_i in ss0])\n",
    "mprint(sys0)"
   ]
  },
  {
   "cell_type": "code",
   "execution_count": null,
   "metadata": {},
   "outputs": [],
   "source": []
  }
 ],
 "metadata": {
  "kernelspec": {
   "display_name": "Python 3.7.11 ('py37')",
   "language": "python",
   "name": "python3"
  },
  "language_info": {
   "codemirror_mode": {
    "name": "ipython",
    "version": 3
   },
   "file_extension": ".py",
   "mimetype": "text/x-python",
   "name": "python",
   "nbconvert_exporter": "python",
   "pygments_lexer": "ipython3",
   "version": "3.7.11"
  },
  "vscode": {
   "interpreter": {
    "hash": "f2376f10e5480d9dd8a0eeeaa81051e72d24d2357c52529331f089560bf138e7"
   }
  }
 },
 "nbformat": 4,
 "nbformat_minor": 4
}
