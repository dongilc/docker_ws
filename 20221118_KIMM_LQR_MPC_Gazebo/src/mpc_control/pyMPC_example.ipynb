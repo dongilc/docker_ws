{
 "cells": [
  {
   "cell_type": "code",
   "execution_count": 1,
   "metadata": {},
   "outputs": [],
   "source": [
    "# General import \n",
    "\n",
    "import numpy as np\n",
    "import scipy.sparse as sparse\n",
    "from scipy.integrate import ode\n",
    "import time\n",
    "import matplotlib.pyplot as plt\n",
    "from pyMPC.mpc import MPCController\n",
    "import dynamics\n",
    "import sympy as sp\n",
    "import numpy as np\n",
    "from sympy.physics.vector import dynamicsymbols\n",
    "from sympy.physics.vector import time_derivative\n",
    "from sympy.physics.vector import ReferenceFrame\n",
    "N = ReferenceFrame('N')\n",
    "import pylab as pl\n",
    "import control\n",
    "from EoM import *\n",
    "from sympy.physics.mechanics import *\n",
    "from numpy.linalg import matrix_rank, eig\n",
    "import math\n",
    "import intelligent_robotics as ir\n"
   ]
  },
  {
   "cell_type": "code",
   "execution_count": 2,
   "metadata": {},
   "outputs": [],
   "source": [
    "x_next = dynamics.get_x_next()\n",
    "\n",
    "T_w1, T_w2 = sp.symbols('T_w1, T_w2')\n",
    "theta_P, theta_w1, theta_w2 = dynamicsymbols('theta_P, theta_w1, theta_w2')"
   ]
  },
  {
   "cell_type": "code",
   "execution_count": 3,
   "metadata": {},
   "outputs": [],
   "source": [
    "# System dynamics: \\dot x = f_ODE(t,x,u)\n",
    "# x = [[theta_1], [theta_2], [theta_p], [dtheta_1], [dtheta_2], [dtheta_p]]^T\n",
    "\n",
    "def f_ODE(x_next,x,u):\n",
    "    T_w1 = u[0]\n",
    "    T_w2 = u[1]\n",
    "    \n",
    "    param = {theta_P:x[2], theta_P.diff():x[5]}\n",
    "    x_next_1 = msubs(x_next,param)\n",
    "    \n",
    "    dtheta_w1 = x[3]\n",
    "    dtheta_w2 = x[4]\n",
    "    dtheta_P = x[5]\n",
    "    \n",
    "    der = np.zeros(6)\n",
    "    der[0] = dtheta_w1\n",
    "    der[1] = dtheta_w2\n",
    "    der[2] = dtheta_P\n",
    "    der[3] = x_next_1[3]\n",
    "    der[4] = x_next_1[4]\n",
    "    der[5] = x_next_1[5]\n",
    "    \n",
    "    return der"
   ]
  },
  {
   "cell_type": "code",
   "execution_count": 4,
   "metadata": {},
   "outputs": [],
   "source": [
    "Ac = np.array([[0,0,0,1,0,0],\n",
    "              [0,0,0,0,1,0],\n",
    "              [0,0,0,0,0,1],\n",
    "              [0,0,-25.03210719,0,0,0],\n",
    "              [0,0,-25.03210719,0,0,0],\n",
    "              [0,0,29.1477018,0,0,0]])\n",
    "\n",
    "Bc = np.array([[0,0],\n",
    "              [0,0],\n",
    "              [0,0],\n",
    "              [1.6579922,0.00699069],\n",
    "              [0.00699069,1.6579922],\n",
    "              [-0.46024303, -0.46024303]])"
   ]
  },
  {
   "cell_type": "code",
   "execution_count": 5,
   "metadata": {},
   "outputs": [],
   "source": [
    "# Linearized System Matrices \n",
    "    \n",
    "# Continuous-time system matrices, linearized about the upright, unstable equilibrium point \n",
    "[nx, nu] = Bc.shape # number of states and number or inputs\n",
    "\n",
    "\n",
    "# Simple forward euler discretization\n",
    "Ts = 50e-3\n",
    "Ad = np.eye(nx) + Ac*Ts\n",
    "Bd = Bc*Ts"
   ]
  },
  {
   "cell_type": "code",
   "execution_count": 6,
   "metadata": {},
   "outputs": [],
   "source": [
    "# MPC reference input and states (set-points)\n",
    "\n",
    "xref = np.array([0.2, 0.2, 0, 0, 0, 0]) # reference state\n",
    "uref = np.array([0, 0])    # reference input\n",
    "uminus1 = np.array([0, 0])     # input at time step negative one - used to penalize the first delta u at time instant 0. Could be the same as uref.\n",
    "\n",
    "# Constraints\n",
    "xmin = np.array([-100, -100, -100, -100, -100, -100])\n",
    "xmax = np.array([ 100,  100,  100,  100,  100,  100])\n",
    "\n",
    "umin = np.array([-40, -40])\n",
    "umax = np.array([40, 40])\n",
    "\n",
    "# Constraints input variation with respect to previous sample\n",
    "Dumin = np.array([-5, -5])\n",
    "Dumax = np.array([5, 5])"
   ]
  },
  {
   "cell_type": "code",
   "execution_count": 7,
   "metadata": {},
   "outputs": [],
   "source": [
    "# MPC cost function weights\n",
    "\n",
    "Qx = sparse.diags([0.5, 0.5, 1, 0, 0, 0])   # Quadratic cost for states x0, x1, ..., x_N-1\n",
    "QxN = sparse.diags([0.5, 0.5, 1, 0, 0, 0])  # Quadratic cost for xN\n",
    "Qu = 0.0 * sparse.eye(2)        # Quadratic cost for u0, u1, ...., u_N-1\n",
    "QDu = 0.01 * sparse.eye(2)       # Quadratic cost for Du0, Du1, ...., Du_N-1"
   ]
  },
  {
   "cell_type": "code",
   "execution_count": 8,
   "metadata": {},
   "outputs": [
    {
     "data": {
      "text/plain": [
       "<scipy.integrate._ode.ode at 0x1291ce8de70>"
      ]
     },
     "execution_count": 8,
     "metadata": {},
     "output_type": "execute_result"
    }
   ],
   "source": [
    "# Initialize simulation system\n",
    "\n",
    "phi0 = 15*2*np.pi/360\n",
    "x0 = np.array([0, 0, phi0, 0, 0, 0]) # initial state\n",
    "t0 = 0\n",
    "system_dyn = ode(f_ODE).set_integrator('vode', method='bdf')\n",
    "system_dyn.set_initial_value(x0, t0)\n",
    "system_dyn.set_f_params(0.0)"
   ]
  },
  {
   "cell_type": "code",
   "execution_count": 9,
   "metadata": {},
   "outputs": [
    {
     "name": "stdout",
     "output_type": "stream",
     "text": [
      "0.050076961517333984\n",
      "0.049065589904785156\n",
      "0.0010113716125488281\n"
     ]
    }
   ],
   "source": [
    "Np = 50\n",
    "# Initialize and setup MPC controller\n",
    "\n",
    "t1 = time.time()\n",
    "K = MPCController(Ad,Bd,Np=Np, x0=x0,xref=xref,uminus1=uminus1,\n",
    "                  Qx=Qx, QxN=QxN, Qu=Qu,QDu=QDu,\n",
    "                  xmin=xmin,xmax=xmax,umin=umin,umax=umax,Dumin=Dumin,Dumax=Dumax)\n",
    "t3 = time.time()\n",
    "K.setup() # this initializes the QP problem for the first step\n",
    "\n",
    "uMPC = uminus1\n",
    "K.update(system_dyn.y, uMPC) # update with measurement\n",
    "uMPC = K.output() # MPC step (u_k value)\n",
    "t2 = time.time()\n",
    "print(t2-t1)\n",
    "print(t2-t3)\n",
    "print(t3-t1)"
   ]
  },
  {
   "cell_type": "code",
   "execution_count": 10,
   "metadata": {},
   "outputs": [
    {
     "data": {
      "text/plain": [
       "array([0.        , 0.        , 0.26179939, 0.        , 0.        ,\n",
       "       0.        ])"
      ]
     },
     "execution_count": 10,
     "metadata": {},
     "output_type": "execute_result"
    }
   ],
   "source": [
    "system_dyn.y"
   ]
  },
  {
   "cell_type": "code",
   "execution_count": 11,
   "metadata": {},
   "outputs": [
    {
     "data": {
      "text/plain": [
       "array([5.00405219, 5.01779702])"
      ]
     },
     "execution_count": 11,
     "metadata": {},
     "output_type": "execute_result"
    }
   ],
   "source": [
    "uMPC = uminus1\n",
    "K.update(system_dyn.y, uMPC) # update with measurement\n",
    "uMPC = K.output() # MPC step (u_k value)\n",
    "uMPC"
   ]
  },
  {
   "cell_type": "code",
   "execution_count": 13,
   "metadata": {},
   "outputs": [
    {
     "ename": "AttributeError",
     "evalue": "'float' object has no attribute 'args'",
     "output_type": "error",
     "traceback": [
      "\u001b[1;31m---------------------------------------------------------------------------\u001b[0m",
      "\u001b[1;31mAttributeError\u001b[0m                            Traceback (most recent call last)",
      "Cell \u001b[1;32mIn[13], line 25\u001b[0m\n\u001b[0;32m     23\u001b[0m \u001b[38;5;66;03m# System simulation\u001b[39;00m\n\u001b[0;32m     24\u001b[0m system_dyn\u001b[38;5;241m.\u001b[39mset_f_params(uMPC) \u001b[38;5;66;03m# set current input value\u001b[39;00m\n\u001b[1;32m---> 25\u001b[0m \u001b[43msystem_dyn\u001b[49m\u001b[38;5;241;43m.\u001b[39;49m\u001b[43mintegrate\u001b[49m\u001b[43m(\u001b[49m\u001b[43mt_step\u001b[49m\u001b[43m \u001b[49m\u001b[38;5;241;43m+\u001b[39;49m\u001b[43m \u001b[49m\u001b[43mTs\u001b[49m\u001b[43m)\u001b[49m\n\u001b[0;32m     27\u001b[0m \u001b[38;5;66;03m# Time update\u001b[39;00m\n\u001b[0;32m     28\u001b[0m t_step \u001b[38;5;241m=\u001b[39m t_step \u001b[38;5;241m+\u001b[39m Ts\n",
      "File \u001b[1;32m~\\anaconda3\\lib\\site-packages\\scipy\\integrate\\_ode.py:431\u001b[0m, in \u001b[0;36mode.integrate\u001b[1;34m(self, t, step, relax)\u001b[0m\n\u001b[0;32m    428\u001b[0m     mth \u001b[38;5;241m=\u001b[39m \u001b[38;5;28mself\u001b[39m\u001b[38;5;241m.\u001b[39m_integrator\u001b[38;5;241m.\u001b[39mrun\n\u001b[0;32m    430\u001b[0m \u001b[38;5;28;01mtry\u001b[39;00m:\n\u001b[1;32m--> 431\u001b[0m     \u001b[38;5;28mself\u001b[39m\u001b[38;5;241m.\u001b[39m_y, \u001b[38;5;28mself\u001b[39m\u001b[38;5;241m.\u001b[39mt \u001b[38;5;241m=\u001b[39m \u001b[43mmth\u001b[49m\u001b[43m(\u001b[49m\u001b[38;5;28;43mself\u001b[39;49m\u001b[38;5;241;43m.\u001b[39;49m\u001b[43mf\u001b[49m\u001b[43m,\u001b[49m\u001b[43m \u001b[49m\u001b[38;5;28;43mself\u001b[39;49m\u001b[38;5;241;43m.\u001b[39;49m\u001b[43mjac\u001b[49m\u001b[43m \u001b[49m\u001b[38;5;129;43;01mor\u001b[39;49;00m\u001b[43m \u001b[49m\u001b[43m(\u001b[49m\u001b[38;5;28;43;01mlambda\u001b[39;49;00m\u001b[43m:\u001b[49m\u001b[43m \u001b[49m\u001b[38;5;28;43;01mNone\u001b[39;49;00m\u001b[43m)\u001b[49m\u001b[43m,\u001b[49m\n\u001b[0;32m    432\u001b[0m \u001b[43m                          \u001b[49m\u001b[38;5;28;43mself\u001b[39;49m\u001b[38;5;241;43m.\u001b[39;49m\u001b[43m_y\u001b[49m\u001b[43m,\u001b[49m\u001b[43m \u001b[49m\u001b[38;5;28;43mself\u001b[39;49m\u001b[38;5;241;43m.\u001b[39;49m\u001b[43mt\u001b[49m\u001b[43m,\u001b[49m\u001b[43m \u001b[49m\u001b[43mt\u001b[49m\u001b[43m,\u001b[49m\n\u001b[0;32m    433\u001b[0m \u001b[43m                          \u001b[49m\u001b[38;5;28;43mself\u001b[39;49m\u001b[38;5;241;43m.\u001b[39;49m\u001b[43mf_params\u001b[49m\u001b[43m,\u001b[49m\u001b[43m \u001b[49m\u001b[38;5;28;43mself\u001b[39;49m\u001b[38;5;241;43m.\u001b[39;49m\u001b[43mjac_params\u001b[49m\u001b[43m)\u001b[49m\n\u001b[0;32m    434\u001b[0m \u001b[38;5;28;01mexcept\u001b[39;00m \u001b[38;5;167;01mSystemError\u001b[39;00m \u001b[38;5;28;01mas\u001b[39;00m e:\n\u001b[0;32m    435\u001b[0m     \u001b[38;5;66;03m# f2py issue with tuple returns, see ticket 1187.\u001b[39;00m\n\u001b[0;32m    436\u001b[0m     \u001b[38;5;28;01mraise\u001b[39;00m \u001b[38;5;167;01mValueError\u001b[39;00m(\n\u001b[0;32m    437\u001b[0m         \u001b[38;5;124m'\u001b[39m\u001b[38;5;124mFunction to integrate must not return a tuple.\u001b[39m\u001b[38;5;124m'\u001b[39m\n\u001b[0;32m    438\u001b[0m     ) \u001b[38;5;28;01mfrom\u001b[39;00m \u001b[38;5;21;01me\u001b[39;00m\n",
      "File \u001b[1;32m~\\anaconda3\\lib\\site-packages\\scipy\\integrate\\_ode.py:1007\u001b[0m, in \u001b[0;36mvode.run\u001b[1;34m(self, f, jac, y0, t0, t1, f_params, jac_params)\u001b[0m\n\u001b[0;32m   1003\u001b[0m     jac \u001b[38;5;241m=\u001b[39m _vode_banded_jac_wrapper(jac, \u001b[38;5;28mself\u001b[39m\u001b[38;5;241m.\u001b[39mml, jac_params)\n\u001b[0;32m   1005\u001b[0m args \u001b[38;5;241m=\u001b[39m ((f, jac, y0, t0, t1) \u001b[38;5;241m+\u001b[39m \u001b[38;5;28mtuple\u001b[39m(\u001b[38;5;28mself\u001b[39m\u001b[38;5;241m.\u001b[39mcall_args) \u001b[38;5;241m+\u001b[39m\n\u001b[0;32m   1006\u001b[0m         (f_params, jac_params))\n\u001b[1;32m-> 1007\u001b[0m y1, t, istate \u001b[38;5;241m=\u001b[39m \u001b[38;5;28;43mself\u001b[39;49m\u001b[38;5;241;43m.\u001b[39;49m\u001b[43mrunner\u001b[49m\u001b[43m(\u001b[49m\u001b[38;5;241;43m*\u001b[39;49m\u001b[43margs\u001b[49m\u001b[43m)\u001b[49m\n\u001b[0;32m   1008\u001b[0m \u001b[38;5;28mself\u001b[39m\u001b[38;5;241m.\u001b[39mistate \u001b[38;5;241m=\u001b[39m istate\n\u001b[0;32m   1009\u001b[0m \u001b[38;5;28;01mif\u001b[39;00m istate \u001b[38;5;241m<\u001b[39m \u001b[38;5;241m0\u001b[39m:\n",
      "Cell \u001b[1;32mIn[3], line 9\u001b[0m, in \u001b[0;36mf_ODE\u001b[1;34m(x_next, x, u)\u001b[0m\n\u001b[0;32m      6\u001b[0m T_w2 \u001b[38;5;241m=\u001b[39m u[\u001b[38;5;241m1\u001b[39m]\n\u001b[0;32m      8\u001b[0m param \u001b[38;5;241m=\u001b[39m {theta_P:x[\u001b[38;5;241m2\u001b[39m], theta_P\u001b[38;5;241m.\u001b[39mdiff():x[\u001b[38;5;241m5\u001b[39m]}\n\u001b[1;32m----> 9\u001b[0m x_next_1 \u001b[38;5;241m=\u001b[39m \u001b[43mmsubs\u001b[49m\u001b[43m(\u001b[49m\u001b[43mx_next\u001b[49m\u001b[43m,\u001b[49m\u001b[43mparam\u001b[49m\u001b[43m)\u001b[49m\n\u001b[0;32m     11\u001b[0m dtheta_w1 \u001b[38;5;241m=\u001b[39m x[\u001b[38;5;241m3\u001b[39m]\n\u001b[0;32m     12\u001b[0m dtheta_w2 \u001b[38;5;241m=\u001b[39m x[\u001b[38;5;241m4\u001b[39m]\n",
      "File \u001b[1;32m~\\anaconda3\\lib\\site-packages\\sympy\\physics\\mechanics\\functions.py:622\u001b[0m, in \u001b[0;36mmsubs\u001b[1;34m(expr, smart, *sub_dicts, **kwargs)\u001b[0m\n\u001b[0;32m    620\u001b[0m     \u001b[38;5;28;01mreturn\u001b[39;00m expr\u001b[38;5;241m.\u001b[39mapplyfunc(\u001b[38;5;28;01mlambda\u001b[39;00m x: func(x, sub_dict))\n\u001b[0;32m    621\u001b[0m \u001b[38;5;28;01melse\u001b[39;00m:\n\u001b[1;32m--> 622\u001b[0m     \u001b[38;5;28;01mreturn\u001b[39;00m \u001b[43mfunc\u001b[49m\u001b[43m(\u001b[49m\u001b[43mexpr\u001b[49m\u001b[43m,\u001b[49m\u001b[43m \u001b[49m\u001b[43msub_dict\u001b[49m\u001b[43m)\u001b[49m\n",
      "File \u001b[1;32m~\\anaconda3\\lib\\site-packages\\sympy\\physics\\mechanics\\functions.py:618\u001b[0m, in \u001b[0;36mmsubs.<locals>.<lambda>\u001b[1;34m(expr, sub_dict)\u001b[0m\n\u001b[0;32m    616\u001b[0m     \u001b[38;5;28;01mreturn\u001b[39;00m expr\u001b[38;5;241m.\u001b[39mmsubs(sub_dict)\n\u001b[0;32m    617\u001b[0m \u001b[38;5;28;01melse\u001b[39;00m:\n\u001b[1;32m--> 618\u001b[0m     func \u001b[38;5;241m=\u001b[39m \u001b[38;5;28;01mlambda\u001b[39;00m expr, sub_dict: \u001b[43m_crawl\u001b[49m\u001b[43m(\u001b[49m\u001b[43mexpr\u001b[49m\u001b[43m,\u001b[49m\u001b[43m \u001b[49m\u001b[43m_sub_func\u001b[49m\u001b[43m,\u001b[49m\u001b[43m \u001b[49m\u001b[43msub_dict\u001b[49m\u001b[43m)\u001b[49m\n\u001b[0;32m    619\u001b[0m \u001b[38;5;28;01mif\u001b[39;00m \u001b[38;5;28misinstance\u001b[39m(expr, (Matrix, Vector, Dyadic)):\n\u001b[0;32m    620\u001b[0m     \u001b[38;5;28;01mreturn\u001b[39;00m expr\u001b[38;5;241m.\u001b[39mapplyfunc(\u001b[38;5;28;01mlambda\u001b[39;00m x: func(x, sub_dict))\n",
      "File \u001b[1;32m~\\anaconda3\\lib\\site-packages\\sympy\\physics\\mechanics\\functions.py:627\u001b[0m, in \u001b[0;36m_crawl\u001b[1;34m(expr, func, *args, **kwargs)\u001b[0m\n\u001b[0;32m    625\u001b[0m \u001b[38;5;28;01mdef\u001b[39;00m \u001b[38;5;21m_crawl\u001b[39m(expr, func, \u001b[38;5;241m*\u001b[39margs, \u001b[38;5;241m*\u001b[39m\u001b[38;5;241m*\u001b[39mkwargs):\n\u001b[0;32m    626\u001b[0m     \u001b[38;5;124;03m\"\"\"Crawl the expression tree, and apply func to every node.\"\"\"\u001b[39;00m\n\u001b[1;32m--> 627\u001b[0m     val \u001b[38;5;241m=\u001b[39m func(expr, \u001b[38;5;241m*\u001b[39margs, \u001b[38;5;241m*\u001b[39m\u001b[38;5;241m*\u001b[39mkwargs)\n\u001b[0;32m    628\u001b[0m     \u001b[38;5;28;01mif\u001b[39;00m val \u001b[38;5;129;01mis\u001b[39;00m \u001b[38;5;129;01mnot\u001b[39;00m \u001b[38;5;28;01mNone\u001b[39;00m:\n\u001b[0;32m    629\u001b[0m         \u001b[38;5;28;01mreturn\u001b[39;00m val\n",
      "File \u001b[1;32m~\\anaconda3\\lib\\site-packages\\sympy\\physics\\mechanics\\functions.py:638\u001b[0m, in \u001b[0;36m_sub_func\u001b[1;34m(expr, sub_dict)\u001b[0m\n\u001b[0;32m    636\u001b[0m \u001b[38;5;28;01mif\u001b[39;00m expr \u001b[38;5;129;01min\u001b[39;00m sub_dict:\n\u001b[0;32m    637\u001b[0m     \u001b[38;5;28;01mreturn\u001b[39;00m sub_dict[expr]\n\u001b[1;32m--> 638\u001b[0m \u001b[38;5;28;01melif\u001b[39;00m \u001b[38;5;129;01mnot\u001b[39;00m \u001b[43mexpr\u001b[49m\u001b[38;5;241;43m.\u001b[39;49m\u001b[43margs\u001b[49m \u001b[38;5;129;01mor\u001b[39;00m expr\u001b[38;5;241m.\u001b[39mis_Derivative:\n\u001b[0;32m    639\u001b[0m     \u001b[38;5;28;01mreturn\u001b[39;00m expr\n",
      "\u001b[1;31mAttributeError\u001b[0m: 'float' object has no attribute 'args'"
     ]
    }
   ],
   "source": [
    " #Simulate in closed loop. Use MPC model as real system\n",
    "\n",
    "# Simulate in closed loop\n",
    "[nx, nu] = Bd.shape # number of states and number or inputs\n",
    "len_sim = 10 # simulation length (s)\n",
    "nsim = int(len_sim/Ts) # simulation length(timesteps)\n",
    "xsim = np.zeros((nsim,nx))\n",
    "usim = np.zeros((nsim,nu))\n",
    "tsim = np.arange(0,nsim)*Ts\n",
    "\n",
    "time_start = time.time()\n",
    "\n",
    "t_step = t0\n",
    "uMPC = uminus1\n",
    "for i in range(nsim):\n",
    "    xsim[i,:] = system_dyn.y\n",
    "\n",
    "    # MPC update and step. Could be in just one function call\n",
    "    K.update(system_dyn.y, uMPC) # update with measurement\n",
    "    uMPC = K.output() # MPC step (u_k value)\n",
    "    usim[i,:] = uMPC\n",
    "\n",
    "    # System simulation\n",
    "    system_dyn.set_f_params(uMPC) # set current input value\n",
    "    system_dyn.integrate(t_step + Ts)\n",
    "\n",
    "    # Time update\n",
    "    t_step = t_step + Ts\n",
    "time_sim = time.time() - time_start"
   ]
  },
  {
   "cell_type": "code",
   "execution_count": null,
   "metadata": {},
   "outputs": [],
   "source": [
    "# Plot results\n",
    "\n",
    "fig,axes = plt.subplots(3,1, figsize=(10,10))\n",
    "axes[0].plot(tsim, xsim[:,0], \"k\", label='p')\n",
    "axes[0].plot(tsim, xref[0]*np.ones(np.shape(tsim)), \"r--\", label=\"p_ref\")\n",
    "axes[0].set_title(\"Position (m)\")\n",
    "\n",
    "axes[1].plot(tsim, xsim[:,2]*360/2/np.pi, label=\"phi\")\n",
    "axes[1].plot(tsim, xref[2]*360/2/np.pi*np.ones(np.shape(tsim)), \"r--\", label=\"phi_ref\")\n",
    "axes[1].set_title(\"Angle (deg)\")\n",
    "\n",
    "axes[2].plot(tsim, usim[:,0], label=\"u\")\n",
    "axes[2].plot(tsim, uref*np.ones(np.shape(tsim)), \"r--\", label=\"u_ref\")\n",
    "axes[2].set_title(\"Force (N)\")\n",
    "\n",
    "for ax in axes:\n",
    "    ax.grid(True)\n",
    "    ax.legend()"
   ]
  },
  {
   "cell_type": "code",
   "execution_count": null,
   "metadata": {},
   "outputs": [],
   "source": []
  }
 ],
 "metadata": {
  "kernelspec": {
   "display_name": "Python 3 (ipykernel)",
   "language": "python",
   "name": "python3"
  },
  "language_info": {
   "codemirror_mode": {
    "name": "ipython",
    "version": 3
   },
   "file_extension": ".py",
   "mimetype": "text/x-python",
   "name": "python",
   "nbconvert_exporter": "python",
   "pygments_lexer": "ipython3",
   "version": "3.10.9"
  },
  "vscode": {
   "interpreter": {
    "hash": "f2376f10e5480d9dd8a0eeeaa81051e72d24d2357c52529331f089560bf138e7"
   }
  }
 },
 "nbformat": 4,
 "nbformat_minor": 4
}
