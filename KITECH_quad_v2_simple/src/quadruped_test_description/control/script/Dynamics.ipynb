{
 "cells": [
  {
   "cell_type": "code",
   "execution_count": 1,
   "metadata": {},
   "outputs": [],
   "source": [
    "import sympy as sp\n",
    "import numpy as np\n",
    "from sympy.physics.vector import dynamicsymbols\n",
    "from sympy.physics.vector import time_derivative\n",
    "from sympy.physics.vector import ReferenceFrame\n",
    "N = ReferenceFrame('N')\n",
    "import pylab as pl\n",
    "import control\n",
    "import dmpc\n",
    "\n",
    "\n",
    "from eom import *\n",
    "from sympy.physics.mechanics import *\n",
    "from numpy.linalg import matrix_rank, eig\n",
    "import math\n",
    "# import intelligent_robotics as ir\n",
    "import numpy as np\n",
    "from scipy.integrate import odeint\n",
    "from sympy import simplify\n",
    "from sympy import sin, cos, symbols, Matrix, solve\n",
    "import matplotlib.pyplot as plt\n",
    "from sympy.physics.vector import init_vprinting\n",
    "init_vprinting()"
   ]
  },
  {
   "attachments": {},
   "cell_type": "markdown",
   "metadata": {},
   "source": [
    "## System dynamics ##\n",
    "\n",
    "The system to be controlled is an dual-moiton inverted pendulum on a cart (see next Figure).  \n",
    "\n",
    "<img src=\"dual_motion.png\" width=\"800\" align=\"center\"/>\n",
    "\n",
    "Parameter description  \n",
    "$m_t$ = 몸체 무게  \n",
    "$m_c$ = 슬라이더 무게  \n",
    "$m_w$ = 휠 무게  \n",
    "$r$ = 휠 반지름  \n",
    "$\\theta_p $ = 몸체의 기울기(그림에서 $\\theta$)  \n",
    "$\\theta_w $ = 휠 각도  \n",
    "$x_l$ = 슬라이더 위치  \n",
    "$h_t$ = 휠 중심부터 몸체 중심 까지의 거리  \n",
    "$h_c$ = 휠 중심부터 슬라이더 중심 까지의 거리  \n",
    "$I_t$ = 몸체 관성 모멘트  \n",
    "$I_c$ = 슬라이더 관성 모멘트  \n",
    "$I_w$ = 휠 관성 모멘트  \n",
    "\n",
    "Lagrangian dynamics system parameter = $[\\theta_w\\; \\theta_p\\; x_l]$\n",
    "\n"
   ]
  },
  {
   "cell_type": "code",
   "execution_count": 2,
   "metadata": {},
   "outputs": [],
   "source": [
    "r, h_t, h_c, t = sp.symbols('r, h_t, h_c, t')\n",
    "m_w, m_wr, m_wl, m_t, m_c, g = sp.symbols('m_w, m_wr, m_wl, m_t, m_c, g')\n",
    "I_w, I_t, I_c = sp.symbols('I_w, I_t, I_c')\n",
    "x, theta_wl, theta_wr, theta_p, x_l = dynamicsymbols('x, theta_wl, theta_wr, theta_p, x_l')"
   ]
  },
  {
   "cell_type": "code",
   "execution_count": 3,
   "metadata": {},
   "outputs": [
    {
     "data": {
      "text/latex": [
       "$\\displaystyle 0.5 I_{c} \\dot{\\theta}_{p}^{2} + 0.5 I_{t} \\dot{\\theta}_{p}^{2} + \\frac{0.5 I_{w} \\dot{x}^{2}}{r^{2}} - g h_{c} m_{c} \\cos{\\left(\\theta_{p} \\right)} - g m_{t} \\left(h_{t} \\cos{\\left(\\theta_{p} \\right)} - x_{l} \\sin{\\left(\\theta_{p} \\right)}\\right) + 0.5 m_{c} \\left(h_{c}^{2} \\sin^{2}{\\left(\\theta_{p} \\right)} \\dot{\\theta}_{p}^{2} + \\left(h_{c} \\cos{\\left(\\theta_{p} \\right)} \\dot{\\theta}_{p} + \\dot{x}\\right)^{2}\\right) + 0.5 m_{t} \\left(\\left(- h_{t} \\sin{\\left(\\theta_{p} \\right)} \\dot{\\theta}_{p} - x_{l} \\cos{\\left(\\theta_{p} \\right)} \\dot{\\theta}_{p} - \\sin{\\left(\\theta_{p} \\right)} \\dot{x}_{l}\\right)^{2} + \\left(h_{t} \\cos{\\left(\\theta_{p} \\right)} \\dot{\\theta}_{p} - x_{l} \\sin{\\left(\\theta_{p} \\right)} \\dot{\\theta}_{p} + \\cos{\\left(\\theta_{p} \\right)} \\dot{x}_{l} + \\dot{x}\\right)^{2}\\right) + 0.5 m_{w} \\dot{x}^{2}$"
      ],
      "text/plain": [
       "                                    2                                         \n",
       "          2            2   0.5⋅I_w⋅ẋ                                         \n",
       "0.5⋅I_c⋅θₚ̇  + 0.5⋅Iₜ⋅θₚ̇  + ────────── - g⋅h_c⋅m_c⋅cos(θₚ) - g⋅mₜ⋅(hₜ⋅cos(θₚ)\n",
       "                                2                                             \n",
       "                               r                                              \n",
       "\n",
       "                                                                              \n",
       "                        ⎛   2    2       2                       2⎞          ⎛\n",
       " - xₗ⋅sin(θₚ)) + 0.5⋅m_c⋅⎝h_c ⋅sin (θₚ)⋅θₚ̇  + (h_c⋅cos(θₚ)⋅θₚ̇ + ẋ) ⎠ + 0.5⋅\n",
       "                                                                              \n",
       "                                                                              \n",
       "\n",
       "                                                                              \n",
       "                                             2                                \n",
       "mₜ⋅⎝(-hₜ⋅sin(θₚ)⋅θₚ̇ - xₗ⋅cos(θₚ)⋅θₚ̇ - sin(θₚ)⋅xₗ̇)  + (hₜ⋅cos(θₚ)⋅θₚ̇ - xₗ⋅s\n",
       "                                                                              \n",
       "                                                                              \n",
       "\n",
       "                                 \n",
       "                   2⎞            2\n",
       "in(θₚ)⋅θₚ̇ + cos(θₚ)⋅xₗ̇ + ẋ) ⎠ + 0.5⋅m_w⋅ẋ \n",
       "                                 \n",
       "                                 "
      ]
     },
     "execution_count": 3,
     "metadata": {},
     "output_type": "execute_result"
    }
   ],
   "source": [
    "# Displacement Vector\n",
    "# x_wl = trans(r*theta_wl,0,0)\n",
    "# x_wr = trans(r*theta_wr,0,0)\n",
    "# x_c = (x_wr + x_wl)/2 + rot_y(theta_p) @ trans(0,0,h_c)\n",
    "# x_t = (x_wr + x_wl)/2 + rot_y(theta_p) @ trans(x_l,0,h_t)\n",
    "x_b = trans(x,0,0)\n",
    "x_c = x_b + rot_y(theta_p) @ trans(0,0,h_c)\n",
    "x_t = x_b + rot_y(theta_p) @ trans(x_l,0,h_t)\n",
    "\n",
    "# Velocity Vector\n",
    "# v_wl = sp.simplify(time_derivative(x_wl,N))\n",
    "# v_wr = sp.simplify(time_derivative(x_wr,N))\n",
    "v_c = sp.simplify(time_derivative(x_c,N))\n",
    "v_t = sp.simplify(time_derivative(x_t,N))\n",
    "v_b = sp.simplify(time_derivative(x_b,N))\n",
    "\n",
    "# Angular Velocity Vector\n",
    "w_wl = trans(0, theta_wl.diff(), 0)\n",
    "w_wr = trans(0, theta_wr.diff(), 0)\n",
    "w_t = trans(0, theta_p.diff(), 0)\n",
    "w_c = trans(x_l.diff(), 0, 0)\n",
    "w_b = trans(0, x.diff()/r, 0)\n",
    "\n",
    "\n",
    "# Generalized Coordinates\n",
    "# q = sp.Matrix([[theta_wl], [theta_wr], [x_l], [theta_p]])\n",
    "q = sp.Matrix([[x], [x_l], [theta_p]])\n",
    "qd = q.diff()\n",
    "qdd = qd.diff()\n",
    "\n",
    "# Kinetic Energy\n",
    "# T_wl = 0.5*(m_wl*v_wl.dot(v_wl) + I_w*w_wl[1]**2)\n",
    "# T_wr = 0.5*(m_wr*v_wr.dot(v_wr) + I_w*w_wr[1]**2)\n",
    "T_w = 0.5*(m_w*v_b.dot(v_b) + I_w*w_b[1]**2)\n",
    "T_c = 0.5*(m_c*v_c.dot(v_c) + I_c*w_t[1]**2)\n",
    "T_t = 0.5*(m_t*v_t.dot(v_t) + I_t*w_t[1]**2)\n",
    "\n",
    "T = T_w + T_c + T_t\n",
    "# T = T_wl + T_wr + T_c + T_t\n",
    "\n",
    "# Potential Energy\n",
    "U_c = m_c*g*(h_c*cos(theta_p))\n",
    "U_t = m_t*g*(h_t*cos(theta_p)-x_l*sin(theta_p))\n",
    "U = U_c + U_t\n",
    "\n",
    "# Lagrangian\n",
    "Lag = T - U\n",
    "Lag\n"
   ]
  },
  {
   "cell_type": "code",
   "execution_count": 4,
   "metadata": {},
   "outputs": [
    {
     "data": {
      "text/latex": [
       "$\\displaystyle \\left( \\left[\\begin{matrix}x\\\\0\\\\0\\end{matrix}\\right], \\  \\left[\\begin{matrix}h_{c} \\sin{\\left(\\theta_{p} \\right)} + x\\\\0\\\\h_{c} \\cos{\\left(\\theta_{p} \\right)}\\end{matrix}\\right], \\  \\left[\\begin{matrix}h_{t} \\sin{\\left(\\theta_{p} \\right)} + x + x_{l} \\cos{\\left(\\theta_{p} \\right)}\\\\0\\\\h_{t} \\cos{\\left(\\theta_{p} \\right)} - x_{l} \\sin{\\left(\\theta_{p} \\right)}\\end{matrix}\\right]\\right)$"
      ],
      "text/plain": [
       "⎛⎡x⎤  ⎡h_c⋅sin(θₚ) + x⎤  ⎡hₜ⋅sin(θₚ) + x + xₗ⋅cos(θₚ)⎤⎞\n",
       "⎜⎢ ⎥  ⎢               ⎥  ⎢                           ⎥⎟\n",
       "⎜⎢0⎥, ⎢       0       ⎥, ⎢             0             ⎥⎟\n",
       "⎜⎢ ⎥  ⎢               ⎥  ⎢                           ⎥⎟\n",
       "⎝⎣0⎦  ⎣  h_c⋅cos(θₚ)  ⎦  ⎣  hₜ⋅cos(θₚ) - xₗ⋅sin(θₚ)  ⎦⎠"
      ]
     },
     "execution_count": 4,
     "metadata": {},
     "output_type": "execute_result"
    }
   ],
   "source": [
    "x_b, x_c, x_t"
   ]
  },
  {
   "cell_type": "code",
   "execution_count": 5,
   "metadata": {},
   "outputs": [
    {
     "data": {
      "text/latex": [
       "$\\displaystyle \\left[\\begin{matrix}\\frac{1.0 I_{w} \\ddot{x} + r^{2} \\left(m_{c} \\left(- h_{c} \\sin{\\left(\\theta_{p} \\right)} \\dot{\\theta}_{p}^{2} + h_{c} \\cos{\\left(\\theta_{p} \\right)} \\ddot{\\theta}_{p} + \\ddot{x}\\right) - 1.0 m_{t} \\left(h_{t} \\sin{\\left(\\theta_{p} \\right)} \\dot{\\theta}_{p}^{2} - h_{t} \\cos{\\left(\\theta_{p} \\right)} \\ddot{\\theta}_{p} + x_{l} \\sin{\\left(\\theta_{p} \\right)} \\ddot{\\theta}_{p} + x_{l} \\cos{\\left(\\theta_{p} \\right)} \\dot{\\theta}_{p}^{2} + 2 \\sin{\\left(\\theta_{p} \\right)} \\dot{\\theta}_{p} \\dot{x}_{l} - \\cos{\\left(\\theta_{p} \\right)} \\ddot{x}_{l} - \\ddot{x}\\right) + 1.0 m_{w} \\ddot{x}\\right)}{r^{2}}\\\\1.0 m_{t} \\left(- g \\sin{\\left(\\theta_{p} \\right)} + h_{t} \\ddot{\\theta}_{p} - x_{l} \\dot{\\theta}_{p}^{2} + \\cos{\\left(\\theta_{p} \\right)} \\ddot{x} + \\ddot{x}_{l}\\right)\\\\1.0 I_{c} \\ddot{\\theta}_{p} + 1.0 I_{t} \\ddot{\\theta}_{p} - 1.0 g h_{c} m_{c} \\sin{\\left(\\theta_{p} \\right)} - 1.0 g h_{t} m_{t} \\sin{\\left(\\theta_{p} \\right)} - 1.0 g m_{t} x_{l} \\cos{\\left(\\theta_{p} \\right)} + 1.0 h_{c}^{2} m_{c} \\ddot{\\theta}_{p} + 1.0 h_{c} m_{c} \\cos{\\left(\\theta_{p} \\right)} \\ddot{x} + 1.0 h_{t}^{2} m_{t} \\ddot{\\theta}_{p} + 1.0 h_{t} m_{t} \\cos{\\left(\\theta_{p} \\right)} \\ddot{x} + 1.0 h_{t} m_{t} \\ddot{x}_{l} + 1.0 m_{t} x_{l}^{2} \\ddot{\\theta}_{p} - 1.0 m_{t} x_{l} \\sin{\\left(\\theta_{p} \\right)} \\ddot{x} + 2.0 m_{t} x_{l} \\dot{\\theta}_{p} \\dot{x}_{l}\\end{matrix}\\right]$"
      ],
      "text/plain": [
       "⎡                                    2 ⎛    ⎛                2                \n",
       "⎢                       1.0⋅I_w⋅ẍ + r ⋅⎝m_c⋅⎝- h_c⋅sin(θₚ)⋅θₚ̇  + h_c⋅cos(θₚ)\n",
       "⎢                       ──────────────────────────────────────────────────────\n",
       "⎢                                                                             \n",
       "⎢                                                                             \n",
       "⎢                                                                             \n",
       "⎢                                                                             \n",
       "⎢                                                                             \n",
       "⎢                                                                             \n",
       "⎢                                                                             \n",
       "⎣1.0⋅I_c⋅θₚ̈ + 1.0⋅Iₜ⋅θₚ̈ - g⋅h_c⋅m_c⋅sin(θₚ) - g⋅hₜ⋅mₜ⋅sin(θₚ) - g⋅mₜ⋅xₗ⋅cos(\n",
       "\n",
       "     ⎞      ⎛             2                                                2  \n",
       "⋅θₚ̈ + ẍ⎠ - mₜ⋅⎝hₜ⋅sin(θₚ)⋅θₚ̇  - hₜ⋅cos(θₚ)⋅θₚ̈ + xₗ⋅sin(θₚ)⋅θₚ̈ + xₗ⋅cos(θₚ\n",
       "──────────────────────────────────────────────────────────────────────────────\n",
       "                                    2                                         \n",
       "                                   r                                          \n",
       "                                                                              \n",
       "                ⎛                          2                 ⎞                \n",
       "         1.0⋅mₜ⋅⎝-g⋅sin(θₚ) + hₜ⋅θₚ̈ - xₗ⋅θₚ̇  + cos(θₚ)⋅ẍ + xₗ̈⎠            \n",
       "                                                                              \n",
       "           2                                        2                         \n",
       "θₚ) + 1.0⋅h_c ⋅m_c⋅θₚ̈ + 1.0⋅h_c⋅m_c⋅cos(θₚ)⋅ẍ + 1.0⋅hₜ ⋅mₜ⋅θₚ̈ + 1.0⋅hₜ⋅mₜ⋅c\n",
       "\n",
       "                                 ⎞            ⎞                       ⎤\n",
       ")⋅θₚ̇  + 2⋅sin(θₚ)⋅θₚ̇⋅xₗ̇ - cos(θₚ)⋅xₗ̈ - ẍ⎠ + 1.0⋅m_w⋅ẍ⎠                  \n",
       "───────────────────────────────────────────────                       ⎥\n",
       "                                                                      ⎥\n",
       "                                                                      ⎥\n",
       "                                                                      ⎥\n",
       "                                                                      ⎥\n",
       "                                                                          ⎥\n",
       "                                                                      ⎥\n",
       "                              2                                       ⎥\n",
       "os(θₚ)⋅ẍ + 1.0⋅hₜ⋅mₜ⋅xₗ̈ + 1.0⋅mₜ⋅xₗ ⋅θₚ̈ - mₜ⋅xₗ⋅sin(θₚ)⋅ẍ + 2.0⋅mₜ⋅xₗ⋅θₚ̇⋅"
      ]
     },
     "execution_count": 5,
     "metadata": {},
     "output_type": "execute_result"
    }
   ],
   "source": [
    "tau = get_torque_from_L(Lag,q,qd)\n",
    "tau = sp.simplify(tau)\n",
    "tau\n",
    "# Ml, Cl, Gl, Wl = ir.get_EoM_from_T(tau,qdd,g)\n",
    "# Ml, Cl, Gl, Wl"
   ]
  },
  {
   "cell_type": "code",
   "execution_count": 6,
   "metadata": {},
   "outputs": [
    {
     "data": {
      "text/latex": [
       "$\\displaystyle \\left[\\begin{matrix}- T + \\frac{1.0 I_{w} \\ddot{x} + r^{2} \\left(m_{c} \\left(- h_{c} \\sin{\\left(\\theta_{p} \\right)} \\dot{\\theta}_{p}^{2} + h_{c} \\cos{\\left(\\theta_{p} \\right)} \\ddot{\\theta}_{p} + \\ddot{x}\\right) - 1.0 m_{t} \\left(h_{t} \\sin{\\left(\\theta_{p} \\right)} \\dot{\\theta}_{p}^{2} - h_{t} \\cos{\\left(\\theta_{p} \\right)} \\ddot{\\theta}_{p} + x_{l} \\sin{\\left(\\theta_{p} \\right)} \\ddot{\\theta}_{p} + x_{l} \\cos{\\left(\\theta_{p} \\right)} \\dot{\\theta}_{p}^{2} + 2 \\sin{\\left(\\theta_{p} \\right)} \\dot{\\theta}_{p} \\dot{x}_{l} - \\cos{\\left(\\theta_{p} \\right)} \\ddot{x}_{l} - \\ddot{x}\\right) + 1.0 m_{w} \\ddot{x}\\right)}{r^{2}}\\\\- F + 1.0 m_{t} \\left(- g \\sin{\\left(\\theta_{p} \\right)} + h_{t} \\ddot{\\theta}_{p} - x_{l} \\dot{\\theta}_{p}^{2} + \\cos{\\left(\\theta_{p} \\right)} \\ddot{x} + \\ddot{x}_{l}\\right)\\\\1.0 I_{c} \\ddot{\\theta}_{p} + 1.0 I_{t} \\ddot{\\theta}_{p} + T - 1.0 g h_{c} m_{c} \\sin{\\left(\\theta_{p} \\right)} - 1.0 g h_{t} m_{t} \\sin{\\left(\\theta_{p} \\right)} - 1.0 g m_{t} x_{l} \\cos{\\left(\\theta_{p} \\right)} + 1.0 h_{c}^{2} m_{c} \\ddot{\\theta}_{p} + 1.0 h_{c} m_{c} \\cos{\\left(\\theta_{p} \\right)} \\ddot{x} + 1.0 h_{t}^{2} m_{t} \\ddot{\\theta}_{p} + 1.0 h_{t} m_{t} \\cos{\\left(\\theta_{p} \\right)} \\ddot{x} + 1.0 h_{t} m_{t} \\ddot{x}_{l} + 1.0 m_{t} x_{l}^{2} \\ddot{\\theta}_{p} - 1.0 m_{t} x_{l} \\sin{\\left(\\theta_{p} \\right)} \\ddot{x} + 2.0 m_{t} x_{l} \\dot{\\theta}_{p} \\dot{x}_{l}\\end{matrix}\\right]$"
      ],
      "text/plain": [
       "⎡                                        2 ⎛    ⎛                2            \n",
       "⎢                           1.0⋅I_w⋅ẍ + r ⋅⎝m_c⋅⎝- h_c⋅sin(θₚ)⋅θₚ̇  + h_c⋅cos\n",
       "⎢                      -T + ──────────────────────────────────────────────────\n",
       "⎢                                                                             \n",
       "⎢                                                                             \n",
       "⎢                                                                             \n",
       "⎢                                                                             \n",
       "⎢                                                                             \n",
       "⎢                                                                             \n",
       "⎢                                                                             \n",
       "⎣1.0⋅I_c⋅θₚ̈ + 1.0⋅Iₜ⋅θₚ̈ + T - g⋅h_c⋅m_c⋅sin(θₚ) - g⋅hₜ⋅mₜ⋅sin(θₚ) - g⋅mₜ⋅xₗ⋅\n",
       "\n",
       "         ⎞      ⎛             2                                               \n",
       "(θₚ)⋅θₚ̈ + ẍ⎠ - mₜ⋅⎝hₜ⋅sin(θₚ)⋅θₚ̇  - hₜ⋅cos(θₚ)⋅θₚ̈ + xₗ⋅sin(θₚ)⋅θₚ̈ + xₗ⋅co\n",
       "──────────────────────────────────────────────────────────────────────────────\n",
       "                                        2                                     \n",
       "                                       r                                      \n",
       "                                                                              \n",
       "                    ⎛                          2                 ⎞            \n",
       "        -F + 1.0⋅mₜ⋅⎝-g⋅sin(θₚ) + hₜ⋅θₚ̈ - xₗ⋅θₚ̇  + cos(θₚ)⋅ẍ + xₗ̈⎠        \n",
       "                                                                              \n",
       "               2                                        2                     \n",
       "cos(θₚ) + 1.0⋅h_c ⋅m_c⋅θₚ̈ + 1.0⋅h_c⋅m_c⋅cos(θₚ)⋅ẍ + 1.0⋅hₜ ⋅mₜ⋅θₚ̈ + 1.0⋅hₜ⋅\n",
       "\n",
       " 2                                   ⎞            ⎞                       ⎤\n",
       "s(θₚ)⋅θₚ̇  + 2⋅sin(θₚ)⋅θₚ̇⋅xₗ̇ - cos(θₚ)⋅xₗ̈ - ẍ⎠ + 1.0⋅m_w⋅ẍ⎠              \n",
       "───────────────────────────────────────────────────                       ⎥\n",
       "                                                                          ⎥\n",
       "                                                                          ⎥\n",
       "                                                                          ⎥\n",
       "                                                                          ⎥\n",
       "                                                                              \n",
       "                                                                          ⎥\n",
       "                                  2                                       ⎥\n",
       "mₜ⋅cos(θₚ)⋅ẍ + 1.0⋅hₜ⋅mₜ⋅xₗ̈ + 1.0⋅mₜ⋅xₗ ⋅θₚ̈ - mₜ⋅xₗ⋅sin(θₚ)⋅ẍ + 2.0⋅mₜ⋅xₗ⋅"
      ]
     },
     "execution_count": 6,
     "metadata": {},
     "output_type": "execute_result"
    }
   ],
   "source": [
    "# F= sp.symbols('F')\n",
    "# u = sp.Matrix([F])\n",
    "\n",
    "# u_matrix = sp.Matrix([[0],[0],[-F]])\n",
    "\n",
    "F, T, T_wl, T_wr= sp.symbols('F, T ,T_wl, T_wr')\n",
    "# u = sp.Matrix([[T_wl],[T_wr],[F]])\n",
    "u = sp.Matrix([[T],[F]])\n",
    "\n",
    "# u_matrix = sp.Matrix([[-T_wl], [-T_wr], [T_wl+T_wr], [-F]])\n",
    "u_matrix = sp.Matrix([[-T], [-F], [T]])\n",
    "# u_matrix = sp.Matrix([[-T_wl], [-T_wr], [-F], [0]])\n",
    "\n",
    "tau_eq = tau+u_matrix\n",
    "tau_eq\n"
   ]
  },
  {
   "cell_type": "code",
   "execution_count": 7,
   "metadata": {},
   "outputs": [],
   "source": [
    "M, C, G, W = get_EoM_from_T(tau_eq,qdd,g, u)"
   ]
  },
  {
   "cell_type": "code",
   "execution_count": 8,
   "metadata": {},
   "outputs": [
    {
     "data": {
      "text/latex": [
       "$\\displaystyle \\left( \\left[\\begin{matrix}\\frac{1.0 I_{w}}{r^{2}} + m_{c} + 1.0 m_{t} + 1.0 m_{w} & 1.0 m_{t} \\cos{\\left(\\theta_{p} \\right)} & h_{c} m_{c} \\cos{\\left(\\theta_{p} \\right)} + 1.0 m_{t} \\left(h_{t} \\cos{\\left(\\theta_{p} \\right)} - x_{l} \\sin{\\left(\\theta_{p} \\right)}\\right)\\\\1.0 m_{t} \\cos{\\left(\\theta_{p} \\right)} & 1.0 m_{t} & 1.0 h_{t} m_{t}\\\\1.0 h_{c} m_{c} \\cos{\\left(\\theta_{p} \\right)} + 1.0 h_{t} m_{t} \\cos{\\left(\\theta_{p} \\right)} - 1.0 m_{t} x_{l} \\sin{\\left(\\theta_{p} \\right)} & 1.0 h_{t} m_{t} & 1.0 I_{c} + 1.0 I_{t} + 1.0 h_{c}^{2} m_{c} + 1.0 h_{t}^{2} m_{t} + 1.0 m_{t} x_{l}^{2}\\end{matrix}\\right], \\  \\left[\\begin{matrix}- \\left(1.0 h_{c} m_{c} \\sin{\\left(\\theta_{p} \\right)} \\dot{\\theta}_{p} + 1.0 h_{t} m_{t} \\sin{\\left(\\theta_{p} \\right)} \\dot{\\theta}_{p} + 1.0 m_{t} x_{l} \\cos{\\left(\\theta_{p} \\right)} \\dot{\\theta}_{p} + 2.0 m_{t} \\sin{\\left(\\theta_{p} \\right)} \\dot{x}_{l}\\right) \\dot{\\theta}_{p}\\\\- 1.0 m_{t} x_{l} \\dot{\\theta}_{p}^{2}\\\\2.0 m_{t} x_{l} \\dot{\\theta}_{p} \\dot{x}_{l}\\end{matrix}\\right], \\  \\left[\\begin{matrix}0\\\\- 1.0 g m_{t} \\sin{\\left(\\theta_{p} \\right)}\\\\- 1.0 g \\left(h_{c} m_{c} \\sin{\\left(\\theta_{p} \\right)} + h_{t} m_{t} \\sin{\\left(\\theta_{p} \\right)} + m_{t} x_{l} \\cos{\\left(\\theta_{p} \\right)}\\right)\\end{matrix}\\right], \\  \\left[\\begin{matrix}1 & 0\\\\0 & 1\\\\-1 & 0\\end{matrix}\\right]\\right)$"
      ],
      "text/plain": [
       "⎛⎡           1.0⋅I_w                                                          \n",
       "⎜⎢           ─────── + m_c + 1.0⋅mₜ + 1.0⋅m_w              1.0⋅mₜ⋅cos(θₚ)     \n",
       "⎜⎢               2                                                            \n",
       "⎜⎢              r                                                             \n",
       "⎜⎢                                                                            \n",
       "⎜⎢                    1.0⋅mₜ⋅cos(θₚ)                           1.0⋅mₜ         \n",
       "⎜⎢                                                                            \n",
       "⎜⎢                                                                            \n",
       "⎝⎣1.0⋅h_c⋅m_c⋅cos(θₚ) + 1.0⋅hₜ⋅mₜ⋅cos(θₚ) - mₜ⋅xₗ⋅sin(θₚ)    1.0⋅hₜ⋅mₜ     1.0\n",
       "\n",
       "                                                      ⎤                       \n",
       "h_c⋅m_c⋅cos(θₚ) + 1.0⋅mₜ⋅(hₜ⋅cos(θₚ) - xₗ⋅sin(θₚ))    ⎥  ⎡-(1.0⋅h_c⋅m_c⋅sin(θₚ\n",
       "                                                      ⎥  ⎢                    \n",
       "                                                      ⎥  ⎢                    \n",
       "                                                      ⎥, ⎢                    \n",
       "                     1.0⋅hₜ⋅mₜ                        ⎥  ⎢                    \n",
       "                                                      ⎥  ⎣                    \n",
       "                       2             2               2⎥                       \n",
       "⋅I_c + 1.0⋅Iₜ + 1.0⋅h_c ⋅m_c + 1.0⋅hₜ ⋅mₜ + 1.0⋅mₜ⋅xₗ ⎦                       \n",
       "\n",
       "                                                                              \n",
       ")⋅θₚ̇ + 1.0⋅hₜ⋅mₜ⋅sin(θₚ)⋅θₚ̇ + 1.0⋅mₜ⋅xₗ⋅cos(θₚ)⋅θₚ̇ + 2.0⋅mₜ⋅sin(θₚ)⋅xₗ̇)⋅θₚ\n",
       "                                                                          ⎥  ⎡\n",
       "                                 2                                        ⎥  ⎢\n",
       "                    -1.0⋅mₜ⋅xₗ⋅θₚ̇                                         ⎥, \n",
       "                                                                          ⎥  ⎢\n",
       "                   2.0⋅mₜ⋅xₗ⋅θₚ̇⋅xₗ̇                                        ⎦ \n",
       "                                                                              \n",
       "                                                                              \n",
       "\n",
       "                                                                  ⎞\n",
       "̇⎤                                                                     ⎟\n",
       "                           0                            ⎤  ⎡1   0⎤⎟\n",
       "                                                        ⎥  ⎢     ⎥⎟\n",
       "⎢                   -1.0⋅g⋅mₜ⋅sin(θₚ)                    ⎥, ⎢0   1⎥⎟\n",
       "                                                        ⎥  ⎢     ⎥⎟\n",
       " ⎣-1.0⋅g⋅(h_c⋅m_c⋅sin(θₚ) + hₜ⋅mₜ⋅sin(θₚ) + mₜ⋅xₗ⋅cos(θₚ))⎦  ⎣-1  0⎦⎟\n",
       "                                                                  ⎟\n",
       "                                                                  ⎠"
      ]
     },
     "execution_count": 8,
     "metadata": {},
     "output_type": "execute_result"
    }
   ],
   "source": [
    "M, C, G, W"
   ]
  },
  {
   "cell_type": "code",
   "execution_count": 9,
   "metadata": {},
   "outputs": [
    {
     "data": {
      "text/latex": [
       "$\\displaystyle \\left( \\left[\\begin{matrix}\\frac{1.0 I_{w}}{r^{2}} + m_{c} + 1.0 m_{t} + 1.0 m_{w} & 1.0 m_{t} & h_{c} m_{c} + 1.0 h_{t} m_{t}\\\\1.0 m_{t} & 1.0 m_{t} & 1.0 h_{t} m_{t}\\\\1.0 h_{c} m_{c} + 1.0 h_{t} m_{t} & 1.0 h_{t} m_{t} & 1.0 I_{c} + 1.0 I_{t} + 1.0 h_{c}^{2} m_{c} + 1.0 h_{t}^{2} m_{t}\\end{matrix}\\right], \\  \\left[\\begin{matrix}0\\\\0\\\\0\\end{matrix}\\right], \\  \\left[\\begin{matrix}0\\\\- 1.0 g m_{t} \\theta_{p}\\\\- 1.0 g \\left(h_{c} m_{c} \\theta_{p} + h_{t} m_{t} \\theta_{p}\\right)\\end{matrix}\\right], \\  \\left[\\begin{matrix}1 & 0\\\\0 & 1\\\\-1 & 0\\end{matrix}\\right]\\right)$"
      ],
      "text/plain": [
       "⎛⎡1.0⋅I_w                                                                     \n",
       "⎜⎢─────── + m_c + 1.0⋅mₜ + 1.0⋅m_w   1.0⋅mₜ                h_c⋅m_c + 1.0⋅hₜ⋅mₜ\n",
       "⎜⎢    2                                                                       \n",
       "⎜⎢   r                                                                        \n",
       "⎜⎢                                                                            \n",
       "⎜⎢             1.0⋅mₜ                1.0⋅mₜ                     1.0⋅hₜ⋅mₜ     \n",
       "⎜⎢                                                                            \n",
       "⎜⎢                                                                       2    \n",
       "⎝⎣    1.0⋅h_c⋅m_c + 1.0⋅hₜ⋅mₜ       1.0⋅hₜ⋅mₜ  1.0⋅I_c + 1.0⋅Iₜ + 1.0⋅h_c ⋅m_c\n",
       "\n",
       "             ⎤                                                ⎞\n",
       "             ⎥                                                ⎟\n",
       "             ⎥  ⎡0⎤  ⎡              0               ⎤  ⎡1   0⎤⎟\n",
       "             ⎥  ⎢ ⎥  ⎢                              ⎥  ⎢     ⎥⎟\n",
       "             ⎥, ⎢0⎥, ⎢         -1.0⋅g⋅mₜ⋅θₚ         ⎥, ⎢0   1⎥⎟\n",
       "             ⎥  ⎢ ⎥  ⎢                              ⎥  ⎢     ⎥⎟\n",
       "             ⎥  ⎣0⎦  ⎣-1.0⋅g⋅(h_c⋅m_c⋅θₚ + hₜ⋅mₜ⋅θₚ)⎦  ⎣-1  0⎦⎟\n",
       "         2   ⎥                                                ⎟\n",
       " + 1.0⋅hₜ ⋅mₜ⎦                                                ⎠"
      ]
     },
     "execution_count": 9,
     "metadata": {},
     "output_type": "execute_result"
    }
   ],
   "source": [
    "# linearlize_eq = {sp.sin(2*theta_p):2*theta_p, sp.sin(theta_p):theta_p, sp.cos(2*theta_p):1, sp.cos(theta_p):1, theta_p.diff():0, x_l.diff():0, x_l:0}\n",
    "linearlize_eq = {sp.sin(theta_p):theta_p, sp.cos(theta_p):1, theta_p.diff():0, x_l:0}\n",
    "Ml =M.subs(linearlize_eq)\n",
    "Cl =C.subs(linearlize_eq)\n",
    "Gl =G.subs(linearlize_eq)\n",
    "Wl =W.subs(linearlize_eq)\n",
    "Ml, Cl, Gl, Wl"
   ]
  },
  {
   "cell_type": "code",
   "execution_count": 10,
   "metadata": {},
   "outputs": [
    {
     "name": "stdout",
     "output_type": "stream",
     "text": [
      "<LinearIOSystem>: sys[2]\n",
      "Inputs (2): ['u[0]', 'u[1]']\n",
      "Outputs (6): ['y[0]', 'y[1]', 'y[2]', 'y[3]', 'y[4]', 'y[5]']\n",
      "States (6): ['x[0]', 'x[1]', 'x[2]', 'x[3]', 'x[4]', 'x[5]']\n",
      "\n",
      "A = [[ 0.00000000e+00  0.00000000e+00  0.00000000e+00  1.00000000e+00\n",
      "       0.00000000e+00  0.00000000e+00]\n",
      "     [ 0.00000000e+00  0.00000000e+00  0.00000000e+00  0.00000000e+00\n",
      "       1.00000000e+00  0.00000000e+00]\n",
      "     [ 0.00000000e+00  0.00000000e+00  0.00000000e+00  0.00000000e+00\n",
      "       0.00000000e+00  1.00000000e+00]\n",
      "     [ 0.00000000e+00  0.00000000e+00 -5.51338566e+01  0.00000000e+00\n",
      "       0.00000000e+00  0.00000000e+00]\n",
      "     [ 0.00000000e+00  0.00000000e+00  6.49350361e+01  0.00000000e+00\n",
      "       0.00000000e+00  0.00000000e+00]\n",
      "     [ 0.00000000e+00  0.00000000e+00  2.89157301e-02  0.00000000e+00\n",
      "       0.00000000e+00  0.00000000e+00]]\n",
      "\n",
      "B = [[ 0.          0.        ]\n",
      "     [ 0.          0.        ]\n",
      "     [ 0.          0.        ]\n",
      "     [ 0.0182951  -0.01828448]\n",
      "     [-0.01656471  0.02206288]\n",
      "     [-0.00567266 -0.00171976]]\n",
      "\n",
      "C = [[1. 0. 0. 0. 0. 0.]\n",
      "     [0. 1. 0. 0. 0. 0.]\n",
      "     [0. 0. 1. 0. 0. 0.]\n",
      "     [0. 0. 0. 1. 0. 0.]\n",
      "     [0. 0. 0. 0. 1. 0.]\n",
      "     [0. 0. 0. 0. 0. 1.]]\n",
      "\n",
      "D = [[0. 0.]\n",
      "     [0. 0.]\n",
      "     [0. 0.]\n",
      "     [0. 0.]\n",
      "     [0. 0.]\n",
      "     [0. 0.]]\n",
      "\n"
     ]
    }
   ],
   "source": [
    "# param = {m_t: 8.885, m_c:4.124, m_wl:2, m_wr:2, r:0.065, h_c:0.034617, h_t:0.11198, I_t:0.214776135, I_c:0.003414834, I_w:0.004647634, g:9.81}\n",
    "# param = {m_t: 368.2986, m_c:31.914, m_wl:9.595, m_wr:9.595, r:0.2206625, h_c:0.05774, h_t:0.28433, I_t:179.5035, I_c:0.4868, I_w:0.1367, g:9.81}\n",
    "\n",
    "# param = {r:0.065, h_c:0.034617, h_t:0.11198, m_w:2, m_wl:2, m_wr:2, m_c:4.124, m_t:8.885, g:9.8}\n",
    "# param = {m_t: 368.2986, m_c:31.914, m_w:9.595, r:0.2206625, h_c:0.05774, h_t:0.28433, I_t:179.5035, I_c:0.4868, I_w:0.1367, g:9.81}\n",
    "param = {m_t: 307.332, m_c:38.72018, m_w:12.05514,\n",
    "         r:0.22, h_c:0.00203, h_t:0.30504,\n",
    "         I_t:175.3832154, I_c:1.154265591, I_w:0.189170789, g:9.81}\n",
    "\n",
    "# Moment of Inertia\n",
    "param[I_w] = 0.189170789 #0.1367 #0.2734 #0.1367\n",
    "param[I_c] = 1.154265591 #0.4868 #0.6541\n",
    "param[I_t] = 175.3832154 #179.5035 #173.4619\n",
    "\n",
    "Mlp = msubs(Ml, param)\n",
    "Clp = msubs(Cl, param)\n",
    "Glp = msubs(Gl, param)\n",
    "Wlp = msubs(Wl, param)\n",
    "\n",
    "# Forward Dynamics eqation\n",
    "# qdd = M(q)^-1 * ( -C(q,qd) - G(q) + W*u )\n",
    "Mlp_inv = simplify(Mlp.inv())\n",
    "qdd_rhs_A = simplify(Mlp_inv*(-Clp -Glp))\n",
    "qdd_rhs_B = simplify(Mlp_inv*Wlp*u)\n",
    "\n",
    "# Nonlinear Dynamics Model\n",
    "Mp = msubs(M, param)\n",
    "Cp = msubs(C, param)\n",
    "Gp = msubs(G, param)\n",
    "Wp = msubs(W, param)\n",
    "# Forward Dynamics eqation\n",
    "# qdd = M(q)^-1 * ( -C(q,qd) - G(q) + W*u )\n",
    "Mp_inv = (Mp.inv())\n",
    "qdd_rhs_A_nonL = (Mp_inv*(-Cp -Gp))\n",
    "qdd_rhs_B_nonL = (Mp_inv*Wp*u)\n",
    "qdd_rhs_A_nonL, qdd_rhs_B_nonL\n",
    "\n",
    "# State-space equation. \n",
    "X = q.col_join(qd)\n",
    "Xd_A = qd.col_join(qdd_rhs_A)\n",
    "Xd_B = qd.col_join(qdd_rhs_B)\n",
    "U = u\n",
    "\n",
    "# State-space equation\n",
    "A = simplify(Xd_A.jacobian(X))\n",
    "B = simplify(Xd_B.jacobian(U))\n",
    "C = simplify(X.jacobian(X))\n",
    "D = simplify(X.jacobian(U))\n",
    "\n",
    "ss0 = [A, B, C, D]\n",
    "sys0 = control.ss(*[pl.array(mat_i.subs(param)).astype(float) for mat_i in ss0])\n",
    "mprint(sys0)"
   ]
  },
  {
   "cell_type": "code",
   "execution_count": 11,
   "metadata": {},
   "outputs": [
    {
     "data": {
      "text/plain": [
       "matrix([[ 0.        ,  0.        ],\n",
       "        [ 0.        ,  0.        ],\n",
       "        [ 0.        ,  0.        ],\n",
       "        [ 0.0182951 , -0.01828448],\n",
       "        [-0.01656471,  0.02206288],\n",
       "        [-0.00567266, -0.00171976]])"
      ]
     },
     "execution_count": 11,
     "metadata": {},
     "output_type": "execute_result"
    }
   ],
   "source": [
    "sys0.B"
   ]
  },
  {
   "cell_type": "code",
   "execution_count": 12,
   "metadata": {},
   "outputs": [
    {
     "data": {
      "text/latex": [
       "$\\displaystyle \\left[\\begin{matrix}- \\frac{2.0 \\left(- 0.5 I_{w} \\ddot{x} + 0.5 T r^{2} + 0.5 h_{c} m_{c} r^{2} \\sin{\\left(\\theta_{p} \\right)} \\dot{\\theta}_{p}^{2} - 0.5 h_{c} m_{c} r^{2} \\cos{\\left(\\theta_{p} \\right)} \\ddot{\\theta}_{p} + 0.5 h_{t} m_{t} r^{2} \\sin{\\left(\\theta_{p} \\right)} \\dot{\\theta}_{p}^{2} - 0.5 h_{t} m_{t} r^{2} \\cos{\\left(\\theta_{p} \\right)} \\ddot{\\theta}_{p} - 0.5 m_{c} r^{2} \\ddot{x} + 0.5 m_{t} r^{2} x_{l} \\sin{\\left(\\theta_{p} \\right)} \\ddot{\\theta}_{p} + 0.5 m_{t} r^{2} x_{l} \\cos{\\left(\\theta_{p} \\right)} \\dot{\\theta}_{p}^{2} + 1.0 m_{t} r^{2} \\sin{\\left(\\theta_{p} \\right)} \\dot{\\theta}_{p} \\dot{x}_{l} - 0.5 m_{t} r^{2} \\cos{\\left(\\theta_{p} \\right)} \\ddot{x}_{l} - 0.5 m_{t} r^{2} \\ddot{x} - 0.5 m_{w} r^{2} \\ddot{x}\\right)}{r^{2}}\\\\- 1.0 F - 1.0 g m_{t} \\sin{\\left(\\theta_{p} \\right)} + 1.0 h_{t} m_{t} \\ddot{\\theta}_{p} - 1.0 m_{t} x_{l} \\dot{\\theta}_{p}^{2} + 1.0 m_{t} \\cos{\\left(\\theta_{p} \\right)} \\ddot{x} + 1.0 m_{t} \\ddot{x}_{l}\\\\1.0 h_{t} m_{t} \\ddot{x}_{l} + 2.0 m_{t} x_{l} \\dot{\\theta}_{p} \\dot{x}_{l} + 1.0 \\left(h_{c} m_{c} \\cos{\\left(\\theta_{p} \\right)} + h_{t} m_{t} \\cos{\\left(\\theta_{p} \\right)} - m_{t} x_{l} \\sin{\\left(\\theta_{p} \\right)}\\right) \\ddot{x} - 1.0 \\left(- 1.0 T + 1.0 g h_{c} m_{c} \\sin{\\left(\\theta_{p} \\right)} + 1.0 g h_{t} m_{t} \\sin{\\left(\\theta_{p} \\right)} + 1.0 g m_{t} x_{l} \\cos{\\left(\\theta_{p} \\right)}\\right) + 1.0 \\left(I_{c} + I_{t} + h_{c}^{2} m_{c} + h_{t}^{2} m_{t} + m_{t} x_{l}^{2}\\right) \\ddot{\\theta}_{p}\\end{matrix}\\right]$"
      ],
      "text/plain": [
       "⎡     ⎛                    2                2           2                2    \n",
       "⎢-2.0⋅⎝-0.5⋅I_w⋅ẍ + 0.5⋅T⋅r  + 0.5⋅h_c⋅m_c⋅r ⋅sin(θₚ)⋅θₚ̇  - 0.5⋅h_c⋅m_c⋅r ⋅c\n",
       "⎢─────────────────────────────────────────────────────────────────────────────\n",
       "⎢                                                                             \n",
       "⎢                                                                             \n",
       "⎢                                                                             \n",
       "⎢                                                                             \n",
       "⎢                                                                             \n",
       "⎢                                                                             \n",
       "⎢                                                                             \n",
       "⎣                                    1.0⋅hₜ⋅mₜ⋅xₗ̈ + 2.0⋅mₜ⋅xₗ⋅θₚ̇⋅xₗ̇ + 1.0⋅(\n",
       "\n",
       "                     2           2              2                       2     \n",
       "os(θₚ)⋅θₚ̈ + 0.5⋅hₜ⋅mₜ⋅r ⋅sin(θₚ)⋅θₚ̇  - 0.5⋅hₜ⋅mₜ⋅r ⋅cos(θₚ)⋅θₚ̈ - 0.5⋅m_c⋅r \n",
       "──────────────────────────────────────────────────────────────────────────────\n",
       "                                                                  2           \n",
       "                                                                 r            \n",
       "                                                                              \n",
       "                                                                       2      \n",
       "                            -F - g⋅mₜ⋅sin(θₚ) + 1.0⋅hₜ⋅mₜ⋅θₚ̈ - mₜ⋅xₗ⋅θₚ̇  + 1\n",
       "                                                                              \n",
       "                                                                              \n",
       "h_c⋅m_c⋅cos(θₚ) + hₜ⋅mₜ⋅cos(θₚ) - mₜ⋅xₗ⋅sin(θₚ))⋅ẍ - (-T + 1.0⋅g⋅h_c⋅m_c⋅sin(\n",
       "\n",
       "        2                         2              2           2                \n",
       "⋅ẍ + 0.5⋅mₜ⋅r ⋅xₗ⋅sin(θₚ)⋅θₚ̈ + 0.5⋅mₜ⋅r ⋅xₗ⋅cos(θₚ)⋅θₚ̇  + 1.0⋅mₜ⋅r ⋅sin(θₚ)\n",
       "──────────────────────────────────────────────────────────────────────────────\n",
       "                                                                              \n",
       "                                                                              \n",
       "                                                                              \n",
       "                                                                              \n",
       ".0⋅mₜ⋅cos(θₚ)⋅ẍ + 1.0⋅mₜ⋅xₗ̈                                                 \n",
       "                                                                              \n",
       "                                                   ⎛              2         2 \n",
       "θₚ) + 1.0⋅g⋅hₜ⋅mₜ⋅sin(θₚ) + 1.0⋅g⋅mₜ⋅xₗ⋅cos(θₚ)) + 1.0⋅⎝I_c + Iₜ + h_c ⋅m_c + \n",
       "\n",
       "         2                      2              2  ⎞ ⎤\n",
       "⋅θₚ̇⋅xₗ̇ - 0.5⋅mₜ⋅r ⋅cos(θₚ)⋅xₗ̈ - 0.5⋅mₜ⋅r ⋅ẍ - 0.5⋅m_w⋅r ⋅ẍ⎠ ⎥\n",
       "────────────────────────────────────────────────────⎥\n",
       "                                                    ⎥\n",
       "                                                    ⎥\n",
       "                                                    ⎥\n",
       "                                                    ⎥\n",
       "                                                        ⎥\n",
       "                                                    ⎥\n",
       "          2⎞                                        ⎥\n",
       "hₜ ⋅mₜ + mₜ⋅xₗ ⎠⋅θₚ̈                                     ⎦"
      ]
     },
     "execution_count": 12,
     "metadata": {},
     "output_type": "execute_result"
    }
   ],
   "source": [
    "inv_dyn = get_Simplified_EoM(tau_eq, q)\n",
    "inv_dyn"
   ]
  },
  {
   "cell_type": "code",
   "execution_count": 13,
   "metadata": {},
   "outputs": [
    {
     "data": {
      "text/latex": [
       "$\\displaystyle \\left[\\begin{matrix}- 1.0 T\\\\- 1.0 F\\\\1.0 T - 1.0 g m_{t} x_{l}\\end{matrix}\\right]$"
      ],
      "text/plain": [
       "⎡    -1.0⋅T     ⎤\n",
       "⎢               ⎥\n",
       "⎢    -1.0⋅F     ⎥\n",
       "⎢               ⎥\n",
       "⎣1.0⋅T - g⋅mₜ⋅xₗ⎦"
      ]
     },
     "execution_count": 13,
     "metadata": {},
     "output_type": "execute_result"
    }
   ],
   "source": [
    "# Mass :0kg, theta : 0deg, x_dot : 0m/s 일때 평형 방정식\n",
    "ss_eq1 = {theta_p:0, theta_p.diff():0, theta_p.diff().diff():0, x.diff():0, x.diff().diff():0, x_l.diff():0, x_l.diff().diff():0}\n",
    "lin_ss_eq1 = msubs(inv_dyn, ss_eq1)\n",
    "lin_ss_eq1\n"
   ]
  },
  {
   "cell_type": "code",
   "execution_count": 14,
   "metadata": {},
   "outputs": [
    {
     "data": {
      "text/latex": [
       "$\\displaystyle \\left[\\begin{matrix}- \\frac{2.0 \\left(- 0.5 I_{w} \\ddot{x} + 0.5 T r^{2} - 0.5 m_{c} r^{2} \\ddot{x} - 0.5 m_{t} r^{2} \\ddot{x} - 0.5 m_{w} r^{2} \\ddot{x}\\right)}{r^{2}}\\\\- 1.0 F - 1.0 g m_{t} \\sin{\\left(\\theta_{p} \\right)} + 1.0 m_{t} \\cos{\\left(\\theta_{p} \\right)} \\ddot{x}\\\\1.0 T - 1.0 g h_{c} m_{c} \\sin{\\left(\\theta_{p} \\right)} - 1.0 g h_{t} m_{t} \\sin{\\left(\\theta_{p} \\right)} - 1.0 g m_{t} x_{l} \\cos{\\left(\\theta_{p} \\right)} + 1.0 \\left(h_{c} m_{c} \\cos{\\left(\\theta_{p} \\right)} + h_{t} m_{t} \\cos{\\left(\\theta_{p} \\right)} - m_{t} x_{l} \\sin{\\left(\\theta_{p} \\right)}\\right) \\ddot{x}\\end{matrix}\\right]$"
      ],
      "text/plain": [
       "⎡                            ⎛                    2            2             2\n",
       "⎢                       -2.0⋅⎝-0.5⋅I_w⋅ẍ + 0.5⋅T⋅r  - 0.5⋅m_c⋅r ⋅ẍ - 0.5⋅mₜ⋅\n",
       "⎢                       ──────────────────────────────────────────────────────\n",
       "⎢                                                            2                \n",
       "⎢                                                           r                 \n",
       "⎢                                                                             \n",
       "⎢                                         -F - g⋅mₜ⋅sin(θₚ) + 1.0⋅mₜ⋅cos(θₚ)⋅x\n",
       "⎢                                                                             \n",
       "⎣1.0⋅T - g⋅h_c⋅m_c⋅sin(θₚ) - g⋅hₜ⋅mₜ⋅sin(θₚ) - g⋅mₜ⋅xₗ⋅cos(θₚ) + 1.0⋅(h_c⋅m_c⋅\n",
       "\n",
       "              2  ⎞                        ⎤\n",
       "r ⋅ẍ - 0.5⋅m_w⋅r ⋅ẍ⎠                        ⎥\n",
       "───────────────────                       ⎥\n",
       "                                          ⎥\n",
       "                                          ⎥\n",
       "                                          ⎥\n",
       "̈                                          ⎥\n",
       "                                          ⎥\n",
       "cos(θₚ) + hₜ⋅mₜ⋅cos(θₚ) - mₜ⋅xₗ⋅sin(θₚ))⋅ẍ⎦"
      ]
     },
     "execution_count": 14,
     "metadata": {},
     "output_type": "execute_result"
    }
   ],
   "source": [
    "# Mass :0kg\n",
    "ss_eq2 = {theta_p.diff():0, theta_p.diff().diff():0, x_l.diff():0, x_l.diff().diff():0}\n",
    "lin_ss_eq2 = msubs(inv_dyn, ss_eq2)\n",
    "lin_ss_eq2\n"
   ]
  },
  {
   "cell_type": "code",
   "execution_count": 15,
   "metadata": {},
   "outputs": [
    {
     "data": {
      "text/latex": [
       "$\\displaystyle \\left[ \\frac{T - g h_{c} m_{c} \\sin{\\left(\\theta_{p} \\right)} - g h_{t} m_{t} \\sin{\\left(\\theta_{p} \\right)} + h_{c} m_{c} \\cos{\\left(\\theta_{p} \\right)} \\ddot{x} + h_{t} m_{t} \\cos{\\left(\\theta_{p} \\right)} \\ddot{x}}{m_{t} \\left(g \\cos{\\left(\\theta_{p} \\right)} + \\sin{\\left(\\theta_{p} \\right)} \\ddot{x}\\right)}\\right]$"
      ],
      "text/plain": [
       "⎡T - g⋅h_c⋅m_c⋅sin(θₚ) - g⋅hₜ⋅mₜ⋅sin(θₚ) + h_c⋅m_c⋅cos(θₚ)⋅ẍ + hₜ⋅mₜ⋅cos(θₚ)⋅\n",
       "⎢─────────────────────────────────────────────────────────────────────────────\n",
       "⎣                         mₜ⋅(g⋅cos(θₚ) + sin(θₚ)⋅ẍ)                         \n",
       "\n",
       "ẍ⎤\n",
       "⎥\n",
       "⎦"
      ]
     },
     "execution_count": 15,
     "metadata": {},
     "output_type": "execute_result"
    }
   ],
   "source": [
    "solve(lin_ss_eq2[2], x_l)"
   ]
  },
  {
   "cell_type": "code",
   "execution_count": 16,
   "metadata": {},
   "outputs": [
    {
     "data": {
      "text/latex": [
       "$\\displaystyle \\left( \\left[ \\frac{\\left(I_{w} + r^{2} \\left(m_{c} + m_{t} + m_{w}\\right)\\right) \\ddot{x}}{r^{2}}\\right], \\  \\left[ m_{t} \\left(- g \\sin{\\left(\\theta_{p} \\right)} + \\cos{\\left(\\theta_{p} \\right)} \\ddot{x}\\right)\\right]\\right)$"
      ],
      "text/plain": [
       "⎛⎡⎛       2                 ⎞  ⎤                               ⎞\n",
       "⎜⎢⎝I_w + r ⋅(m_c + mₜ + m_w)⎠⋅ẍ⎥                               ⎟\n",
       "⎜⎢─────────────────────────────⎥, [mₜ⋅(-g⋅sin(θₚ) + cos(θₚ)⋅ẍ)]⎟\n",
       "⎜⎢               2             ⎥                               ⎟\n",
       "⎝⎣              r              ⎦                               ⎠"
      ]
     },
     "execution_count": 16,
     "metadata": {},
     "output_type": "execute_result"
    }
   ],
   "source": [
    "solve(lin_ss_eq2[0], T), solve(lin_ss_eq2[1], F)"
   ]
  },
  {
   "cell_type": "code",
   "execution_count": 17,
   "metadata": {},
   "outputs": [],
   "source": [
    "# SIP Model"
   ]
  },
  {
   "cell_type": "code",
   "execution_count": 18,
   "metadata": {},
   "outputs": [
    {
     "data": {
      "text/latex": [
       "$\\displaystyle 0.5 I_{c} \\dot{\\theta}_{p}^{2} + \\frac{0.5 I_{w} \\dot{x}^{2}}{r^{2}} - g h_{c} m_{c} \\cos{\\left(\\theta_{p} \\right)} - g m_{w} r + 0.5 m_{c} \\left(h_{c}^{2} \\sin^{2}{\\left(\\theta_{p} \\right)} \\dot{\\theta}_{p}^{2} + \\left(h_{c} \\cos{\\left(\\theta_{p} \\right)} \\dot{\\theta}_{p} + \\dot{x}\\right)^{2}\\right) + 0.5 m_{w} \\dot{x}^{2}$"
      ],
      "text/plain": [
       "                       2                                                      \n",
       "          2   0.5⋅I_w⋅ẋ                                          ⎛   2    2  \n",
       "0.5⋅I_c⋅θₚ̇  + ────────── - g⋅h_c⋅m_c⋅cos(θₚ) - g⋅m_w⋅r + 0.5⋅m_c⋅⎝h_c ⋅sin (θ\n",
       "                   2                                                          \n",
       "                  r                                                           \n",
       "\n",
       "                                           \n",
       "     2                       2⎞            2\n",
       "ₚ)⋅θₚ̇  + (h_c⋅cos(θₚ)⋅θₚ̇ + ẋ) ⎠ + 0.5⋅m_w⋅ẋ \n",
       "                                           \n",
       "                                           "
      ]
     },
     "execution_count": 18,
     "metadata": {},
     "output_type": "execute_result"
    }
   ],
   "source": [
    "# Displacement Vector\n",
    "# x_wl = trans(r*theta_wl,0,0)\n",
    "# x_wr = trans(r*theta_wr,0,0)\n",
    "# x_c = (x_wr + x_wl)/2 + rot_y(theta_p) @ trans(0,0,h_c)\n",
    "# x_t = (x_wr + x_wl)/2 + rot_y(theta_p) @ trans(x_l,0,h_t)\n",
    "x_b = trans(x,0,0)\n",
    "x_c = x_b + rot_y(theta_p) @ trans(0,0,h_c)\n",
    "\n",
    "# Velocity Vector\n",
    "# v_wl = sp.simplify(time_derivative(x_wl,N))\n",
    "# v_wr = sp.simplify(time_derivative(x_wr,N))\n",
    "v_b = sp.simplify(time_derivative(x_b,N))\n",
    "v_c = sp.simplify(time_derivative(x_c,N))\n",
    "\n",
    "# Angular Velocity Vector\n",
    "w_t = trans(0, theta_p.diff(), 0)\n",
    "w_b = trans(0, x.diff()/r, 0)\n",
    "\n",
    "\n",
    "# Generalized Coordinates\n",
    "# q = sp.Matrix([[theta_wl], [theta_wr], [x_l], [theta_p]])\n",
    "q = sp.Matrix([[x], [theta_p]])\n",
    "qd = q.diff()\n",
    "qdd = qd.diff()\n",
    "\n",
    "# Kinetic Energy\n",
    "# T_wl = 0.5*(m_wl*v_wl.dot(v_wl) + I_w*w_wl[1]**2)\n",
    "# T_wr = 0.5*(m_wr*v_wr.dot(v_wr) + I_w*w_wr[1]**2)\n",
    "T_w = 0.5*(m_w*v_b.dot(v_b) + I_w*w_b[1]**2)\n",
    "T_c = 0.5*(m_c*v_c.dot(v_c) + I_c*w_t[1]**2)\n",
    "\n",
    "T = T_w + T_c\n",
    "# T = T_wl + T_wr + T_c + T_t\n",
    "\n",
    "# Potential Energy\n",
    "U_c = m_c*g*(h_c*cos(theta_p))\n",
    "U_w = m_w*g*r\n",
    "U = U_c + U_w\n",
    "\n",
    "# Lagrangian\n",
    "Lag = T - U\n",
    "Lag\n"
   ]
  },
  {
   "cell_type": "code",
   "execution_count": 19,
   "metadata": {},
   "outputs": [
    {
     "data": {
      "text/latex": [
       "$\\displaystyle \\left[\\begin{matrix}\\frac{1.0 I_{w} \\ddot{x} + r^{2} \\left(m_{c} \\left(- h_{c} \\sin{\\left(\\theta_{p} \\right)} \\dot{\\theta}_{p}^{2} + h_{c} \\cos{\\left(\\theta_{p} \\right)} \\ddot{\\theta}_{p} + \\ddot{x}\\right) + 1.0 m_{w} \\ddot{x}\\right)}{r^{2}}\\\\1.0 I_{c} \\ddot{\\theta}_{p} - 1.0 g h_{c} m_{c} \\sin{\\left(\\theta_{p} \\right)} + 1.0 h_{c}^{2} m_{c} \\ddot{\\theta}_{p} + 1.0 h_{c} m_{c} \\cos{\\left(\\theta_{p} \\right)} \\ddot{x}\\end{matrix}\\right]$"
      ],
      "text/plain": [
       "⎡             2 ⎛    ⎛                2                     ⎞            ⎞⎤\n",
       "⎢1.0⋅I_w⋅ẍ + r ⋅⎝m_c⋅⎝- h_c⋅sin(θₚ)⋅θₚ̇  + h_c⋅cos(θₚ)⋅θₚ̈ + ẍ⎠ + 1.0⋅m_w⋅ẍ⎠⎥\n",
       "⎢─────────────────────────────────────────────────────────────────────────⎥\n",
       "⎢                                     2                                   ⎥\n",
       "⎢                                    r                                    ⎥\n",
       "⎢                                                                         ⎥\n",
       "⎢                                        2                                ⎥\n",
       "⎣1.0⋅I_c⋅θₚ̈ - g⋅h_c⋅m_c⋅sin(θₚ) + 1.0⋅h_c ⋅m_c⋅θₚ̈ + 1.0⋅h_c⋅m_c⋅cos(θₚ)⋅ẍ ⎦"
      ]
     },
     "execution_count": 19,
     "metadata": {},
     "output_type": "execute_result"
    }
   ],
   "source": [
    "tau = get_torque_from_L(Lag,q,qd)\n",
    "tau = sp.simplify(tau)\n",
    "tau"
   ]
  },
  {
   "cell_type": "code",
   "execution_count": 20,
   "metadata": {},
   "outputs": [
    {
     "data": {
      "text/latex": [
       "$\\displaystyle \\left[\\begin{matrix}- T + \\frac{1.0 I_{w} \\ddot{x} + r^{2} \\left(m_{c} \\left(- h_{c} \\sin{\\left(\\theta_{p} \\right)} \\dot{\\theta}_{p}^{2} + h_{c} \\cos{\\left(\\theta_{p} \\right)} \\ddot{\\theta}_{p} + \\ddot{x}\\right) + 1.0 m_{w} \\ddot{x}\\right)}{r^{2}}\\\\1.0 I_{c} \\ddot{\\theta}_{p} + T - 1.0 g h_{c} m_{c} \\sin{\\left(\\theta_{p} \\right)} + 1.0 h_{c}^{2} m_{c} \\ddot{\\theta}_{p} + 1.0 h_{c} m_{c} \\cos{\\left(\\theta_{p} \\right)} \\ddot{x}\\end{matrix}\\right]$"
      ],
      "text/plain": [
       "⎡                  2 ⎛    ⎛                2                     ⎞            \n",
       "⎢     1.0⋅I_w⋅ẍ + r ⋅⎝m_c⋅⎝- h_c⋅sin(θₚ)⋅θₚ̇  + h_c⋅cos(θₚ)⋅θₚ̈ + ẍ⎠ + 1.0⋅m\n",
       "⎢-T + ────────────────────────────────────────────────────────────────────────\n",
       "⎢                                          2                                  \n",
       "⎢                                         r                                   \n",
       "⎢                                                                             \n",
       "⎢                                             2                               \n",
       "⎣ 1.0⋅I_c⋅θₚ̈ + T - g⋅h_c⋅m_c⋅sin(θₚ) + 1.0⋅h_c ⋅m_c⋅θₚ̈ + 1.0⋅h_c⋅m_c⋅cos(θₚ)\n",
       "\n",
       "⎞⎤\n",
       "_w⋅ẍ⎠⎥\n",
       "─⎥\n",
       " ⎥\n",
       " ⎥\n",
       " ⎥\n",
       " ⎥\n",
       "⋅ẍ ⎦"
      ]
     },
     "execution_count": 20,
     "metadata": {},
     "output_type": "execute_result"
    }
   ],
   "source": [
    "# F= sp.symbols('F')\n",
    "# u = sp.Matrix([F])\n",
    "\n",
    "# u_matrix = sp.Matrix([[0],[0],[-F]])\n",
    "\n",
    "F, T = sp.symbols('F, T')\n",
    "\n",
    "u_matrix = sp.Matrix([[-T], [T]])\n",
    "\n",
    "tau_eq = tau+u_matrix\n",
    "tau_eq\n"
   ]
  },
  {
   "cell_type": "code",
   "execution_count": 21,
   "metadata": {},
   "outputs": [],
   "source": [
    "M, C, G, W = get_EoM_from_T(tau_eq,qdd,g, u)"
   ]
  },
  {
   "cell_type": "code",
   "execution_count": 22,
   "metadata": {},
   "outputs": [
    {
     "data": {
      "text/latex": [
       "$\\displaystyle \\left( \\left[\\begin{matrix}\\frac{1.0 I_{w}}{r^{2}} + m_{c} + 1.0 m_{w} & h_{c} m_{c} \\cos{\\left(\\theta_{p} \\right)}\\\\1.0 h_{c} m_{c} \\cos{\\left(\\theta_{p} \\right)} & 1.0 I_{c} + 1.0 h_{c}^{2} m_{c}\\end{matrix}\\right], \\  \\left[\\begin{matrix}- h_{c} m_{c} \\sin{\\left(\\theta_{p} \\right)} \\dot{\\theta}_{p}^{2}\\\\0\\end{matrix}\\right], \\  \\left[\\begin{matrix}0\\\\- 1.0 g h_{c} m_{c} \\sin{\\left(\\theta_{p} \\right)}\\end{matrix}\\right], \\  \\left[\\begin{matrix}1 & 0\\\\-1 & 0\\end{matrix}\\right]\\right)$"
      ],
      "text/plain": [
       "⎛⎡1.0⋅I_w                                        ⎤                            \n",
       "⎜⎢─────── + m_c + 1.0⋅m_w     h_c⋅m_c⋅cos(θₚ)    ⎥  ⎡                   2⎤    \n",
       "⎜⎢    2                                          ⎥  ⎢-h_c⋅m_c⋅sin(θₚ)⋅θₚ̇ ⎥  ⎡\n",
       "⎜⎢   r                                           ⎥, ⎢                    ⎥, ⎢ \n",
       "⎜⎢                                               ⎥  ⎣         0          ⎦  ⎣-\n",
       "⎜⎢                                          2    ⎥                            \n",
       "⎝⎣  1.0⋅h_c⋅m_c⋅cos(θₚ)    1.0⋅I_c + 1.0⋅h_c ⋅m_c⎦                            \n",
       "\n",
       "                               ⎞\n",
       "                               ⎟\n",
       "          0           ⎤  ⎡1   0⎤⎟\n",
       "                     ⎥, ⎢     ⎥⎟\n",
       "1.0⋅g⋅h_c⋅m_c⋅sin(θₚ)⎦  ⎣-1  0⎦⎟\n",
       "                               ⎟\n",
       "                               ⎠"
      ]
     },
     "execution_count": 22,
     "metadata": {},
     "output_type": "execute_result"
    }
   ],
   "source": [
    "M, C, G, W"
   ]
  },
  {
   "cell_type": "code",
   "execution_count": 23,
   "metadata": {},
   "outputs": [
    {
     "data": {
      "text/latex": [
       "$\\displaystyle \\left( \\left[\\begin{matrix}\\frac{1.0 I_{w}}{r^{2}} + m_{c} + 1.0 m_{w} & h_{c} m_{c}\\\\1.0 h_{c} m_{c} & 1.0 I_{c} + 1.0 h_{c}^{2} m_{c}\\end{matrix}\\right], \\  \\left[\\begin{matrix}0\\\\0\\end{matrix}\\right], \\  \\left[\\begin{matrix}0\\\\- 1.0 g h_{c} m_{c} \\theta_{p}\\end{matrix}\\right], \\  \\left[\\begin{matrix}1 & 0\\\\-1 & 0\\end{matrix}\\right]\\right)$"
      ],
      "text/plain": [
       "⎛⎡1.0⋅I_w                                        ⎤                            \n",
       "⎜⎢─────── + m_c + 1.0⋅m_w         h_c⋅m_c        ⎥                            \n",
       "⎜⎢    2                                          ⎥  ⎡0⎤  ⎡        0        ⎤  \n",
       "⎜⎢   r                                           ⎥, ⎢ ⎥, ⎢                 ⎥, \n",
       "⎜⎢                                               ⎥  ⎣0⎦  ⎣-1.0⋅g⋅h_c⋅m_c⋅θₚ⎦  \n",
       "⎜⎢                                          2    ⎥                            \n",
       "⎝⎣      1.0⋅h_c⋅m_c        1.0⋅I_c + 1.0⋅h_c ⋅m_c⎦                            \n",
       "\n",
       "       ⎞\n",
       "       ⎟\n",
       "⎡1   0⎤⎟\n",
       "⎢     ⎥⎟\n",
       "⎣-1  0⎦⎟\n",
       "       ⎟\n",
       "       ⎠"
      ]
     },
     "execution_count": 23,
     "metadata": {},
     "output_type": "execute_result"
    }
   ],
   "source": [
    "# linearlize_eq = {sp.sin(2*theta_p):2*theta_p, sp.sin(theta_p):theta_p, sp.cos(2*theta_p):1, sp.cos(theta_p):1, theta_p.diff():0, x_l.diff():0, x_l:0}\n",
    "linearlize_eq = {sp.sin(theta_p):theta_p, sp.cos(theta_p):1, theta_p.diff():0}\n",
    "Ml =M.subs(linearlize_eq)\n",
    "Cl =C.subs(linearlize_eq)\n",
    "Gl =G.subs(linearlize_eq)\n",
    "Wl =W.subs(linearlize_eq)\n",
    "Ml, Cl, Gl, Wl"
   ]
  },
  {
   "cell_type": "code",
   "execution_count": 24,
   "metadata": {},
   "outputs": [
    {
     "name": "stdout",
     "output_type": "stream",
     "text": [
      "<LinearIOSystem>: sys[3]\n",
      "Inputs (2): ['u[0]', 'u[1]']\n",
      "Outputs (4): ['y[0]', 'y[1]', 'y[2]', 'y[3]']\n",
      "States (4): ['x[0]', 'x[1]', 'x[2]', 'x[3]']\n",
      "\n",
      "A = [[ 0.          0.          1.          0.        ]\n",
      "     [ 0.          0.          0.          1.        ]\n",
      "     [ 0.         -1.31934817  0.          0.        ]\n",
      "     [ 0.          5.09047548  0.          0.        ]]\n",
      "\n",
      "B = [[ 0.          0.        ]\n",
      "     [ 0.          0.        ]\n",
      "     [ 0.0045672   0.        ]\n",
      "     [-0.00696384  0.        ]]\n",
      "\n",
      "C = [[1. 0. 0. 0.]\n",
      "     [0. 1. 0. 0.]\n",
      "     [0. 0. 1. 0.]\n",
      "     [0. 0. 0. 1.]]\n",
      "\n",
      "D = [[0. 0.]\n",
      "     [0. 0.]\n",
      "     [0. 0.]\n",
      "     [0. 0.]]\n",
      "\n"
     ]
    }
   ],
   "source": [
    "# param = {m_t: 8.885, m_c:4.124, m_wl:2, m_wr:2, r:0.065, h_c:0.034617, h_t:0.11198, I_t:0.214776135, I_c:0.003414834, I_w:0.004647634, g:9.81}\n",
    "# param = {m_t: 368.2986, m_c:31.914, m_wl:9.595, m_wr:9.595, r:0.2206625, h_c:0.05774, h_t:0.28433, I_t:179.5035, I_c:0.4868, I_w:0.1367, g:9.81}\n",
    "\n",
    "# param = {r:0.065, h_c:0.034617, h_t:0.11198, m_w:2, m_wl:2, m_wr:2, m_c:4.124, m_t:8.885, g:9.8}\n",
    "# param = {m_t: 368.2986, m_c:31.914, m_w:9.595, r:0.2206625, h_c:0.05774, h_t:0.28433, I_t:179.5035, I_c:0.4868, I_w:0.1367, g:9.81}\n",
    "param = {m_c: 346.052, m_w:12.05514,\n",
    "         r:0.22, h_c:0.2711359, g:9.81}\n",
    "\n",
    "# Moment of Inertia\n",
    "param[I_w] = 0.189170789 #0.1367 #0.2734 #0.1367\n",
    "param[I_c] = 179.6951 #0.4868 #0.6541\n",
    "\n",
    "Mlp = msubs(Ml, param)\n",
    "Clp = msubs(Cl, param)\n",
    "Glp = msubs(Gl, param)\n",
    "Wlp = msubs(Wl, param)\n",
    "\n",
    "# Forward Dynamics eqation\n",
    "# qdd = M(q)^-1 * ( -C(q,qd) - G(q) + W*u )\n",
    "Mlp_inv = simplify(Mlp.inv())\n",
    "qdd_rhs_A = simplify(Mlp_inv*(-Clp -Glp))\n",
    "qdd_rhs_B = simplify(Mlp_inv*Wlp*u)\n",
    "\n",
    "# Nonlinear Dynamics Model\n",
    "Mp = msubs(M, param)\n",
    "Cp = msubs(C, param)\n",
    "Gp = msubs(G, param)\n",
    "Wp = msubs(W, param)\n",
    "# Forward Dynamics eqation\n",
    "# qdd = M(q)^-1 * ( -C(q,qd) - G(q) + W*u )\n",
    "Mp_inv = (Mp.inv())\n",
    "qdd_rhs_A_nonL = (Mp_inv*(-Cp -Gp))\n",
    "qdd_rhs_B_nonL = (Mp_inv*Wp*u)\n",
    "qdd_rhs_A_nonL, qdd_rhs_B_nonL\n",
    "\n",
    "# State-space equation. \n",
    "X = q.col_join(qd)\n",
    "Xd_A = qd.col_join(qdd_rhs_A)\n",
    "Xd_B = qd.col_join(qdd_rhs_B)\n",
    "U = u\n",
    "\n",
    "# State-space equation\n",
    "A = simplify(Xd_A.jacobian(X))\n",
    "B = simplify(Xd_B.jacobian(U))\n",
    "C = simplify(X.jacobian(X))\n",
    "D = simplify(X.jacobian(U))\n",
    "\n",
    "ss0 = [A, B, C, D]\n",
    "sys0 = control.ss(*[pl.array(mat_i.subs(param)).astype(float) for mat_i in ss0])\n",
    "mprint(sys0)"
   ]
  },
  {
   "cell_type": "code",
   "execution_count": null,
   "metadata": {},
   "outputs": [],
   "source": []
  }
 ],
 "metadata": {
  "kernelspec": {
   "display_name": "base",
   "language": "python",
   "name": "python3"
  },
  "language_info": {
   "codemirror_mode": {
    "name": "ipython",
    "version": 3
   },
   "file_extension": ".py",
   "mimetype": "text/x-python",
   "name": "python",
   "nbconvert_exporter": "python",
   "pygments_lexer": "ipython3",
   "version": "3.9.13"
  },
  "vscode": {
   "interpreter": {
    "hash": "a05f93782d31fb45d30263a0389582a01d7e14abf3ec6aacde92652303ee35ce"
   }
  }
 },
 "nbformat": 4,
 "nbformat_minor": 4
}
