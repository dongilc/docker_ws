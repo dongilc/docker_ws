{
 "cells": [
  {
   "cell_type": "code",
   "execution_count": 1,
   "metadata": {},
   "outputs": [],
   "source": [
    "# 2024 / 01 / 03\n",
    "# Quad v2 dynamics"
   ]
  },
  {
   "cell_type": "code",
   "execution_count": 2,
   "metadata": {},
   "outputs": [],
   "source": [
    "from eom import *\n",
    "from sympy import symbols, factor\n",
    "from sympy import simplify\n",
    "from sympy.physics.mechanics import *\n",
    "from sympy import sin, cos, symbols, Matrix, solve\n",
    "from sympy.physics.vector import init_vprinting\n",
    "import numpy as np\n",
    "init_vprinting()"
   ]
  },
  {
   "cell_type": "markdown",
   "metadata": {},
   "source": [
    "## System dynamics ##\n",
    "\n",
    "The system to be controlled is an dual-moiton inverted pendulum on a cart (see next Figure).  \n",
    "\n",
    "<img src=\"dual_motion.png\" width=\"800\" align=\"center\"/>\n",
    "\n",
    "Parameter description  \n",
    "$m_t$ = 몸체 무게  \n",
    "$m_c$ = 슬라이더 무게  \n",
    "$m_w$ = 휠 무게  \n",
    "$r$ = 휠 반지름  \n",
    "$\\theta_p $ = 몸체의 기울기(그림에서 $\\theta$)  \n",
    "$\\theta_w $ = 휠 각도  \n",
    "$x_l$ = 슬라이더 위치  \n",
    "$h_t$ = 휠 중심부터 몸체 중심 까지의 거리  \n",
    "$h_c$ = 휠 중심부터 슬라이더 중심 까지의 거리  \n",
    "$I_t$ = 몸체 관성 모멘트  \n",
    "$I_c$ = 슬라이더 관성 모멘트  \n",
    "$I_w$ = 휠 관성 모멘트  \n",
    "\n",
    "Lagrangian dynamics system parameter = $[\\theta_w\\; \\theta_p\\; x_l]$\n",
    "\n"
   ]
  },
  {
   "cell_type": "code",
   "execution_count": 3,
   "metadata": {},
   "outputs": [],
   "source": [
    "# Define Symbolic Variables\n",
    "x, x_l, theta = dynamicsymbols('x, x_l, theta')\n",
    "phi = dynamicsymbols('phi')\n",
    "F, F_l = dynamicsymbols('F, F_l')\n",
    "r, h_c, h_t = symbols('r, h_c, h_t')\n",
    "I_w, I_c, I_t = symbols('I_w, I_c, I_t')\n",
    "m_w, m_c, m_t, g, t, x_tot, m_tot = symbols('m_w, m_c, m_t, g, t, x_tot, m_tot')\n",
    "\n",
    "# related to slope\n",
    "alpha = symbols('alpha')\n",
    "m_d, l_d, h_d = symbols('m_d, l_d, h_d')\n"
   ]
  },
  {
   "cell_type": "code",
   "execution_count": 4,
   "metadata": {},
   "outputs": [],
   "source": [
    "# # Physical Parameter, KITECH Robot\n",
    "# param = {h_t : 0.28433, I_t : 179.5035, m_t : 424.561+200, \n",
    "#          h_c : 0.05774, I_c : 0.4868, m_c : 31.914,\n",
    "#          r : 0.2206625, I_w : 0.1367, m_w:9.595, g:9.81}\n",
    "\n",
    "# # param2 = {h_t : 0.11198, I_t : 0.214776135, m_t : 8.885+200, \n",
    "# #          h_c : 0.034617, I_c : 0.003414834, m_c : 4.124,\n",
    "# #          r : 0.065, I_w : 0.004647634, m_w:2.0, g:9.81}\n",
    "\n",
    "# param = {r:0.065, h_c:0.034617, h_t:0.11198, m_w:2, m_c:4.124, m_t:8.885, g:9.8, alpha:0*np.pi/180, x.diff().diff():0.5, x_tot:0.05, m_tot:9.385 }\n",
    "\n",
    "# # Moment of Inertia\n",
    "# param[I_w] = 0.1367 #0.2734 #0.1367\n",
    "# param[I_c] = 0.4868 #0.6541\n",
    "# param[I_t] = 179.5035 #173.4619\n",
    "\n",
    "# #r : 0.2206625\n",
    "# #h_t : 0.28433\n",
    "# #h_c : 0.05774\n",
    "\n",
    "# #m_t : 368.2986\n",
    "# #m_c : 31.914\n",
    "# #m_w : 9.595\n",
    "\n",
    "# #I_t : 179.5035\n",
    "# #I_c : 0.4868\n",
    "# #I_w : 0.1367\n",
    "\n",
    "# #g : 9.81"
   ]
  },
  {
   "cell_type": "code",
   "execution_count": 5,
   "metadata": {},
   "outputs": [],
   "source": [
    "# Physical Parameter, KITECH Robot v2\n",
    "param = {h_t : 0.30504, I_t : 175.3832154, m_t : 307.332, \n",
    "         h_c : 0.00203, I_c : 1.154265591, m_c : 38.72018,\n",
    "         r : 0.22, I_w : 0.189170789, m_w:12.05514, g:9.81}\n",
    "\n",
    "# param2 = {h_t : 0.11198, I_t : 0.214776135, m_t : 8.885+200, \n",
    "#          h_c : 0.034617, I_c : 0.003414834, m_c : 4.124,\n",
    "#          r : 0.065, I_w : 0.004647634, m_w:2.0, g:9.81}\n",
    "\n",
    "# param = {r:0.065, h_c:0.034617, h_t:0.11198, m_w:2, m_c:4.124, m_t:8.885, g:9.8, alpha:0*np.pi/180, x.diff().diff():0.5, x_tot:0.05, m_tot:9.385 }\n",
    "\n",
    "# Moment of Inertia\n",
    "# param[I_w] = 0.1367 #0.2734 #0.1367\n",
    "# param[I_c] = 0.4868 #0.6541\n",
    "# param[I_t] = 179.5035 #173.4619\n",
    "\n",
    "#r : 0.2206625\n",
    "#h_t : 0.28433\n",
    "#h_c : 0.05774\n",
    "\n",
    "#m_t : 368.2986\n",
    "#m_c : 31.914\n",
    "#m_w : 9.595\n",
    "\n",
    "#I_t : 179.5035\n",
    "#I_c : 0.4868\n",
    "#I_w : 0.1367\n",
    "\n",
    "#g : 9.81"
   ]
  },
  {
   "cell_type": "code",
   "execution_count": 6,
   "metadata": {},
   "outputs": [],
   "source": [
    "# Newtonian Reference Frames\n",
    "N = ReferenceFrame('N')\n",
    "No = Point('No') \n",
    "No.set_vel(N, 0)\n",
    "\n",
    "# Slope\n",
    "S = N.orientnew('S', 'Axis', [-alpha, N.y])\n",
    "\n",
    "# Wheel Center Point\n",
    "Wo = No.locatenew('Wo', x*S.x + r*S.z)\n",
    "Wo.set_vel(S, Wo.pos_from(No).diff(t, N))\n",
    "\n",
    "# Pendulum \n",
    "P = N.orientnew('P', 'Axis', [theta, N.y])\n",
    "Po = Wo.locatenew('Po', h_c*P.z)\n",
    "Po.set_vel(P, 0)\n",
    "J_pend = inertia(P, 0, I_c, 0)\n",
    "Pend = RigidBody('Pend', Po, P, m_c, (J_pend, Po))\n",
    "\n",
    "# Torso\n",
    "T = P.orientnew('T', 'Axis', [0, P.y])\n",
    "To = Wo.locatenew('To', x_l*P.x + h_t*P.z)\n",
    "To.set_vel(T, 0)\n",
    "J_torso = inertia(T, 0, I_t, 0)\n",
    "Torso = RigidBody('Torso', To, T, m_t, (J_torso, To))\n",
    "\n",
    "# Dummy Mass (Point Mass)\n",
    "D = P.orientnew('D', 'Axis', [0, P.y])\n",
    "Do = Wo.locatenew('Do', l_d*P.x + h_d*P.z)\n",
    "Do.set_vel(D, 0)\n",
    "Dummy = Particle('Dummy', Do, m_d)\n",
    "\n",
    "# Wheel \n",
    "W = P.orientnew('W', 'Axis', [phi, P.y])\n",
    "Wo.set_vel(W, 0)\n",
    "J_wheel = inertia(W, 0, I_w, 0)\n",
    "Wheel = RigidBody('Wheel', Wo, W, m_w, (J_wheel, Wo))"
   ]
  },
  {
   "cell_type": "code",
   "execution_count": 7,
   "metadata": {},
   "outputs": [
    {
     "data": {
      "text/latex": [
       "$\\displaystyle \\left( \\left[\\begin{matrix}- r \\sin{\\left(\\alpha \\right)} + x \\cos{\\left(\\alpha \\right)}\\\\0\\\\r \\cos{\\left(\\alpha \\right)} + x \\sin{\\left(\\alpha \\right)}\\end{matrix}\\right], \\  \\left[\\begin{matrix}\\cos{\\left(\\alpha \\right)} \\dot{x}\\\\0\\\\\\sin{\\left(\\alpha \\right)} \\dot{x}\\end{matrix}\\right], \\  \\left[\\begin{matrix}\\cos{\\left(\\alpha \\right)} \\ddot{x}\\\\0\\\\\\sin{\\left(\\alpha \\right)} \\ddot{x}\\end{matrix}\\right]\\right)$"
      ],
      "text/plain": [
       "⎛⎡-r⋅sin(α) + x⋅cos(α)⎤  ⎡cos(α)⋅ẋ⎤  ⎡cos(α)⋅ẍ⎤⎞\n",
       "⎜⎢                    ⎥  ⎢        ⎥  ⎢        ⎥⎟\n",
       "⎜⎢         0          ⎥, ⎢   0    ⎥, ⎢   0    ⎥⎟\n",
       "⎜⎢                    ⎥  ⎢        ⎥  ⎢        ⎥⎟\n",
       "⎝⎣r⋅cos(α) + x⋅sin(α) ⎦  ⎣sin(α)⋅ẋ⎦  ⎣sin(α)⋅ẍ⎦⎠"
      ]
     },
     "execution_count": 7,
     "metadata": {},
     "output_type": "execute_result"
    }
   ],
   "source": [
    "# Confirmation of Position, Velocity and Acceleration\n",
    "Wo.pos_from(No).express(N).args[0][0], Wo.vel(N).express(N).args[0][0], Wo.acc(N).express(N).args[0][0]"
   ]
  },
  {
   "cell_type": "code",
   "execution_count": 8,
   "metadata": {},
   "outputs": [
    {
     "data": {
      "text/latex": [
       "$\\displaystyle \\left( \\left[\\begin{matrix}h_{c} \\sin{\\left(\\theta \\right)} - r \\sin{\\left(\\alpha \\right)} + x \\cos{\\left(\\alpha \\right)}\\\\0\\\\h_{c} \\cos{\\left(\\theta \\right)} + r \\cos{\\left(\\alpha \\right)} + x \\sin{\\left(\\alpha \\right)}\\end{matrix}\\right], \\  \\left[\\begin{matrix}h_{c} \\cos{\\left(\\theta \\right)} \\dot{\\theta} + \\cos{\\left(\\alpha \\right)} \\dot{x}\\\\0\\\\- h_{c} \\sin{\\left(\\theta \\right)} \\dot{\\theta} + \\sin{\\left(\\alpha \\right)} \\dot{x}\\end{matrix}\\right], \\  \\left[\\begin{matrix}- h_{c} \\sin{\\left(\\theta \\right)} \\dot{\\theta}^{2} + h_{c} \\cos{\\left(\\theta \\right)} \\ddot{\\theta} + \\cos{\\left(\\alpha \\right)} \\ddot{x}\\\\0\\\\- h_{c} \\sin{\\left(\\theta \\right)} \\ddot{\\theta} - h_{c} \\cos{\\left(\\theta \\right)} \\dot{\\theta}^{2} + \\sin{\\left(\\alpha \\right)} \\ddot{x}\\end{matrix}\\right]\\right)$"
      ],
      "text/plain": [
       "⎛                                                                ⎡            \n",
       "⎜⎡h_c⋅sin(θ) - r⋅sin(α) + x⋅cos(α)⎤  ⎡h_c⋅cos(θ)⋅θ̇ + cos(α)⋅ẋ ⎤  ⎢- h_c⋅sin(\n",
       "⎜⎢                                ⎥  ⎢                        ⎥  ⎢            \n",
       "⎜⎢               0                ⎥, ⎢           0            ⎥, ⎢            \n",
       "⎜⎢                                ⎥  ⎢                        ⎥  ⎢            \n",
       "⎜⎣h_c⋅cos(θ) + r⋅cos(α) + x⋅sin(α)⎦  ⎣-h_c⋅sin(θ)⋅θ̇ + sin(α)⋅ẋ⎦  ⎢          \n",
       "⎝                                                                ⎣-h_c⋅sin(θ)⋅\n",
       "\n",
       "  2                          ⎤⎞\n",
       "θ)⋅θ̇  + h_c⋅cos(θ)⋅θ̈ + cos(α)⋅ẍ⎥⎟\n",
       "                             ⎥⎟\n",
       "        0                    ⎥⎟\n",
       "                             ⎥⎟\n",
       "                  2            ⎥⎟\n",
       "θ̈ - h_c⋅cos(θ)⋅θ̇  + sin(α)⋅ẍ ⎦⎠"
      ]
     },
     "execution_count": 8,
     "metadata": {},
     "output_type": "execute_result"
    }
   ],
   "source": [
    "# Confirmation of Position, Velocity and Acceleration\n",
    "Po.pos_from(No).express(N).args[0][0], Po.vel(N).express(N).args[0][0], Po.acc(N).express(N).args[0][0]"
   ]
  },
  {
   "cell_type": "code",
   "execution_count": 9,
   "metadata": {},
   "outputs": [
    {
     "data": {
      "text/latex": [
       "$\\displaystyle \\left( \\left[\\begin{matrix}h_{t} \\sin{\\left(\\theta \\right)} - r \\sin{\\left(\\alpha \\right)} + x \\cos{\\left(\\alpha \\right)} + x_{l} \\cos{\\left(\\theta \\right)}\\\\0\\\\h_{t} \\cos{\\left(\\theta \\right)} + r \\cos{\\left(\\alpha \\right)} + x \\sin{\\left(\\alpha \\right)} - x_{l} \\sin{\\left(\\theta \\right)}\\end{matrix}\\right], \\  \\left[\\begin{matrix}\\left(h_{t} \\dot{\\theta} + \\dot{x}_{l}\\right) \\cos{\\left(\\theta \\right)} - x_{l} \\sin{\\left(\\theta \\right)} \\dot{\\theta} + \\cos{\\left(\\alpha \\right)} \\dot{x}\\\\0\\\\- \\left(h_{t} \\dot{\\theta} + \\dot{x}_{l}\\right) \\sin{\\left(\\theta \\right)} - x_{l} \\cos{\\left(\\theta \\right)} \\dot{\\theta} + \\sin{\\left(\\alpha \\right)} \\dot{x}\\end{matrix}\\right], \\  \\left[\\begin{matrix}\\left(h_{t} \\ddot{\\theta} - x_{l} \\dot{\\theta}^{2} + \\ddot{x}_{l}\\right) \\cos{\\left(\\theta \\right)} + \\left(- \\left(h_{t} \\dot{\\theta} + \\dot{x}_{l}\\right) \\dot{\\theta} - x_{l} \\ddot{\\theta} - \\dot{\\theta} \\dot{x}_{l}\\right) \\sin{\\left(\\theta \\right)} + \\cos{\\left(\\alpha \\right)} \\ddot{x}\\\\0\\\\- \\left(h_{t} \\ddot{\\theta} - x_{l} \\dot{\\theta}^{2} + \\ddot{x}_{l}\\right) \\sin{\\left(\\theta \\right)} + \\left(- \\left(h_{t} \\dot{\\theta} + \\dot{x}_{l}\\right) \\dot{\\theta} - x_{l} \\ddot{\\theta} - \\dot{\\theta} \\dot{x}_{l}\\right) \\cos{\\left(\\theta \\right)} + \\sin{\\left(\\alpha \\right)} \\ddot{x}\\end{matrix}\\right]\\right)$"
      ],
      "text/plain": [
       "⎛                                                                             \n",
       "⎜⎡hₜ⋅sin(θ) - r⋅sin(α) + x⋅cos(α) + xₗ⋅cos(θ)⎤  ⎡(hₜ⋅θ̇ + xₗ̇)⋅cos(θ) - xₗ⋅sin\n",
       "⎜⎢                                           ⎥  ⎢                             \n",
       "⎜⎢                     0                     ⎥, ⎢                     0       \n",
       "⎜⎢                                           ⎥  ⎢                             \n",
       "⎜⎣hₜ⋅cos(θ) + r⋅cos(α) + x⋅sin(α) - xₗ⋅sin(θ)⎦  ⎣-(hₜ⋅θ̇ + xₗ̇)⋅sin(θ) - xₗ⋅co\n",
       "⎝                                                                             \n",
       "\n",
       "                  ⎡ ⎛           2     ⎞                                       \n",
       "(θ)⋅θ̇ + cos(α)⋅ẋ ⎤  ⎢ ⎝hₜ⋅θ̈ - xₗ⋅θ̇  + xₗ̈⎠⋅cos(θ) + (-(hₜ⋅θ̇ + xₗ̇)⋅θ̇ - x\n",
       "               ⎥  ⎢                                                           \n",
       "               ⎥, ⎢                                       0                   \n",
       "               ⎥  ⎢                                                           \n",
       "s(θ)⋅θ̇ + sin(α)⋅ẋ⎦  ⎢  ⎛           2     ⎞                                  \n",
       "                  ⎣- ⎝hₜ⋅θ̈ - xₗ⋅θ̇  + xₗ̈⎠⋅sin(θ) + (-(hₜ⋅θ̇ + xₗ̇)⋅θ̇ - xₗ⋅θ\n",
       "\n",
       "                    ⎤⎞\n",
       "ₗ⋅θ̈ - θ̇⋅xₗ̇)⋅sin(θ) + cos(α)⋅ẍ ⎥⎟\n",
       "                    ⎥⎟\n",
       "                    ⎥⎟\n",
       "                    ⎥⎟\n",
       "                        ⎥⎟\n",
       "̈ - θ̇⋅xₗ̇)⋅cos(θ) + sin(α)⋅ẍ⎦⎠"
      ]
     },
     "execution_count": 9,
     "metadata": {},
     "output_type": "execute_result"
    }
   ],
   "source": [
    "# Confirmation of Position, Velocity and Acceleration\n",
    "To.pos_from(No).express(N).args[0][0], To.vel(N).express(N).args[0][0], To.acc(N).express(N).args[0][0]"
   ]
  },
  {
   "cell_type": "code",
   "execution_count": 10,
   "metadata": {},
   "outputs": [
    {
     "data": {
      "text/latex": [
       "$\\displaystyle \\left( \\left[\\begin{matrix}\\cos{\\left(\\theta \\right)} & 0 & - \\sin{\\left(\\theta \\right)}\\\\0 & 1 & 0\\\\\\sin{\\left(\\theta \\right)} & 0 & \\cos{\\left(\\theta \\right)}\\end{matrix}\\right], \\  \\left[\\begin{matrix}0\\\\\\dot{\\theta}\\\\0\\end{matrix}\\right], \\  \\left[\\begin{matrix}0\\\\\\ddot{\\theta}\\\\0\\end{matrix}\\right]\\right)$"
      ],
      "text/plain": [
       "⎛⎡cos(θ)  0  -sin(θ)⎤  ⎡0⎤  ⎡0⎤⎞\n",
       "⎜⎢                  ⎥  ⎢ ⎥  ⎢ ⎥⎟\n",
       "⎜⎢  0     1     0   ⎥, ⎢θ̇⎥, ⎢θ̈⎥⎟\n",
       "⎜⎢                  ⎥  ⎢ ⎥  ⎢ ⎥⎟\n",
       "⎝⎣sin(θ)  0  cos(θ) ⎦  ⎣0⎦  ⎣0⎦⎠"
      ]
     },
     "execution_count": 10,
     "metadata": {},
     "output_type": "execute_result"
    }
   ],
   "source": [
    "# Confirmation of dcm, angular velocity and acceleration\n",
    "P.dcm(N), P.ang_vel_in(N).express(N).args[0][0], P.ang_acc_in(N).express(N).args[0][0]"
   ]
  },
  {
   "cell_type": "code",
   "execution_count": 11,
   "metadata": {},
   "outputs": [
    {
     "data": {
      "text/latex": [
       "$\\displaystyle \\left( \\left[\\begin{matrix}\\cos{\\left(\\theta \\right)} & 0 & - \\sin{\\left(\\theta \\right)}\\\\0 & 1 & 0\\\\\\sin{\\left(\\theta \\right)} & 0 & \\cos{\\left(\\theta \\right)}\\end{matrix}\\right], \\  \\left[\\begin{matrix}0\\\\\\dot{\\theta}\\\\0\\end{matrix}\\right], \\  \\left[\\begin{matrix}0\\\\\\ddot{\\theta}\\\\0\\end{matrix}\\right]\\right)$"
      ],
      "text/plain": [
       "⎛⎡cos(θ)  0  -sin(θ)⎤  ⎡0⎤  ⎡0⎤⎞\n",
       "⎜⎢                  ⎥  ⎢ ⎥  ⎢ ⎥⎟\n",
       "⎜⎢  0     1     0   ⎥, ⎢θ̇⎥, ⎢θ̈⎥⎟\n",
       "⎜⎢                  ⎥  ⎢ ⎥  ⎢ ⎥⎟\n",
       "⎝⎣sin(θ)  0  cos(θ) ⎦  ⎣0⎦  ⎣0⎦⎠"
      ]
     },
     "execution_count": 11,
     "metadata": {},
     "output_type": "execute_result"
    }
   ],
   "source": [
    "# Confirmation of dcm, angular velocity and acceleration\n",
    "T.dcm(N), T.ang_vel_in(N).express(N).args[0][0], T.ang_acc_in(N).express(N).args[0][0]"
   ]
  },
  {
   "cell_type": "code",
   "execution_count": 12,
   "metadata": {},
   "outputs": [
    {
     "data": {
      "text/latex": [
       "$\\displaystyle \\left( \\left[\\begin{matrix}- \\sin{\\left(\\phi \\right)} \\sin{\\left(\\theta \\right)} + \\cos{\\left(\\phi \\right)} \\cos{\\left(\\theta \\right)} & 0 & - \\sin{\\left(\\phi \\right)} \\cos{\\left(\\theta \\right)} - \\sin{\\left(\\theta \\right)} \\cos{\\left(\\phi \\right)}\\\\0 & 1 & 0\\\\\\sin{\\left(\\phi \\right)} \\cos{\\left(\\theta \\right)} + \\sin{\\left(\\theta \\right)} \\cos{\\left(\\phi \\right)} & 0 & - \\sin{\\left(\\phi \\right)} \\sin{\\left(\\theta \\right)} + \\cos{\\left(\\phi \\right)} \\cos{\\left(\\theta \\right)}\\end{matrix}\\right], \\  \\left[\\begin{matrix}0\\\\\\dot{\\phi} + \\dot{\\theta}\\\\0\\end{matrix}\\right], \\  \\left[\\begin{matrix}0\\\\\\ddot{\\phi} + \\ddot{\\theta}\\\\0\\end{matrix}\\right]\\right)$"
      ],
      "text/plain": [
       "⎛⎡-sin(φ)⋅sin(θ) + cos(φ)⋅cos(θ)  0  -sin(φ)⋅cos(θ) - sin(θ)⋅cos(φ)⎤  ⎡  0  ⎤ \n",
       "⎜⎢                                                                 ⎥  ⎢     ⎥ \n",
       "⎜⎢              0                 1                0               ⎥, ⎢φ̇ + θ̇\n",
       "⎜⎢                                                                 ⎥  ⎢     ⎥ \n",
       "⎝⎣sin(φ)⋅cos(θ) + sin(θ)⋅cos(φ)   0  -sin(φ)⋅sin(θ) + cos(φ)⋅cos(θ)⎦  ⎣  0  ⎦ \n",
       "\n",
       " ⎡  0  ⎤⎞\n",
       " ⎢     ⎥⎟\n",
       "⎥, ⎢φ̈ + θ̈⎥⎟\n",
       " ⎢     ⎥⎟\n",
       " ⎣  0  ⎦⎠"
      ]
     },
     "execution_count": 12,
     "metadata": {},
     "output_type": "execute_result"
    }
   ],
   "source": [
    "# Confirmation of dcm, angular velocity and acceleration\n",
    "W.dcm(N), W.ang_vel_in(N).express(N).args[0][0], W.ang_acc_in(N).express(N).args[0][0]"
   ]
  },
  {
   "cell_type": "code",
   "execution_count": 13,
   "metadata": {},
   "outputs": [
    {
     "data": {
      "text/latex": [
       "$\\displaystyle \\dot{x}\\mathbf{\\hat{s}_x} -  r \\left(\\dot{\\phi} + \\dot{\\theta}\\right)\\mathbf{\\hat{n}_x}$"
      ],
      "text/plain": [
       "ẋ s_x + -r⋅(φ̇ + θ̇) n_x"
      ]
     },
     "execution_count": 13,
     "metadata": {},
     "output_type": "execute_result"
    }
   ],
   "source": [
    "# point where the wheels contact the ground\n",
    "Wn = Wo.locatenew('Wn', -r*N.z)\n",
    "Wn.v2pt_theory(Wo, N, W)"
   ]
  },
  {
   "cell_type": "code",
   "execution_count": 14,
   "metadata": {},
   "outputs": [
    {
     "data": {
      "text/latex": [
       "$\\displaystyle \\left[\\begin{matrix}- r \\left(\\dot{\\phi} + \\dot{\\theta}\\right) + \\cos{\\left(\\alpha \\right)} \\dot{x}\\\\0\\\\\\sin{\\left(\\alpha \\right)} \\dot{x}\\end{matrix}\\right]$"
      ],
      "text/plain": [
       "⎡-r⋅(φ̇ + θ̇) + cos(α)⋅ẋ⎤\n",
       "⎢                     ⎥\n",
       "⎢          0          ⎥\n",
       "⎢                     ⎥\n",
       "⎣      sin(α)⋅ẋ       ⎦"
      ]
     },
     "execution_count": 14,
     "metadata": {},
     "output_type": "execute_result"
    }
   ],
   "source": [
    "# Rolling constraint\n",
    "# Express the velocity of points in the inertial frame\n",
    "constraints = Wn.vel(N).express(N).args[0][0]\n",
    "simplify(constraints)"
   ]
  },
  {
   "cell_type": "code",
   "execution_count": 15,
   "metadata": {},
   "outputs": [
    {
     "data": {
      "text/latex": [
       "$\\displaystyle \\left( \\left[\\begin{matrix}- \\dot{\\theta} + \\frac{\\cos{\\left(\\alpha \\right)} \\dot{x}}{r}\\end{matrix}\\right], \\  \\left[\\begin{matrix}\\dot{\\phi}\\end{matrix}\\right], \\  \\left\\{ \\dot{\\phi} : - \\dot{\\theta} + \\frac{\\cos{\\left(\\alpha \\right)} \\dot{x}}{r}\\right\\}\\right)$"
      ],
      "text/plain": [
       "⎛⎡     cos(α)⋅ẋ⎤       ⎧        cos(α)⋅ẋ⎫⎞\n",
       "⎜⎢-θ̇ + ────────⎥, [φ̇], ⎨φ̇: -θ̇ + ────────⎬⎟\n",
       "⎝⎣        r    ⎦       ⎩           r    ⎭⎠"
      ]
     },
     "execution_count": 15,
     "metadata": {},
     "output_type": "execute_result"
    }
   ],
   "source": [
    "con = solve(constraints, [phi.diff()])\n",
    "con_rhs = Matrix(list(con.values()))\n",
    "con_lhs = Matrix(list(con.keys()))\n",
    "\n",
    "con_rhs, con_lhs, con"
   ]
  },
  {
   "cell_type": "code",
   "execution_count": 16,
   "metadata": {},
   "outputs": [],
   "source": [
    "# Generalized coordinates\n",
    "q = Matrix([[x], [x_l], [theta]])\n",
    "#q = Matrix([[x], [theta]])\n",
    "qd = q.diff()\n",
    "qdd = qd.diff()"
   ]
  },
  {
   "cell_type": "code",
   "execution_count": 17,
   "metadata": {},
   "outputs": [],
   "source": [
    "# Define forces on system (point, vector) tuple:\n",
    "flist = [(Wo, -m_w*g*N.z), \n",
    "         (Po, -m_c*g*N.z), \n",
    "         (To, -m_t*g*N.z), \n",
    "         (Do, -m_d*g*N.z), \n",
    "         (Wo, F*N.x), \n",
    "         (To, F_l*T.x),\n",
    "         (P, -F_l*h_t*P.y)] "
   ]
  },
  {
   "cell_type": "code",
   "execution_count": 18,
   "metadata": {},
   "outputs": [
    {
     "data": {
      "text/latex": [
       "$\\displaystyle \\left[\\begin{matrix}\\frac{I_{w} \\cos^{2}{\\left(\\alpha \\right)} \\ddot{x}}{r^{2}} + g m_{c} \\sin{\\left(\\alpha \\right)} + g m_{d} \\sin{\\left(\\alpha \\right)} + g m_{t} \\sin{\\left(\\alpha \\right)} + g m_{w} \\sin{\\left(\\alpha \\right)} - h_{c} m_{c} \\sin{\\left(\\alpha + \\theta \\right)} \\dot{\\theta}^{2} + h_{c} m_{c} \\cos{\\left(\\alpha + \\theta \\right)} \\ddot{\\theta} - h_{d} m_{d} \\sin{\\left(\\alpha + \\theta \\right)} \\dot{\\theta}^{2} + h_{d} m_{d} \\cos{\\left(\\alpha + \\theta \\right)} \\ddot{\\theta} - h_{t} m_{t} \\sin{\\left(\\alpha + \\theta \\right)} \\dot{\\theta}^{2} + h_{t} m_{t} \\cos{\\left(\\alpha + \\theta \\right)} \\ddot{\\theta} - l_{d} m_{d} \\sin{\\left(\\alpha + \\theta \\right)} \\ddot{\\theta} - l_{d} m_{d} \\cos{\\left(\\alpha + \\theta \\right)} \\dot{\\theta}^{2} + m_{c} \\ddot{x} + m_{d} \\ddot{x} - m_{t} x_{l} \\sin{\\left(\\alpha + \\theta \\right)} \\ddot{\\theta} - m_{t} x_{l} \\cos{\\left(\\alpha + \\theta \\right)} \\dot{\\theta}^{2} - 2 m_{t} \\sin{\\left(\\alpha + \\theta \\right)} \\dot{\\theta} \\dot{x}_{l} + m_{t} \\cos{\\left(\\alpha + \\theta \\right)} \\ddot{x}_{l} + m_{t} \\ddot{x} + m_{w} \\ddot{x} - F \\cos{\\left(\\alpha \\right)} - F_{l} \\cos{\\left(\\alpha + \\theta \\right)}\\\\- g m_{t} \\sin{\\left(\\theta \\right)} + h_{t} m_{t} \\ddot{\\theta} - m_{t} x_{l} \\dot{\\theta}^{2} + m_{t} \\cos{\\left(\\alpha + \\theta \\right)} \\ddot{x} + m_{t} \\ddot{x}_{l} - F_{l}\\\\I_{c} \\ddot{\\theta} + I_{t} \\ddot{\\theta} - g h_{c} m_{c} \\sin{\\left(\\theta \\right)} - g h_{d} m_{d} \\sin{\\left(\\theta \\right)} - g h_{t} m_{t} \\sin{\\left(\\theta \\right)} - g l_{d} m_{d} \\cos{\\left(\\theta \\right)} - g m_{t} x_{l} \\cos{\\left(\\theta \\right)} + h_{c}^{2} m_{c} \\ddot{\\theta} + h_{c} m_{c} \\cos{\\left(\\alpha + \\theta \\right)} \\ddot{x} + h_{d}^{2} m_{d} \\ddot{\\theta} + h_{d} m_{d} \\cos{\\left(\\alpha + \\theta \\right)} \\ddot{x} + h_{t}^{2} m_{t} \\ddot{\\theta} + h_{t} m_{t} \\cos{\\left(\\alpha + \\theta \\right)} \\ddot{x} + h_{t} m_{t} \\ddot{x}_{l} + l_{d}^{2} m_{d} \\ddot{\\theta} - l_{d} m_{d} \\sin{\\left(\\alpha + \\theta \\right)} \\ddot{x} + m_{t} x_{l}^{2} \\ddot{\\theta} - m_{t} x_{l} \\sin{\\left(\\alpha + \\theta \\right)} \\ddot{x} + 2 m_{t} x_{l} \\dot{\\theta} \\dot{x}_{l}\\end{matrix}\\right]$"
      ],
      "text/plain": [
       "⎡       2                                                                     \n",
       "⎢I_w⋅cos (α)⋅ẍ                                                               \n",
       "⎢───────────── + g⋅m_c⋅sin(α) + g⋅m_d⋅sin(α) + g⋅mₜ⋅sin(α) + g⋅m_w⋅sin(α) - h_\n",
       "⎢       2                                                                     \n",
       "⎢      r                                                                      \n",
       "⎢                                                                             \n",
       "⎢                                                                             \n",
       "⎢                                                                             \n",
       "⎢                                                                             \n",
       "⎢                                                                             \n",
       "⎣                                                 I_c⋅θ̈ + Iₜ⋅θ̈ - g⋅h_c⋅m_c⋅s\n",
       "\n",
       "                                                                              \n",
       "                   2                                              2           \n",
       "c⋅m_c⋅sin(α + θ)⋅θ̇  + h_c⋅m_c⋅cos(α + θ)⋅θ̈ - h_d⋅m_d⋅sin(α + θ)⋅θ̇  + h_d⋅m_\n",
       "                                                                              \n",
       "                                                                              \n",
       "                                                                              \n",
       "                                                                              \n",
       "                                                                              \n",
       "                                                                              \n",
       "                                                                              \n",
       "in(θ) - g⋅h_d⋅m_d⋅sin(θ) - g⋅hₜ⋅mₜ⋅sin(θ) - g⋅l_d⋅m_d⋅cos(θ) - g⋅mₜ⋅xₗ⋅cos(θ) \n",
       "\n",
       "                                                                              \n",
       "                                 2                                            \n",
       "d⋅cos(α + θ)⋅θ̈ - hₜ⋅mₜ⋅sin(α + θ)⋅θ̇  + hₜ⋅mₜ⋅cos(α + θ)⋅θ̈ - l_d⋅m_d⋅sin(α +\n",
       "                                                                              \n",
       "                                                                              \n",
       "                                                                              \n",
       "                                            2                                 \n",
       "            -g⋅mₜ⋅sin(θ) + hₜ⋅mₜ⋅θ̈ - mₜ⋅xₗ⋅θ̇  + mₜ⋅cos(α + θ)⋅ẍ + mₜ⋅xₗ̈ - \n",
       "                                                                              \n",
       "   2                                   2                                  2   \n",
       "+ h_c ⋅m_c⋅θ̈ + h_c⋅m_c⋅cos(α + θ)⋅ẍ + h_d ⋅m_d⋅θ̈ + h_d⋅m_d⋅cos(α + θ)⋅ẍ + \n",
       "\n",
       "                                                                              \n",
       "                       2                                                      \n",
       " θ)⋅θ̈ - l_d⋅m_d⋅cos(α + θ)⋅θ̇  + m_c⋅ẍ + m_d⋅ẍ - mₜ⋅xₗ⋅sin(α + θ)⋅θ̈ - mₜ⋅x\n",
       "                                                                              \n",
       "                                                                              \n",
       "                                                                              \n",
       "                                                                              \n",
       "Fₗ                                                                            \n",
       "                                                                              \n",
       "                                        2                                     \n",
       "hₜ ⋅mₜ⋅θ̈ + hₜ⋅mₜ⋅cos(α + θ)⋅ẍ + hₜ⋅mₜ⋅xₗ̈ + l_d ⋅m_d⋅θ̈ - l_d⋅m_d⋅sin(α + θ)\n",
       "\n",
       "                                                                              \n",
       "    2                                                                         \n",
       "ₗ⋅cos(α + θ)⋅θ̇  - 2⋅mₜ⋅sin(α + θ)⋅θ̇⋅xₗ̇ + mₜ⋅cos(α + θ)⋅xₗ̈ + mₜ⋅ẍ + m_w⋅ẍ\n",
       "                                                                              \n",
       "                                                                              \n",
       "                                                                              \n",
       "                                                                              \n",
       "                                                                              \n",
       "                                                                              \n",
       "2                                                                             \n",
       "⋅ẍ + mₜ⋅xₗ ⋅θ̈ - mₜ⋅xₗ⋅sin(α + θ)⋅ẍ + 2⋅mₜ⋅xₗ⋅θ̇⋅xₗ̇                        \n",
       "\n",
       "          ⎤\n",
       "           ⎥\n",
       " - F⋅cos(α) - Fₗ⋅cos(α + θ)⎥\n",
       "          ⎥\n",
       "          ⎥\n",
       "          ⎥\n",
       "          ⎥\n",
       "              ⎥\n",
       "          ⎥\n",
       "          ⎥\n",
       "                         ⎦"
      ]
     },
     "execution_count": 18,
     "metadata": {},
     "output_type": "execute_result"
    }
   ],
   "source": [
    "# Lagranges Method\n",
    "Lag = Lagrangian(N, Pend, Torso, Dummy, Wheel)\n",
    "nonslip_condition = {con_lhs[0]:con_rhs[0]}\n",
    "Lag_constrainted = msubs(Lag, nonslip_condition)\n",
    "Le = LagrangesMethod(Lag_constrainted, q, forcelist=flist, frame=N)\n",
    "eoms = Le.form_lagranges_equations()\n",
    "eoms_simple = simplify(eoms)\n",
    "eoms_simple "
   ]
  },
  {
   "cell_type": "code",
   "execution_count": 19,
   "metadata": {},
   "outputs": [
    {
     "data": {
      "text/latex": [
       "$\\displaystyle \\left[\\begin{matrix}g m_{c} \\sin{\\left(\\alpha \\right)} + g m_{d} \\sin{\\left(\\alpha \\right)} + g m_{t} \\sin{\\left(\\alpha \\right)} + g m_{w} \\sin{\\left(\\alpha \\right)} + m_{t} \\left(- \\sin{\\left(\\alpha \\right)} \\sin{\\left(\\theta \\right)} + \\cos{\\left(\\alpha \\right)} \\cos{\\left(\\theta \\right)}\\right) \\ddot{x}_{l} - 2 m_{t} \\left(\\sin{\\left(\\alpha \\right)} \\cos{\\left(\\theta \\right)} + \\sin{\\left(\\theta \\right)} \\cos{\\left(\\alpha \\right)}\\right) \\dot{\\theta} \\dot{x}_{l} + \\left(- h_{c} m_{c} \\sin{\\left(\\alpha \\right)} \\sin{\\left(\\theta \\right)} + h_{c} m_{c} \\cos{\\left(\\alpha \\right)} \\cos{\\left(\\theta \\right)} - h_{d} m_{d} \\sin{\\left(\\alpha \\right)} \\sin{\\left(\\theta \\right)} + h_{d} m_{d} \\cos{\\left(\\alpha \\right)} \\cos{\\left(\\theta \\right)} - h_{t} m_{t} \\sin{\\left(\\alpha \\right)} \\sin{\\left(\\theta \\right)} + h_{t} m_{t} \\cos{\\left(\\alpha \\right)} \\cos{\\left(\\theta \\right)} - l_{d} m_{d} \\sin{\\left(\\alpha \\right)} \\cos{\\left(\\theta \\right)} - l_{d} m_{d} \\sin{\\left(\\theta \\right)} \\cos{\\left(\\alpha \\right)} - m_{t} x_{l} \\sin{\\left(\\alpha \\right)} \\cos{\\left(\\theta \\right)} - m_{t} x_{l} \\sin{\\left(\\theta \\right)} \\cos{\\left(\\alpha \\right)}\\right) \\ddot{\\theta} + \\left(- h_{c} m_{c} \\sin{\\left(\\alpha \\right)} \\cos{\\left(\\theta \\right)} - h_{c} m_{c} \\sin{\\left(\\theta \\right)} \\cos{\\left(\\alpha \\right)} - h_{d} m_{d} \\sin{\\left(\\alpha \\right)} \\cos{\\left(\\theta \\right)} - h_{d} m_{d} \\sin{\\left(\\theta \\right)} \\cos{\\left(\\alpha \\right)} - h_{t} m_{t} \\sin{\\left(\\alpha \\right)} \\cos{\\left(\\theta \\right)} - h_{t} m_{t} \\sin{\\left(\\theta \\right)} \\cos{\\left(\\alpha \\right)} + l_{d} m_{d} \\sin{\\left(\\alpha \\right)} \\sin{\\left(\\theta \\right)} - l_{d} m_{d} \\cos{\\left(\\alpha \\right)} \\cos{\\left(\\theta \\right)} + m_{t} x_{l} \\sin{\\left(\\alpha \\right)} \\sin{\\left(\\theta \\right)} - m_{t} x_{l} \\cos{\\left(\\alpha \\right)} \\cos{\\left(\\theta \\right)}\\right) \\dot{\\theta}^{2} - F \\cos{\\left(\\alpha \\right)} + F_{l} \\sin{\\left(\\alpha \\right)} \\sin{\\left(\\theta \\right)} - F_{l} \\cos{\\left(\\alpha \\right)} \\cos{\\left(\\theta \\right)} + \\frac{\\left(I_{w} \\cos^{2}{\\left(\\alpha \\right)} + m_{c} r^{2} + m_{d} r^{2} + m_{t} r^{2} + m_{w} r^{2}\\right) \\ddot{x}}{r^{2}}\\\\- g m_{t} \\sin{\\left(\\theta \\right)} + h_{t} m_{t} \\ddot{\\theta} + m_{t} \\left(- \\sin{\\left(\\alpha \\right)} \\sin{\\left(\\theta \\right)} + \\cos{\\left(\\alpha \\right)} \\cos{\\left(\\theta \\right)}\\right) \\ddot{x} - m_{t} x_{l} \\dot{\\theta}^{2} + m_{t} \\ddot{x}_{l} - F_{l}\\\\- g \\left(h_{c} m_{c} \\sin{\\left(\\theta \\right)} + h_{d} m_{d} \\sin{\\left(\\theta \\right)} + h_{t} m_{t} \\sin{\\left(\\theta \\right)} + l_{d} m_{d} \\cos{\\left(\\theta \\right)} + m_{t} x_{l} \\cos{\\left(\\theta \\right)}\\right) + h_{t} m_{t} \\ddot{x}_{l} + 2 m_{t} x_{l} \\dot{\\theta} \\dot{x}_{l} + \\left(I_{c} + I_{t} + h_{c}^{2} m_{c} + h_{d}^{2} m_{d} + h_{t}^{2} m_{t} + l_{d}^{2} m_{d} + m_{t} x_{l}^{2}\\right) \\ddot{\\theta} + \\left(- h_{c} m_{c} \\sin{\\left(\\alpha \\right)} \\sin{\\left(\\theta \\right)} + h_{c} m_{c} \\cos{\\left(\\alpha \\right)} \\cos{\\left(\\theta \\right)} - h_{d} m_{d} \\sin{\\left(\\alpha \\right)} \\sin{\\left(\\theta \\right)} + h_{d} m_{d} \\cos{\\left(\\alpha \\right)} \\cos{\\left(\\theta \\right)} - h_{t} m_{t} \\sin{\\left(\\alpha \\right)} \\sin{\\left(\\theta \\right)} + h_{t} m_{t} \\cos{\\left(\\alpha \\right)} \\cos{\\left(\\theta \\right)} - l_{d} m_{d} \\sin{\\left(\\alpha \\right)} \\cos{\\left(\\theta \\right)} - l_{d} m_{d} \\sin{\\left(\\theta \\right)} \\cos{\\left(\\alpha \\right)} - m_{t} x_{l} \\sin{\\left(\\alpha \\right)} \\cos{\\left(\\theta \\right)} - m_{t} x_{l} \\sin{\\left(\\theta \\right)} \\cos{\\left(\\alpha \\right)}\\right) \\ddot{x}\\end{matrix}\\right]$"
      ],
      "text/plain": [
       "⎡                                                                             \n",
       "⎢                                                                             \n",
       "⎢g⋅m_c⋅sin(α) + g⋅m_d⋅sin(α) + g⋅mₜ⋅sin(α) + g⋅m_w⋅sin(α) + mₜ⋅(-sin(α)⋅sin(θ)\n",
       "⎢                                                                             \n",
       "⎢                                                                             \n",
       "⎢                                                                             \n",
       "⎢                                                                             \n",
       "⎢                                                                             \n",
       "⎢                                                                             \n",
       "⎢                                                                             \n",
       "⎣                                                                             \n",
       "\n",
       "                                                                              \n",
       "                                                                              \n",
       " + cos(α)⋅cos(θ))⋅xₗ̈ - 2⋅mₜ⋅(sin(α)⋅cos(θ) + sin(θ)⋅cos(α))⋅θ̇⋅xₗ̇ + (-h_c⋅m_\n",
       "                                                                              \n",
       "                                                                              \n",
       "                                                                              \n",
       "                                                                              \n",
       "                                                                              \n",
       "                                                                              \n",
       "                                                                              \n",
       "                                                                            -g\n",
       "\n",
       "                                                                              \n",
       "                                                                              \n",
       "c⋅sin(α)⋅sin(θ) + h_c⋅m_c⋅cos(α)⋅cos(θ) - h_d⋅m_d⋅sin(α)⋅sin(θ) + h_d⋅m_d⋅cos(\n",
       "                                                                              \n",
       "                                                                              \n",
       "                                                                              \n",
       "                                                                              \n",
       "                                                                              \n",
       "                                                                              \n",
       "                                                                              \n",
       "⋅(h_c⋅m_c⋅sin(θ) + h_d⋅m_d⋅sin(θ) + hₜ⋅mₜ⋅sin(θ) + l_d⋅m_d⋅cos(θ) + mₜ⋅xₗ⋅cos(\n",
       "\n",
       "                                                                              \n",
       "                                                                              \n",
       "α)⋅cos(θ) - hₜ⋅mₜ⋅sin(α)⋅sin(θ) + hₜ⋅mₜ⋅cos(α)⋅cos(θ) - l_d⋅m_d⋅sin(α)⋅cos(θ) \n",
       "                                                                              \n",
       "                                                                              \n",
       "                                                                              \n",
       "                                                                              \n",
       "                                                                              \n",
       "                                                                              \n",
       "                                ⎛              2          2         2         \n",
       "θ)) + hₜ⋅mₜ⋅xₗ̈ + 2⋅mₜ⋅xₗ⋅θ̇⋅xₗ̇ + ⎝I_c + Iₜ + h_c ⋅m_c + h_d ⋅m_d + hₜ ⋅mₜ + \n",
       "\n",
       "                                                                              \n",
       "                                                                              \n",
       "- l_d⋅m_d⋅sin(θ)⋅cos(α) - mₜ⋅xₗ⋅sin(α)⋅cos(θ) - mₜ⋅xₗ⋅sin(θ)⋅cos(α))⋅θ̈ + (-h_\n",
       "                                                                              \n",
       "                                                                              \n",
       "                                                                              \n",
       "                                                                             2\n",
       "     -g⋅mₜ⋅sin(θ) + hₜ⋅mₜ⋅θ̈ + mₜ⋅(-sin(α)⋅sin(θ) + cos(α)⋅cos(θ))⋅ẍ - mₜ⋅xₗ⋅\n",
       "                                                                              \n",
       "2            2⎞                                                               \n",
       "l_d ⋅m_d + mₜ⋅xₗ ⎠⋅θ̈ + (-h_c⋅m_c⋅sin(α)⋅sin(θ) + h_c⋅m_c⋅cos(α)⋅cos(θ) - h_d⋅\n",
       "\n",
       "                                                                              \n",
       "                                                                              \n",
       "c⋅m_c⋅sin(α)⋅cos(θ) - h_c⋅m_c⋅sin(θ)⋅cos(α) - h_d⋅m_d⋅sin(α)⋅cos(θ) - h_d⋅m_d⋅\n",
       "                                                                              \n",
       "                                                                              \n",
       "                                                                              \n",
       "                                                                              \n",
       "θ̇  + mₜ⋅xₗ̈ - Fₗ                                                             \n",
       "                                                                              \n",
       "                                                                              \n",
       "m_d⋅sin(α)⋅sin(θ) + h_d⋅m_d⋅cos(α)⋅cos(θ) - hₜ⋅mₜ⋅sin(α)⋅sin(θ) + hₜ⋅mₜ⋅cos(α)\n",
       "\n",
       "                                                                              \n",
       "                                                                              \n",
       "sin(θ)⋅cos(α) - hₜ⋅mₜ⋅sin(α)⋅cos(θ) - hₜ⋅mₜ⋅sin(θ)⋅cos(α) + l_d⋅m_d⋅sin(α)⋅sin\n",
       "                                                                              \n",
       "                                                                              \n",
       "                                                                              \n",
       "                                                                              \n",
       "                                                                              \n",
       "                                                                              \n",
       "                                                                              \n",
       "⋅cos(θ) - l_d⋅m_d⋅sin(α)⋅cos(θ) - l_d⋅m_d⋅sin(θ)⋅cos(α) - mₜ⋅xₗ⋅sin(α)⋅cos(θ) \n",
       "\n",
       "                                                                              \n",
       "                                                                      2       \n",
       "(θ) - l_d⋅m_d⋅cos(α)⋅cos(θ) + mₜ⋅xₗ⋅sin(α)⋅sin(θ) - mₜ⋅xₗ⋅cos(α)⋅cos(θ))⋅θ̇  -\n",
       "                                                                              \n",
       "                                                                              \n",
       "                                                                              \n",
       "                                                                              \n",
       "                                                                              \n",
       "                                                                              \n",
       "                                                                              \n",
       "- mₜ⋅xₗ⋅sin(θ)⋅cos(α))⋅ẍ                                                     \n",
       "\n",
       "                                             ⎛       2           2        2   \n",
       "                                             ⎝I_w⋅cos (α) + m_c⋅r  + m_d⋅r  + \n",
       " F⋅cos(α) + Fₗ⋅sin(α)⋅sin(θ) - Fₗ⋅cos(α)⋅cos(θ) + ────────────────────────────\n",
       "                                                                      2       \n",
       "                                                                     r        \n",
       "                                                                              \n",
       "                                                                              \n",
       "                                                                              \n",
       "                                                                              \n",
       "                                                                              \n",
       "                                                                              \n",
       "\n",
       "    2        2⎞  ⎤\n",
       "mₜ⋅r  + m_w⋅r ⎠⋅ẍ⎥\n",
       "──────────────────────⎥\n",
       "                 ⎥\n",
       "                 ⎥\n",
       "                 ⎥\n",
       "                 ⎥\n",
       "                     ⎥\n",
       "                 ⎥\n",
       "                 ⎥\n",
       "                      ⎦"
      ]
     },
     "execution_count": 19,
     "metadata": {},
     "output_type": "execute_result"
    }
   ],
   "source": [
    "inv_dyn = get_Simplified_EoM(eoms_simple, q)\n",
    "inv_dyn"
   ]
  },
  {
   "cell_type": "code",
   "execution_count": 20,
   "metadata": {},
   "outputs": [],
   "source": [
    "# inv_dyn_single = inv_dyn.subs({x_l:0, F_l:0})\n",
    "# inv_dyn_single"
   ]
  },
  {
   "cell_type": "code",
   "execution_count": 21,
   "metadata": {},
   "outputs": [
    {
     "data": {
      "text/latex": [
       "$\\displaystyle \\left[\\begin{matrix}g m_{c} \\sin{\\left(\\theta \\right)} + g m_{d} \\sin{\\left(\\theta \\right)} + g m_{t} \\sin{\\left(\\theta \\right)} + g m_{w} \\sin{\\left(\\theta \\right)} + m_{t} \\left(- \\sin^{2}{\\left(\\theta \\right)} + \\cos^{2}{\\left(\\theta \\right)}\\right) \\ddot{x}_{l} - 4 m_{t} \\sin{\\left(\\theta \\right)} \\cos{\\left(\\theta \\right)} \\dot{\\theta} \\dot{x}_{l} + \\left(- 2 h_{c} m_{c} \\sin{\\left(\\theta \\right)} \\cos{\\left(\\theta \\right)} - 2 h_{d} m_{d} \\sin{\\left(\\theta \\right)} \\cos{\\left(\\theta \\right)} - 2 h_{t} m_{t} \\sin{\\left(\\theta \\right)} \\cos{\\left(\\theta \\right)} + l_{d} m_{d} \\sin^{2}{\\left(\\theta \\right)} - l_{d} m_{d} \\cos^{2}{\\left(\\theta \\right)} + m_{t} x_{l} \\sin^{2}{\\left(\\theta \\right)} - m_{t} x_{l} \\cos^{2}{\\left(\\theta \\right)}\\right) \\dot{\\theta}^{2} + \\left(- h_{c} m_{c} \\sin^{2}{\\left(\\theta \\right)} + h_{c} m_{c} \\cos^{2}{\\left(\\theta \\right)} - h_{d} m_{d} \\sin^{2}{\\left(\\theta \\right)} + h_{d} m_{d} \\cos^{2}{\\left(\\theta \\right)} - h_{t} m_{t} \\sin^{2}{\\left(\\theta \\right)} + h_{t} m_{t} \\cos^{2}{\\left(\\theta \\right)} - 2 l_{d} m_{d} \\sin{\\left(\\theta \\right)} \\cos{\\left(\\theta \\right)} - 2 m_{t} x_{l} \\sin{\\left(\\theta \\right)} \\cos{\\left(\\theta \\right)}\\right) \\ddot{\\theta} - F \\cos{\\left(\\theta \\right)} + F_{l} \\sin^{2}{\\left(\\theta \\right)} - F_{l} \\cos^{2}{\\left(\\theta \\right)} + \\frac{\\left(I_{w} \\cos^{2}{\\left(\\theta \\right)} + m_{c} r^{2} + m_{d} r^{2} + m_{t} r^{2} + m_{w} r^{2}\\right) \\ddot{x}}{r^{2}}\\\\- g m_{t} \\sin{\\left(\\theta \\right)} + h_{t} m_{t} \\ddot{\\theta} + m_{t} \\left(- \\sin^{2}{\\left(\\theta \\right)} + \\cos^{2}{\\left(\\theta \\right)}\\right) \\ddot{x} - m_{t} x_{l} \\dot{\\theta}^{2} + m_{t} \\ddot{x}_{l} - F_{l}\\\\- g \\left(h_{c} m_{c} \\sin{\\left(\\theta \\right)} + h_{d} m_{d} \\sin{\\left(\\theta \\right)} + h_{t} m_{t} \\sin{\\left(\\theta \\right)} + l_{d} m_{d} \\cos{\\left(\\theta \\right)} + m_{t} x_{l} \\cos{\\left(\\theta \\right)}\\right) + h_{t} m_{t} \\ddot{x}_{l} + 2 m_{t} x_{l} \\dot{\\theta} \\dot{x}_{l} + \\left(I_{c} + I_{t} + h_{c}^{2} m_{c} + h_{d}^{2} m_{d} + h_{t}^{2} m_{t} + l_{d}^{2} m_{d} + m_{t} x_{l}^{2}\\right) \\ddot{\\theta} + \\left(- h_{c} m_{c} \\sin^{2}{\\left(\\theta \\right)} + h_{c} m_{c} \\cos^{2}{\\left(\\theta \\right)} - h_{d} m_{d} \\sin^{2}{\\left(\\theta \\right)} + h_{d} m_{d} \\cos^{2}{\\left(\\theta \\right)} - h_{t} m_{t} \\sin^{2}{\\left(\\theta \\right)} + h_{t} m_{t} \\cos^{2}{\\left(\\theta \\right)} - 2 l_{d} m_{d} \\sin{\\left(\\theta \\right)} \\cos{\\left(\\theta \\right)} - 2 m_{t} x_{l} \\sin{\\left(\\theta \\right)} \\cos{\\left(\\theta \\right)}\\right) \\ddot{x}\\end{matrix}\\right]$"
      ],
      "text/plain": [
       "⎡                                                                             \n",
       "⎢                                                              ⎛     2        \n",
       "⎢g⋅m_c⋅sin(θ) + g⋅m_d⋅sin(θ) + g⋅mₜ⋅sin(θ) + g⋅m_w⋅sin(θ) + mₜ⋅⎝- sin (θ) + co\n",
       "⎢                                                                             \n",
       "⎢                                                                             \n",
       "⎢                                                                             \n",
       "⎢                                                                             \n",
       "⎢                                                                             \n",
       "⎢                                                                             \n",
       "⎢                                                                             \n",
       "⎣                                                                             \n",
       "\n",
       "                                                                              \n",
       " 2   ⎞                                ⎛                                       \n",
       "s (θ)⎠⋅xₗ̈ - 4⋅mₜ⋅sin(θ)⋅cos(θ)⋅θ̇⋅xₗ̇ + ⎝-2⋅h_c⋅m_c⋅sin(θ)⋅cos(θ) - 2⋅h_d⋅m_d\n",
       "                                                                              \n",
       "                                                                              \n",
       "                                                                              \n",
       "                                                                              \n",
       "                                                                              \n",
       "                                                                              \n",
       "                                                                              \n",
       "           -g⋅(h_c⋅m_c⋅sin(θ) + h_d⋅m_d⋅sin(θ) + hₜ⋅mₜ⋅sin(θ) + l_d⋅m_d⋅cos(θ)\n",
       "\n",
       "                                                                              \n",
       "                                                 2                 2          \n",
       "⋅sin(θ)⋅cos(θ) - 2⋅hₜ⋅mₜ⋅sin(θ)⋅cos(θ) + l_d⋅m_d⋅sin (θ) - l_d⋅m_d⋅cos (θ) + m\n",
       "                                                                              \n",
       "                                                                              \n",
       "                                                                              \n",
       "                                                                              \n",
       "                                                               -g⋅mₜ⋅sin(θ) + \n",
       "                                                                              \n",
       "                                             ⎛              2          2      \n",
       " + mₜ⋅xₗ⋅cos(θ)) + hₜ⋅mₜ⋅xₗ̈ + 2⋅mₜ⋅xₗ⋅θ̇⋅xₗ̇ + ⎝I_c + Iₜ + h_c ⋅m_c + h_d ⋅m_\n",
       "\n",
       "                                                                              \n",
       "     2               2   ⎞  2   ⎛             2                 2             \n",
       "ₜ⋅xₗ⋅sin (θ) - mₜ⋅xₗ⋅cos (θ)⎠⋅θ̇  + ⎝- h_c⋅m_c⋅sin (θ) + h_c⋅m_c⋅cos (θ) - h_d\n",
       "                                                                              \n",
       "                                                                              \n",
       "                                                                              \n",
       "             ⎛     2         2   ⎞            2                               \n",
       "hₜ⋅mₜ⋅θ̈ + mₜ⋅⎝- sin (θ) + cos (θ)⎠⋅ẍ - mₜ⋅xₗ⋅θ̇  + mₜ⋅xₗ̈ - Fₗ              \n",
       "                                                                              \n",
       "   2         2            2⎞     ⎛             2                 2            \n",
       "d + hₜ ⋅mₜ + l_d ⋅m_d + mₜ⋅xₗ ⎠⋅θ̈ + ⎝- h_c⋅m_c⋅sin (θ) + h_c⋅m_c⋅cos (θ) - h_\n",
       "\n",
       "                                                                              \n",
       "    2                 2               2               2                       \n",
       "⋅m_d⋅sin (θ) + h_d⋅m_d⋅cos (θ) - hₜ⋅mₜ⋅sin (θ) + hₜ⋅mₜ⋅cos (θ) - 2⋅l_d⋅m_d⋅sin\n",
       "                                                                              \n",
       "                                                                              \n",
       "                                                                              \n",
       "                                                                              \n",
       "                                                                              \n",
       "                                                                              \n",
       "     2                 2               2               2                      \n",
       "d⋅m_d⋅sin (θ) + h_d⋅m_d⋅cos (θ) - hₜ⋅mₜ⋅sin (θ) + hₜ⋅mₜ⋅cos (θ) - 2⋅l_d⋅m_d⋅si\n",
       "\n",
       "                                                                         ⎛    \n",
       "                              ⎞                      2            2      ⎝I_w⋅\n",
       "(θ)⋅cos(θ) - 2⋅mₜ⋅xₗ⋅sin(θ)⋅cos(θ)⎠⋅θ̈ - F⋅cos(θ) + Fₗ⋅sin (θ) - Fₗ⋅cos (θ) + \n",
       "                                                                              \n",
       "                                                                              \n",
       "                                                                              \n",
       "                                                                              \n",
       "                                                                              \n",
       "                                                                              \n",
       "                               ⎞                                              \n",
       "n(θ)⋅cos(θ) - 2⋅mₜ⋅xₗ⋅sin(θ)⋅cos(θ)⎠⋅ẍ                                       \n",
       "\n",
       "   2           2        2       2        2⎞  ⎤\n",
       "cos (θ) + m_c⋅r  + m_d⋅r  + mₜ⋅r  + m_w⋅r ⎠⋅ẍ⎥\n",
       "──────────────────────────────────────────────────⎥\n",
       "                    2                        ⎥\n",
       "                   r                         ⎥\n",
       "                                             ⎥\n",
       "                                             ⎥\n",
       "                                                 ⎥\n",
       "                                             ⎥\n",
       "                                             ⎥\n",
       "                                                  ⎦"
      ]
     },
     "execution_count": 21,
     "metadata": {},
     "output_type": "execute_result"
    }
   ],
   "source": [
    "# linearlize_eq = {sin(theta):theta, cos(theta):1, theta.diff():0}\n",
    "linearlize_eq = {alpha:theta}\n",
    "inv_dyn0 = msubs(inv_dyn, linearlize_eq)\n",
    "# inv_dyn_linear = msubs(inv_dyn_single, linearlize_eq)\n",
    "inv_dyn0"
   ]
  },
  {
   "cell_type": "code",
   "execution_count": 22,
   "metadata": {},
   "outputs": [
    {
     "data": {
      "text/latex": [
       "$\\displaystyle \\left[\\begin{matrix}g m_{c} \\theta + g m_{t} \\theta + g m_{w} \\theta + m_{t} \\left(1 - \\theta^{2}\\right) \\ddot{x}_{l} + \\left(- h_{c} m_{c} \\theta^{2} + h_{c} m_{c} - h_{t} m_{t} \\theta^{2} + h_{t} m_{t}\\right) \\ddot{\\theta} - F + F_{l} \\theta^{2} - F_{l} + \\frac{\\left(I_{w} + m_{c} r^{2} + m_{t} r^{2} + m_{w} r^{2}\\right) \\ddot{x}}{r^{2}}\\\\- g m_{t} \\theta + h_{t} m_{t} \\ddot{\\theta} + m_{t} \\left(1 - \\theta^{2}\\right) \\ddot{x} + m_{t} \\ddot{x}_{l} - F_{l}\\\\- g \\left(h_{c} m_{c} \\theta + h_{t} m_{t} \\theta\\right) + h_{t} m_{t} \\ddot{x}_{l} + \\left(I_{c} + I_{t} + h_{c}^{2} m_{c} + h_{t}^{2} m_{t}\\right) \\ddot{\\theta} + \\left(- h_{c} m_{c} \\theta^{2} + h_{c} m_{c} - h_{t} m_{t} \\theta^{2} + h_{t} m_{t}\\right) \\ddot{x}\\end{matrix}\\right]$"
      ],
      "text/plain": [
       "⎡                                                                             \n",
       "⎢                                ⎛     2⎞      ⎛           2                  \n",
       "⎢g⋅m_c⋅θ + g⋅mₜ⋅θ + g⋅m_w⋅θ + mₜ⋅⎝1 - θ ⎠⋅xₗ̈ + ⎝- h_c⋅m_c⋅θ  + h_c⋅m_c - hₜ⋅m\n",
       "⎢                                                                             \n",
       "⎢                                                                             \n",
       "⎢                                                                             \n",
       "⎢                                                                        ⎛    \n",
       "⎢                                                 -g⋅mₜ⋅θ + hₜ⋅mₜ⋅θ̈ + mₜ⋅⎝1 -\n",
       "⎢                                                                             \n",
       "⎢                                                   ⎛              2         2\n",
       "⎣             -g⋅(h_c⋅m_c⋅θ + hₜ⋅mₜ⋅θ) + hₜ⋅mₜ⋅xₗ̈ + ⎝I_c + Iₜ + h_c ⋅m_c + hₜ\n",
       "\n",
       "                                  ⎛           2       2        2⎞  ⎤\n",
       "  2        ⎞             2        ⎝I_w + m_c⋅r  + mₜ⋅r  + m_w⋅r ⎠⋅ẍ⎥\n",
       "ₜ⋅θ  + hₜ⋅mₜ⎠⋅θ̈ - F + Fₗ⋅θ  - Fₗ + ─────────────────────────────────⎥\n",
       "                                                   2               ⎥\n",
       "                                                  r                ⎥\n",
       "                                                                   ⎥\n",
       " 2⎞                                                                ⎥\n",
       " θ ⎠⋅ẍ + mₜ⋅xₗ̈ - Fₗ                                                 ⎥\n",
       "                                                                   ⎥\n",
       "   ⎞     ⎛           2                    2        ⎞               ⎥\n",
       " ⋅mₜ⎠⋅θ̈ + ⎝- h_c⋅m_c⋅θ  + h_c⋅m_c - hₜ⋅mₜ⋅θ  + hₜ⋅mₜ⎠⋅ẍ             ⎦"
      ]
     },
     "execution_count": 22,
     "metadata": {},
     "output_type": "execute_result"
    }
   ],
   "source": [
    "linearlize_eq2 = {sin(2*theta):theta, cos(2*theta):1, sin(theta):theta, cos(theta):1, theta.diff():0, x_l.diff():0, x_l:0, m_d:0, l_d:0}\n",
    "inv_dyn_linear = msubs(inv_dyn0, linearlize_eq2)\n",
    "# inv_dyn_linear = msubs(inv_dyn_single, linearlize_eq)\n",
    "inv_dyn_linear"
   ]
  },
  {
   "cell_type": "code",
   "execution_count": 23,
   "metadata": {},
   "outputs": [
    {
     "data": {
      "text/latex": [
       "$\\displaystyle \\left( \\left[\\begin{matrix}\\frac{I_{w} \\cos^{2}{\\left(\\alpha \\right)}}{r^{2}} + m_{c} + m_{d} + m_{t} + m_{w} & m_{t} \\cos{\\left(\\alpha + \\theta \\right)} & h_{c} m_{c} \\cos{\\left(\\alpha + \\theta \\right)} + h_{d} m_{d} \\cos{\\left(\\alpha + \\theta \\right)} + h_{t} m_{t} \\cos{\\left(\\alpha + \\theta \\right)} - l_{d} m_{d} \\sin{\\left(\\alpha + \\theta \\right)} - m_{t} x_{l} \\sin{\\left(\\alpha + \\theta \\right)}\\\\m_{t} \\cos{\\left(\\alpha + \\theta \\right)} & m_{t} & h_{t} m_{t}\\\\h_{c} m_{c} \\cos{\\left(\\alpha + \\theta \\right)} + h_{d} m_{d} \\cos{\\left(\\alpha + \\theta \\right)} + h_{t} m_{t} \\cos{\\left(\\alpha + \\theta \\right)} - l_{d} m_{d} \\sin{\\left(\\alpha + \\theta \\right)} - m_{t} x_{l} \\sin{\\left(\\alpha + \\theta \\right)} & h_{t} m_{t} & I_{c} + I_{t} + h_{c}^{2} m_{c} + h_{d}^{2} m_{d} + h_{t}^{2} m_{t} + l_{d}^{2} m_{d} + m_{t} x_{l}^{2}\\end{matrix}\\right], \\  \\left[\\begin{matrix}- \\left(h_{c} m_{c} \\sin{\\left(\\alpha + \\theta \\right)} \\dot{\\theta} + h_{d} m_{d} \\sin{\\left(\\alpha + \\theta \\right)} \\dot{\\theta} + h_{t} m_{t} \\sin{\\left(\\alpha + \\theta \\right)} \\dot{\\theta} + l_{d} m_{d} \\cos{\\left(\\alpha + \\theta \\right)} \\dot{\\theta} + m_{t} x_{l} \\cos{\\left(\\alpha + \\theta \\right)} \\dot{\\theta} + 2 m_{t} \\sin{\\left(\\alpha + \\theta \\right)} \\dot{x}_{l}\\right) \\dot{\\theta}\\\\- m_{t} x_{l} \\dot{\\theta}^{2}\\\\2 m_{t} x_{l} \\dot{\\theta} \\dot{x}_{l}\\end{matrix}\\right], \\  \\left[\\begin{matrix}g \\left(m_{c} + m_{d} + m_{t} + m_{w}\\right) \\sin{\\left(\\alpha \\right)}\\\\- g m_{t} \\sin{\\left(\\theta \\right)}\\\\- g \\left(h_{c} m_{c} \\sin{\\left(\\theta \\right)} + h_{d} m_{d} \\sin{\\left(\\theta \\right)} + h_{t} m_{t} \\sin{\\left(\\theta \\right)} + l_{d} m_{d} \\cos{\\left(\\theta \\right)} + m_{t} x_{l} \\cos{\\left(\\theta \\right)}\\right)\\end{matrix}\\right], \\  \\left[\\begin{matrix}\\cos{\\left(\\alpha \\right)} & \\cos{\\left(\\alpha + \\theta \\right)}\\\\0 & 1\\\\0 & 0\\end{matrix}\\right]\\right)$"
      ],
      "text/plain": [
       "⎛⎡                                       2                                    \n",
       "⎜⎢                                I_w⋅cos (α)                                 \n",
       "⎜⎢                                ─────────── + m_c + m_d + mₜ + m_w          \n",
       "⎜⎢                                      2                                     \n",
       "⎜⎢                                     r                                      \n",
       "⎜⎢                                                                            \n",
       "⎜⎢                                          mₜ⋅cos(α + θ)                     \n",
       "⎜⎢                                                                            \n",
       "⎜⎢                                                                            \n",
       "⎝⎣h_c⋅m_c⋅cos(α + θ) + h_d⋅m_d⋅cos(α + θ) + hₜ⋅mₜ⋅cos(α + θ) - l_d⋅m_d⋅sin(α +\n",
       "\n",
       "                                                                              \n",
       "                                                                              \n",
       "                        mₜ⋅cos(α + θ)  h_c⋅m_c⋅cos(α + θ) + h_d⋅m_d⋅cos(α + θ)\n",
       "                                                                              \n",
       "                                                                              \n",
       "                                                                              \n",
       "                             mₜ                                               \n",
       "                                                                              \n",
       "                                                                        2     \n",
       " θ) - mₜ⋅xₗ⋅sin(α + θ)      hₜ⋅mₜ                         I_c + Iₜ + h_c ⋅m_c \n",
       "\n",
       "                                                           ⎤                  \n",
       "                                                           ⎥                  \n",
       " + hₜ⋅mₜ⋅cos(α + θ) - l_d⋅m_d⋅sin(α + θ) - mₜ⋅xₗ⋅sin(α + θ)⎥  ⎡-(h_c⋅m_c⋅sin(α\n",
       "                                                           ⎥  ⎢               \n",
       "                                                           ⎥  ⎢               \n",
       "                                                           ⎥, ⎢               \n",
       "       hₜ⋅mₜ                                               ⎥  ⎢               \n",
       "                                                           ⎥  ⎣               \n",
       "     2         2         2            2                    ⎥                  \n",
       "+ h_d ⋅m_d + hₜ ⋅mₜ + l_d ⋅m_d + mₜ⋅xₗ                     ⎦                  \n",
       "\n",
       "                                                                              \n",
       "                                                                              \n",
       " + θ)⋅θ̇ + h_d⋅m_d⋅sin(α + θ)⋅θ̇ + hₜ⋅mₜ⋅sin(α + θ)⋅θ̇ + l_d⋅m_d⋅cos(α + θ)⋅θ̇\n",
       "                                                                              \n",
       "                                                       2                      \n",
       "                                               -mₜ⋅xₗ⋅θ̇                      \n",
       "                                                                              \n",
       "                                              2⋅mₜ⋅xₗ⋅θ̇⋅xₗ̇                  \n",
       "                                                                              \n",
       "                                                                              \n",
       "\n",
       "                                                                              \n",
       "                                                                              \n",
       " + mₜ⋅xₗ⋅cos(α + θ)⋅θ̇ + 2⋅mₜ⋅sin(α + θ)⋅xₗ̇)⋅θ̇⎤                             \n",
       "                                         ⎥  ⎡                          g⋅(m_c \n",
       "                                         ⎥  ⎢                                 \n",
       "                                          ⎥, ⎢                                \n",
       "                                         ⎥  ⎢                                 \n",
       "                                           ⎦  ⎣-g⋅(h_c⋅m_c⋅sin(θ) + h_d⋅m_d⋅si\n",
       "                                                                              \n",
       "                                                                              \n",
       "\n",
       "                                                                         ⎞\n",
       "                                                                         ⎟\n",
       "                                                                              \n",
       "+ m_d + mₜ + m_w)⋅sin(α)                          ⎤  ⎡cos(α)  cos(α + θ)⎤⎟\n",
       "                                                  ⎥  ⎢                  ⎥⎟\n",
       "   -g⋅mₜ⋅sin(θ)                                    ⎥, ⎢  0         1     ⎥⎟\n",
       "                                                  ⎥  ⎢                  ⎥⎟\n",
       "n(θ) + hₜ⋅mₜ⋅sin(θ) + l_d⋅m_d⋅cos(θ) + mₜ⋅xₗ⋅cos(θ))⎦  ⎣  0         0     ⎦⎟\n",
       "                                                                         ⎟\n",
       "                                                                         ⎠"
      ]
     },
     "execution_count": 23,
     "metadata": {},
     "output_type": "execute_result"
    }
   ],
   "source": [
    "# Control Input Variable\n",
    "u = Matrix([[F], [F_l]])\n",
    "#u = Matrix([[F]])\n",
    "\n",
    "# Inverse Dynamics Equation\n",
    "# M(q)*qdd + C(q,qd) + G(q) = W*u\n",
    "M, C, G, W = get_EoM_from_T(inv_dyn,qdd,g,u)\n",
    "#M, C, G, W = get_EoM_from_T(inv_dyn_single,qdd,g,u)\n",
    "M, C, G, W"
   ]
  },
  {
   "cell_type": "code",
   "execution_count": 24,
   "metadata": {},
   "outputs": [
    {
     "data": {
      "text/latex": [
       "$\\displaystyle \\left[\\begin{matrix}g m_{c} \\sin{\\left(\\alpha \\right)} + g m_{d} \\sin{\\left(\\alpha \\right)} + g m_{t} \\sin{\\left(\\alpha \\right)} + g m_{w} \\sin{\\left(\\alpha \\right)} - F \\cos{\\left(\\alpha \\right)} - F_{l} \\cos{\\left(\\alpha \\right)}\\\\- F_{l}\\\\- g \\left(l_{d} m_{d} + m_{t} x_{l}\\right)\\end{matrix}\\right]$"
      ],
      "text/plain": [
       "⎡g⋅m_c⋅sin(α) + g⋅m_d⋅sin(α) + g⋅mₜ⋅sin(α) + g⋅m_w⋅sin(α) - F⋅cos(α) - Fₗ⋅cos(\n",
       "⎢                                                                             \n",
       "⎢                                      -Fₗ                                    \n",
       "⎢                                                                             \n",
       "⎣                             -g⋅(l_d⋅m_d + mₜ⋅xₗ)                            \n",
       "\n",
       "α)⎤\n",
       "  ⎥\n",
       "  ⎥\n",
       "  ⎥\n",
       "  ⎦"
      ]
     },
     "execution_count": 24,
     "metadata": {},
     "output_type": "execute_result"
    }
   ],
   "source": [
    "# Dummy Mass에 의해 md 추가시 평형상태 방정식\n",
    "ss_eq = {theta:0, theta.diff():0, theta.diff().diff():0, x.diff():0, x.diff().diff():0, x_l.diff():0, x_l.diff().diff():0}\n",
    "inv_dyn_ss0 = msubs(inv_dyn, ss_eq)\n",
    "\n",
    "inv_dyn_ss0"
   ]
  },
  {
   "cell_type": "code",
   "execution_count": 25,
   "metadata": {},
   "outputs": [
    {
     "data": {
      "text/latex": [
       "$\\displaystyle \\left[ \\frac{- g h_{c} m_{c} \\sin{\\left(\\theta \\right)} - g h_{d} m_{d} \\sin{\\left(\\theta \\right)} - g h_{t} m_{t} \\sin{\\left(\\theta \\right)} - g l_{d} m_{d} \\cos{\\left(\\theta \\right)} + h_{c} m_{c} \\cos{\\left(\\alpha + \\theta \\right)} \\ddot{x} + h_{d} m_{d} \\cos{\\left(\\alpha + \\theta \\right)} \\ddot{x} + h_{t} m_{t} \\cos{\\left(\\alpha + \\theta \\right)} \\ddot{x} - l_{d} m_{d} \\sin{\\left(\\alpha + \\theta \\right)} \\ddot{x}}{m_{t} \\left(g \\cos{\\left(\\theta \\right)} + \\sin{\\left(\\alpha + \\theta \\right)} \\ddot{x}\\right)}\\right]$"
      ],
      "text/plain": [
       "⎡-g⋅h_c⋅m_c⋅sin(θ) - g⋅h_d⋅m_d⋅sin(θ) - g⋅hₜ⋅mₜ⋅sin(θ) - g⋅l_d⋅m_d⋅cos(θ) + h_\n",
       "⎢─────────────────────────────────────────────────────────────────────────────\n",
       "⎣                                                                  mₜ⋅(g⋅cos(θ\n",
       "\n",
       "c⋅m_c⋅cos(α + θ)⋅ẍ + h_d⋅m_d⋅cos(α + θ)⋅ẍ + hₜ⋅mₜ⋅cos(α + θ)⋅ẍ - l_d⋅m_d⋅si\n",
       "──────────────────────────────────────────────────────────────────────────────\n",
       ") + sin(α + θ)⋅ẍ)                                                            \n",
       "\n",
       "n(α + θ)⋅ẍ⎤\n",
       "───────⎥\n",
       "       ⎦"
      ]
     },
     "execution_count": 25,
     "metadata": {},
     "output_type": "execute_result"
    }
   ],
   "source": [
    "# xl 래퍼런스\n",
    "ss_eq = {theta.diff():0, theta.diff().diff():0, x_l.diff():0, x_l.diff().diff():0}\n",
    "xl_dy = msubs(inv_dyn, ss_eq)\n",
    "\n",
    "solve(xl_dy[2], x_l)"
   ]
  },
  {
   "cell_type": "code",
   "execution_count": 26,
   "metadata": {},
   "outputs": [
    {
     "data": {
      "text/latex": [
       "$\\displaystyle \\left[ \\frac{- g l_{d} m_{d} + h_{t} m_{t} \\ddot{x} + \\left(h_{c} m_{c} + h_{d} m_{d}\\right) \\ddot{x}}{g m_{t}}\\right]$"
      ],
      "text/plain": [
       "⎡-g⋅l_d⋅m_d + hₜ⋅mₜ⋅ẍ + (h_c⋅m_c + h_d⋅m_d)⋅ẍ⎤\n",
       "⎢────────────────────────────────────────────⎥\n",
       "⎣                    g⋅mₜ                    ⎦"
      ]
     },
     "execution_count": 26,
     "metadata": {},
     "output_type": "execute_result"
    }
   ],
   "source": [
    "# 평지일경우\n",
    "# xl_dy = msubs(inv_dyn_ss0, {alpha:0, l_d:0.5, m_d:200, m_t:424.51})\n",
    "xl_dy2 = msubs(xl_dy, {alpha:0, theta:0})\n",
    "\n",
    "solve(xl_dy2[2], x_l)\n"
   ]
  },
  {
   "cell_type": "code",
   "execution_count": 27,
   "metadata": {},
   "outputs": [
    {
     "data": {
      "text/latex": [
       "$\\displaystyle \\left[ - \\frac{h_{c} m_{c} \\tan{\\left(\\theta \\right)} + h_{d} m_{d} \\tan{\\left(\\theta \\right)} + h_{t} m_{t} \\tan{\\left(\\theta \\right)} + l_{d} m_{d}}{m_{t}}\\right]$"
      ],
      "text/plain": [
       "⎡-(h_c⋅m_c⋅tan(θ) + h_d⋅m_d⋅tan(θ) + hₜ⋅mₜ⋅tan(θ) + l_d⋅m_d) ⎤\n",
       "⎢────────────────────────────────────────────────────────────⎥\n",
       "⎣                             mₜ                             ⎦"
      ]
     },
     "execution_count": 27,
     "metadata": {},
     "output_type": "execute_result"
    }
   ],
   "source": [
    "# 평지일경우\n",
    "# xl_dy = msubs(inv_dyn_ss0, {alpha:0, l_d:0.5, m_d:200, m_t:424.51})\n",
    "ss_eq2 = {theta.diff():0, theta.diff().diff():0, x.diff():0, x.diff().diff():0, x_l.diff():0, x_l.diff().diff():0}\n",
    "xl_dy2 = msubs(inv_dyn, ss_eq2)\n",
    "\n",
    "solve(xl_dy2[2], x_l)\n"
   ]
  },
  {
   "cell_type": "code",
   "execution_count": 28,
   "metadata": {},
   "outputs": [
    {
     "data": {
      "text/latex": [
       "$\\displaystyle \\left[ - \\frac{h_{c} m_{c} \\tan{\\left(\\alpha \\right)} + h_{d} m_{d} \\tan{\\left(\\alpha \\right)} + h_{t} m_{t} \\tan{\\left(\\alpha \\right)} + l_{d} m_{d}}{m_{t}}\\right]$"
      ],
      "text/plain": [
       "⎡-(h_c⋅m_c⋅tan(α) + h_d⋅m_d⋅tan(α) + hₜ⋅mₜ⋅tan(α) + l_d⋅m_d) ⎤\n",
       "⎢────────────────────────────────────────────────────────────⎥\n",
       "⎣                             mₜ                             ⎦"
      ]
     },
     "execution_count": 28,
     "metadata": {},
     "output_type": "execute_result"
    }
   ],
   "source": [
    "# 경사로에서 theta가 경사각도 alpha와 같게 하는 xl 값\n",
    "ss_eq = {theta:alpha, theta.diff():0, theta.diff().diff():0, x.diff():0, x.diff().diff():0, x_l.diff():0, x_l.diff().diff():0}\n",
    "inv_dyn_ss1 = msubs(inv_dyn, ss_eq)\n",
    "\n",
    "solve(inv_dyn_ss1[2], x_l)"
   ]
  },
  {
   "cell_type": "code",
   "execution_count": 41,
   "metadata": {},
   "outputs": [
    {
     "data": {
      "text/latex": [
       "$\\displaystyle \\left[ \\frac{- g h_{c} m_{c} \\sin{\\left(\\theta \\right)} - g h_{d} m_{d} \\sin{\\left(\\theta \\right)} - g h_{t} m_{t} \\sin{\\left(\\theta \\right)} - g l_{d} m_{d} \\cos{\\left(\\theta \\right)} + h_{c} m_{c} \\cos{\\left(\\alpha + \\theta \\right)} \\ddot{x} + h_{d} m_{d} \\cos{\\left(\\alpha + \\theta \\right)} \\ddot{x} + h_{t} m_{t} \\cos{\\left(\\alpha + \\theta \\right)} \\ddot{x} - l_{d} m_{d} \\sin{\\left(\\alpha + \\theta \\right)} \\ddot{x}}{m_{t} \\left(g \\cos{\\left(\\theta \\right)} + \\sin{\\left(\\alpha + \\theta \\right)} \\ddot{x}\\right)}\\right]$"
      ],
      "text/plain": [
       "⎡-g⋅h_c⋅m_c⋅sin(θ) - g⋅h_d⋅m_d⋅sin(θ) - g⋅hₜ⋅mₜ⋅sin(θ) - g⋅l_d⋅m_d⋅cos(θ) + h_\n",
       "⎢─────────────────────────────────────────────────────────────────────────────\n",
       "⎣                                                                  mₜ⋅(g⋅cos(θ\n",
       "\n",
       "c⋅m_c⋅cos(α + θ)⋅ẍ + h_d⋅m_d⋅cos(α + θ)⋅ẍ + hₜ⋅mₜ⋅cos(α + θ)⋅ẍ - l_d⋅m_d⋅si\n",
       "──────────────────────────────────────────────────────────────────────────────\n",
       ") + sin(α + θ)⋅ẍ)                                                            \n",
       "\n",
       "n(α + θ)⋅ẍ⎤\n",
       "───────⎥\n",
       "       ⎦"
      ]
     },
     "execution_count": 41,
     "metadata": {},
     "output_type": "execute_result"
    }
   ],
   "source": [
    "# 경사로에서 theta가 경사각도 alpha와 같게 하는 xl 값\n",
    "ss_eq = {theta.diff():0, theta.diff().diff():0, x.diff():0, x_l.diff():0, x_l.diff().diff():0}\n",
    "inv_dyn_ss1 = msubs(inv_dyn, ss_eq)\n",
    "\n",
    "solve(inv_dyn_ss1[2], x_l)"
   ]
  },
  {
   "cell_type": "code",
   "execution_count": 30,
   "metadata": {},
   "outputs": [
    {
     "data": {
      "text/latex": [
       "$\\displaystyle \\left[ - \\frac{h_{c} m_{c} \\tan{\\left(\\theta \\right)} + h_{d} m_{d} \\tan{\\left(\\theta \\right)} + h_{t} m_{t} \\tan{\\left(\\theta \\right)} + l_{d} m_{d}}{m_{t}}\\right]$"
      ],
      "text/plain": [
       "⎡-(h_c⋅m_c⋅tan(θ) + h_d⋅m_d⋅tan(θ) + hₜ⋅mₜ⋅tan(θ) + l_d⋅m_d) ⎤\n",
       "⎢────────────────────────────────────────────────────────────⎥\n",
       "⎣                             mₜ                             ⎦"
      ]
     },
     "execution_count": 30,
     "metadata": {},
     "output_type": "execute_result"
    }
   ],
   "source": [
    "solve(G[2], x_l)"
   ]
  },
  {
   "cell_type": "code",
   "execution_count": null,
   "metadata": {},
   "outputs": [],
   "source": []
  },
  {
   "cell_type": "code",
   "execution_count": 31,
   "metadata": {},
   "outputs": [
    {
     "data": {
      "text/latex": [
       "$\\displaystyle \\left( \\left[\\begin{matrix}362.015807376033 & 307.332 - 307.332 \\theta^{2} & 93.8271552454 - 93.8271552454 \\theta^{2}\\\\307.332 - 307.332 \\theta^{2} & 307.332 & 93.74855328\\\\93.8271552454 - 93.8271552454 \\theta^{2} & 93.74855328 & 205.134699245521\\end{matrix}\\right], \\  \\left[\\begin{matrix}0\\\\0\\\\0\\end{matrix}\\right], \\  \\left[\\begin{matrix}3513.0328092 \\theta\\\\- 3014.92692 \\theta\\\\- 920.444392957374 \\theta\\end{matrix}\\right], \\  \\left[\\begin{matrix}1 & 1 - \\theta^{2}\\\\0 & 1\\\\0 & 0\\end{matrix}\\right]\\right)$"
      ],
      "text/plain": [
       "⎛⎡                                                     2                      \n",
       "⎜⎢        362.015807376033          307.332 - 307.332⋅θ   93.8271552454 - 93.8\n",
       "⎜⎢                                                                            \n",
       "⎜⎢                         2                                                  \n",
       "⎜⎢      307.332 - 307.332⋅θ               307.332                   93.7485532\n",
       "⎜⎢                                                                            \n",
       "⎜⎢                               2                                            \n",
       "⎝⎣93.8271552454 - 93.8271552454⋅θ       93.74855328               205.13469924\n",
       "\n",
       "           2⎤                                         ⎞\n",
       "271552454⋅θ ⎥                              ⎡        2⎤⎟\n",
       "            ⎥  ⎡0⎤  ⎡  3513.0328092⋅θ   ⎤  ⎢1  1 - θ ⎥⎟\n",
       "            ⎥  ⎢ ⎥  ⎢                   ⎥  ⎢         ⎥⎟\n",
       "8           ⎥, ⎢0⎥, ⎢   -3014.92692⋅θ   ⎥, ⎢0    1   ⎥⎟\n",
       "            ⎥  ⎢ ⎥  ⎢                   ⎥  ⎢         ⎥⎟\n",
       "            ⎥  ⎣0⎦  ⎣-920.444392957374⋅θ⎦  ⎣0    0   ⎦⎟\n",
       "5521        ⎦                                         ⎠"
      ]
     },
     "execution_count": 31,
     "metadata": {},
     "output_type": "execute_result"
    }
   ],
   "source": [
    "# Linearized Model\n",
    "Ml, Cl, Gl, Wl = get_EoM_from_T(inv_dyn_linear,qdd,g,u)\n",
    "\n",
    "Mlp = msubs(Ml, param)\n",
    "Clp = msubs(Cl, param)\n",
    "Glp = msubs(Gl, param)\n",
    "Wlp = msubs(Wl, param)\n",
    "Mlp, Clp, Glp, Wlp"
   ]
  },
  {
   "cell_type": "code",
   "execution_count": 32,
   "metadata": {},
   "outputs": [
    {
     "data": {
      "text/latex": [
       "$\\displaystyle \\left( \\left[\\begin{matrix}\\frac{I_{w}}{r^{2}} + m_{c} + m_{t} + m_{w} & m_{t} & h_{c} m_{c} + h_{t} m_{t}\\\\m_{t} & m_{t} & h_{t} m_{t}\\\\h_{c} m_{c} + h_{t} m_{t} & h_{t} m_{t} & I_{c} + I_{t} + h_{c}^{2} m_{c} + h_{t}^{2} m_{t}\\end{matrix}\\right], \\  \\left[\\begin{matrix}0\\\\0\\\\0\\end{matrix}\\right], \\  \\left[\\begin{matrix}g \\left(m_{c} + m_{t} + m_{w}\\right) \\theta\\\\- g m_{t} \\theta\\\\- g \\left(h_{c} m_{c} \\theta + h_{t} m_{t} \\theta\\right)\\end{matrix}\\right], \\  \\left[\\begin{matrix}1 & 1\\\\0 & 1\\\\0 & 0\\end{matrix}\\right]\\right)$"
      ],
      "text/plain": [
       "⎛⎡I_w                                                      ⎤                  \n",
       "⎜⎢─── + m_c + mₜ + m_w   mₜ          h_c⋅m_c + hₜ⋅mₜ       ⎥                  \n",
       "⎜⎢  2                                                      ⎥  ⎡0⎤  ⎡  g⋅(m_c +\n",
       "⎜⎢ r                                                       ⎥  ⎢ ⎥  ⎢          \n",
       "⎜⎢                                                         ⎥, ⎢0⎥, ⎢        -g\n",
       "⎜⎢         mₜ            mₜ               hₜ⋅mₜ            ⎥  ⎢ ⎥  ⎢          \n",
       "⎜⎢                                                         ⎥  ⎣0⎦  ⎣-g⋅(h_c⋅m_\n",
       "⎜⎢                                           2         2   ⎥                  \n",
       "⎝⎣  h_c⋅m_c + hₜ⋅mₜ     hₜ⋅mₜ  I_c + Iₜ + h_c ⋅m_c + hₜ ⋅mₜ⎦                  \n",
       "\n",
       "                       ⎞\n",
       "                       ⎟\n",
       " mₜ + m_w)⋅θ  ⎤  ⎡1  1⎤⎟\n",
       "              ⎥  ⎢    ⎥⎟\n",
       "⋅mₜ⋅θ         ⎥, ⎢0  1⎥⎟\n",
       "              ⎥  ⎢    ⎥⎟\n",
       "c⋅θ + hₜ⋅mₜ⋅θ)⎦  ⎣0  0⎦⎟\n",
       "                       ⎟\n",
       "                       ⎠"
      ]
     },
     "execution_count": 32,
     "metadata": {},
     "output_type": "execute_result"
    }
   ],
   "source": [
    "# Linearized Model\n",
    "linearlize_eq1 = {alpha:theta}\n",
    "linearlize_eq2 = {sin(2*theta):theta, cos(2*theta):1, sin(theta):theta, cos(theta):1, theta.diff():0, x_l.diff():0, x_l:0, m_d:0, l_d:0}\n",
    "\n",
    "Ml =M.subs(linearlize_eq1)\n",
    "Cl =C.subs(linearlize_eq1)\n",
    "Gl =G.subs(linearlize_eq1)\n",
    "Wl =W.subs(linearlize_eq1)\n",
    "# Ml, Cl, Gl, Wl\n",
    "\n",
    "Mlp = Ml.subs(linearlize_eq2)\n",
    "Clp = Cl.subs(linearlize_eq2)\n",
    "Glp = Gl.subs(linearlize_eq2)\n",
    "Wlp = Wl.subs(linearlize_eq2)\n",
    "Mlp, Clp, Glp, Wlp"
   ]
  },
  {
   "cell_type": "code",
   "execution_count": 33,
   "metadata": {},
   "outputs": [
    {
     "data": {
      "text/latex": [
       "$\\displaystyle \\left( \\left[\\begin{matrix}362.015807376033 & 307.332 & 93.8271552454\\\\307.332 & 307.332 & 93.74855328\\\\93.8271552454 & 93.74855328 & 205.134699245521\\end{matrix}\\right], \\  \\left[\\begin{matrix}0\\\\0\\\\0\\end{matrix}\\right], \\  \\left[\\begin{matrix}3513.0328092 \\theta\\\\- 3014.92692 \\theta\\\\- 920.444392957374 \\theta\\end{matrix}\\right], \\  \\left[\\begin{matrix}1 & 1\\\\0 & 1\\\\0 & 0\\end{matrix}\\right]\\right)$"
      ],
      "text/plain": [
       "⎛⎡362.015807376033    307.332     93.8271552454  ⎤  ⎡0⎤  ⎡  3513.0328092⋅θ   ⎤\n",
       "⎜⎢                                               ⎥  ⎢ ⎥  ⎢                   ⎥\n",
       "⎜⎢    307.332         307.332      93.74855328   ⎥, ⎢0⎥, ⎢   -3014.92692⋅θ   ⎥\n",
       "⎜⎢                                               ⎥  ⎢ ⎥  ⎢                   ⎥\n",
       "⎝⎣ 93.8271552454    93.74855328  205.134699245521⎦  ⎣0⎦  ⎣-920.444392957374⋅θ⎦\n",
       "\n",
       "  ⎡1  1⎤⎞\n",
       "  ⎢    ⎥⎟\n",
       ", ⎢0  1⎥⎟\n",
       "  ⎢    ⎥⎟\n",
       "  ⎣0  0⎦⎠"
      ]
     },
     "execution_count": 33,
     "metadata": {},
     "output_type": "execute_result"
    }
   ],
   "source": [
    "Mlp = msubs(Mlp, param)\n",
    "Clp = msubs(Clp, param)\n",
    "Glp = msubs(Glp, param)\n",
    "Wlp = msubs(Wlp, param)\n",
    "Mlp, Clp, Glp, Wlp"
   ]
  },
  {
   "cell_type": "code",
   "execution_count": 34,
   "metadata": {},
   "outputs": [
    {
     "data": {
      "text/latex": [
       "$\\displaystyle \\left( \\left[\\begin{matrix}- 119.376549724096 \\theta\\\\129.169004045112 \\theta\\\\0.057519272829003 \\theta\\end{matrix}\\right], \\  \\left[\\begin{matrix}0.0182869607653745 F + 2.4836729819247 \\cdot 10^{-6} F_{l}\\\\- 0.0182844770923926 F + 0.00377840654765642 F_{l}\\\\- 8.14212228535614 \\cdot 10^{-6} F - 0.00172790456622205 F_{l}\\end{matrix}\\right]\\right)$"
      ],
      "text/plain": [
       "⎛⎡-119.376549724096⋅θ⎤  ⎡ 0.0182869607653745⋅F + 2.4836729819247e-6⋅Fₗ  ⎤⎞\n",
       "⎜⎢                   ⎥  ⎢                                               ⎥⎟\n",
       "⎜⎢129.169004045112⋅θ ⎥, ⎢-0.0182844770923926⋅F + 0.00377840654765642⋅Fₗ ⎥⎟\n",
       "⎜⎢                   ⎥  ⎢                                               ⎥⎟\n",
       "⎝⎣0.057519272829003⋅θ⎦  ⎣-8.14212228535614e-6⋅F - 0.00172790456622205⋅Fₗ⎦⎠"
      ]
     },
     "execution_count": 34,
     "metadata": {},
     "output_type": "execute_result"
    }
   ],
   "source": [
    "# Forward Dynamics eqation\n",
    "# qdd = M(q)^-1 * ( -C(q,qd) - G(q) + W*u )\n",
    "Mlp_inv = simplify(Mlp.inv())\n",
    "qdd_rhs_A = simplify(Mlp_inv*(-Clp -Glp))\n",
    "qdd_rhs_B = simplify(Mlp_inv*Wlp*u)\n",
    "qdd_rhs_A, qdd_rhs_B"
   ]
  },
  {
   "cell_type": "code",
   "execution_count": 35,
   "metadata": {},
   "outputs": [],
   "source": [
    "# # Nonlinear Dynamics Model\n",
    "# Mp = msubs(M, param)\n",
    "# Cp = msubs(C, param)\n",
    "# Gp = msubs(G, param)\n",
    "# Wp = msubs(W, param)\n",
    "# Mp, Cp, Gp, Wp"
   ]
  },
  {
   "cell_type": "code",
   "execution_count": 36,
   "metadata": {},
   "outputs": [],
   "source": [
    "# # Forward Dynamics eqation\n",
    "# # qdd = M(q)^-1 * ( -C(q,qd) - G(q) + W*u )\n",
    "# Mp_inv = (Mp.inv())\n",
    "# qdd_rhs_A_nonL = (Mp_inv*(-Cp -Gp))\n",
    "# qdd_rhs_B_nonL = (Mp_inv*Wp*u)\n",
    "# qdd_rhs_A_nonL,qdd_rhs_B_nonL"
   ]
  },
  {
   "cell_type": "code",
   "execution_count": 37,
   "metadata": {},
   "outputs": [
    {
     "data": {
      "text/latex": [
       "$\\displaystyle \\left( \\left[\\begin{matrix}x\\\\x_{l}\\\\\\theta\\\\\\dot{x}\\\\\\dot{x}_{l}\\\\\\dot{\\theta}\\end{matrix}\\right], \\  \\left[\\begin{matrix}F\\\\F_{l}\\end{matrix}\\right], \\  \\left[\\begin{matrix}\\dot{x}\\\\\\dot{x}_{l}\\\\\\dot{\\theta}\\\\- 119.376549724096 \\theta\\\\129.169004045112 \\theta\\\\0.057519272829003 \\theta\\end{matrix}\\right], \\  \\left[\\begin{matrix}\\dot{x}\\\\\\dot{x}_{l}\\\\\\dot{\\theta}\\\\0.0182869607653745 F + 2.4836729819247 \\cdot 10^{-6} F_{l}\\\\- 0.0182844770923926 F + 0.00377840654765642 F_{l}\\\\- 8.14212228535614 \\cdot 10^{-6} F - 0.00172790456622205 F_{l}\\end{matrix}\\right]\\right)$"
      ],
      "text/plain": [
       "⎛⎡x ⎤        ⎡         ẋ         ⎤  ⎡                       ẋ               \n",
       "⎜⎢  ⎥        ⎢                   ⎥  ⎢                                         \n",
       "⎜⎢xₗ⎥        ⎢        xₗ̇         ⎥  ⎢                      xₗ̇               \n",
       "⎜⎢  ⎥        ⎢                   ⎥  ⎢                                         \n",
       "⎜⎢θ ⎥  ⎡F ⎤  ⎢         θ̇         ⎥  ⎢                       θ̇               \n",
       "⎜⎢  ⎥, ⎢  ⎥, ⎢                   ⎥, ⎢                                         \n",
       "⎜⎢ẋ ⎥  ⎣Fₗ⎦  ⎢-119.376549724096⋅θ⎥  ⎢ 0.0182869607653745⋅F + 2.4836729819247e\n",
       "⎜⎢  ⎥        ⎢                   ⎥  ⎢                                         \n",
       "⎜⎢xₗ̇⎥        ⎢129.169004045112⋅θ ⎥  ⎢-0.0182844770923926⋅F + 0.00377840654765\n",
       "⎜⎢  ⎥        ⎢                   ⎥  ⎢                                         \n",
       "⎝⎣θ̇ ⎦        ⎣0.057519272829003⋅θ⎦  ⎣-8.14212228535614e-6⋅F - 0.0017279045662\n",
       "\n",
       "        ⎤⎞\n",
       "      ⎥⎟\n",
       "        ⎥⎟\n",
       "      ⎥⎟\n",
       "        ⎥⎟\n",
       "      ⎥⎟\n",
       "-6⋅Fₗ  ⎥⎟\n",
       "      ⎥⎟\n",
       "642⋅Fₗ ⎥⎟\n",
       "      ⎥⎟\n",
       "2205⋅Fₗ⎦⎠"
      ]
     },
     "execution_count": 37,
     "metadata": {},
     "output_type": "execute_result"
    }
   ],
   "source": [
    "# State-space equation. \n",
    "X = q.col_join(qd)\n",
    "Xd_A = qd.col_join(qdd_rhs_A)\n",
    "Xd_B = qd.col_join(qdd_rhs_B)\n",
    "U = u\n",
    "X, U, Xd_A, Xd_B"
   ]
  },
  {
   "cell_type": "code",
   "execution_count": 38,
   "metadata": {},
   "outputs": [
    {
     "data": {
      "text/latex": [
       "$\\displaystyle \\left( \\left[\\begin{matrix}0 & 0 & 0 & 1 & 0 & 0\\\\0 & 0 & 0 & 0 & 1 & 0\\\\0 & 0 & 0 & 0 & 0 & 1\\\\0 & 0 & -119.376549724096 & 0 & 0 & 0\\\\0 & 0 & 129.169004045112 & 0 & 0 & 0\\\\0 & 0 & 0.057519272829003 & 0 & 0 & 0\\end{matrix}\\right], \\  \\left[\\begin{matrix}0 & 0\\\\0 & 0\\\\0 & 0\\\\0.0182869607653745 & 2.4836729819247 \\cdot 10^{-6}\\\\-0.0182844770923926 & 0.00377840654765642\\\\-8.14212228535614 \\cdot 10^{-6} & -0.00172790456622205\\end{matrix}\\right], \\  \\left[\\begin{matrix}1 & 0 & 0 & 0 & 0 & 0\\\\0 & 1 & 0 & 0 & 0 & 0\\\\0 & 0 & 1 & 0 & 0 & 0\\\\0 & 0 & 0 & 1 & 0 & 0\\\\0 & 0 & 0 & 0 & 1 & 0\\\\0 & 0 & 0 & 0 & 0 & 1\\end{matrix}\\right], \\  \\left[\\begin{matrix}0 & 0\\\\0 & 0\\\\0 & 0\\\\0 & 0\\\\0 & 0\\\\0 & 0\\end{matrix}\\right]\\right)$"
      ],
      "text/plain": [
       "⎛⎡0  0          0          1  0  0⎤  ⎡         0                     0        \n",
       "⎜⎢                                ⎥  ⎢                                        \n",
       "⎜⎢0  0          0          0  1  0⎥  ⎢         0                     0        \n",
       "⎜⎢                                ⎥  ⎢                                        \n",
       "⎜⎢0  0          0          0  0  1⎥  ⎢         0                     0        \n",
       "⎜⎢                                ⎥, ⎢                                        \n",
       "⎜⎢0  0  -119.376549724096  0  0  0⎥  ⎢ 0.0182869607653745    2.4836729819247e-\n",
       "⎜⎢                                ⎥  ⎢                                        \n",
       "⎜⎢0  0  129.169004045112   0  0  0⎥  ⎢-0.0182844770923926   0.0037784065476564\n",
       "⎜⎢                                ⎥  ⎢                                        \n",
       "⎝⎣0  0  0.057519272829003  0  0  0⎦  ⎣-8.14212228535614e-6  -0.001727904566222\n",
       "\n",
       "  ⎤  ⎡1  0  0  0  0  0⎤  ⎡0  0⎤⎞\n",
       "  ⎥  ⎢                ⎥  ⎢    ⎥⎟\n",
       "  ⎥  ⎢0  1  0  0  0  0⎥  ⎢0  0⎥⎟\n",
       "  ⎥  ⎢                ⎥  ⎢    ⎥⎟\n",
       "  ⎥  ⎢0  0  1  0  0  0⎥  ⎢0  0⎥⎟\n",
       "  ⎥, ⎢                ⎥, ⎢    ⎥⎟\n",
       "6 ⎥  ⎢0  0  0  1  0  0⎥  ⎢0  0⎥⎟\n",
       "  ⎥  ⎢                ⎥  ⎢    ⎥⎟\n",
       "2 ⎥  ⎢0  0  0  0  1  0⎥  ⎢0  0⎥⎟\n",
       "  ⎥  ⎢                ⎥  ⎢    ⎥⎟\n",
       "05⎦  ⎣0  0  0  0  0  1⎦  ⎣0  0⎦⎠"
      ]
     },
     "execution_count": 38,
     "metadata": {},
     "output_type": "execute_result"
    }
   ],
   "source": [
    "# State-space equation\n",
    "A = simplify(Xd_A.jacobian(X))\n",
    "B = simplify(Xd_B.jacobian(U))\n",
    "C = simplify(X.jacobian(X))\n",
    "D = simplify(X.jacobian(U))\n",
    "A, B, C, D"
   ]
  },
  {
   "cell_type": "code",
   "execution_count": 39,
   "metadata": {},
   "outputs": [
    {
     "data": {
      "text/plain": [
       "array([[0, 0, 0, 1, 0, 0],\n",
       "       [0, 0, 0, 0, 1, 0],\n",
       "       [0, 0, 0, 0, 0, 1],\n",
       "       [0, 0, -119.376549724096, 0, 0, 0],\n",
       "       [0, 0, 129.169004045112, 0, 0, 0],\n",
       "       [0, 0, 0.0575192728290030, 0, 0, 0]], dtype=object)"
      ]
     },
     "execution_count": 39,
     "metadata": {},
     "output_type": "execute_result"
    }
   ],
   "source": [
    "np.array(A)"
   ]
  },
  {
   "cell_type": "code",
   "execution_count": 40,
   "metadata": {},
   "outputs": [
    {
     "data": {
      "text/plain": [
       "array([[0, 0],\n",
       "       [0, 0],\n",
       "       [0, 0],\n",
       "       [0.0182869607653745, 2.48367298192470e-6],\n",
       "       [-0.0182844770923926, 0.00377840654765642],\n",
       "       [-8.14212228535614e-6, -0.00172790456622205]], dtype=object)"
      ]
     },
     "execution_count": 40,
     "metadata": {},
     "output_type": "execute_result"
    }
   ],
   "source": [
    "np.array(B)"
   ]
  },
  {
   "cell_type": "code",
   "execution_count": null,
   "metadata": {},
   "outputs": [],
   "source": []
  }
 ],
 "metadata": {
  "kernelspec": {
   "display_name": "Python 3 (ipykernel)",
   "language": "python",
   "name": "python3"
  },
  "language_info": {
   "codemirror_mode": {
    "name": "ipython",
    "version": 3
   },
   "file_extension": ".py",
   "mimetype": "text/x-python",
   "name": "python",
   "nbconvert_exporter": "python",
   "pygments_lexer": "ipython3",
   "version": "3.9.13"
  },
  "vscode": {
   "interpreter": {
    "hash": "916dbcbb3f70747c44a77c7bcd40155683ae19c65e1c03b4aa3499c5328201f1"
   }
  }
 },
 "nbformat": 4,
 "nbformat_minor": 4
}
